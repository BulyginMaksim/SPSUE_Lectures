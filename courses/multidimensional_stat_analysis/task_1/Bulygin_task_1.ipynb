{
 "cells": [
  {
   "cell_type": "markdown",
   "id": "9ab4a456",
   "metadata": {},
   "source": [
    "### Student: Bulygin Maksim\n",
    "### Group: E-1813"
   ]
  },
  {
   "cell_type": "code",
   "execution_count": 1,
   "id": "07bc939b",
   "metadata": {},
   "outputs": [],
   "source": [
    "from collections import deque\n",
    "import warnings\n",
    "warnings.filterwarnings(\"ignore\")\n",
    "\n",
    "import pandas as pd\n",
    "import numpy as np\n",
    "\n",
    "import matplotlib.pyplot as plt\n",
    "import matplotlib.ticker\n",
    "%matplotlib inline\n",
    "import seaborn as sns\n",
    "\n",
    "from sklearn.ensemble import IsolationForest\n",
    "from sklearn.neighbors import LocalOutlierFactor, KDTree\n",
    "from sklearn.cluster import KMeans\n",
    "from sklearn.metrics import silhouette_score, confusion_matrix, classification_report\n",
    "from sklearn.preprocessing import (\n",
    "    OneHotEncoder, \n",
    "    OrdinalEncoder, \n",
    "    StandardScaler, \n",
    "    MinMaxScaler\n",
    ")\n",
    "from sklearn.compose import ColumnTransformer\n",
    "from sklearn.pipeline import Pipeline\n",
    "from sklearn.decomposition import PCA\n",
    "from sklearn.manifold import TSNE\n",
    "\n",
    "from umap import UMAP"
   ]
  },
  {
   "cell_type": "markdown",
   "id": "0232cc64",
   "metadata": {},
   "source": [
    "# Explory data analysis (EDA)"
   ]
  },
  {
   "cell_type": "markdown",
   "id": "0bbbc49d",
   "metadata": {},
   "source": [
    "## Data reading"
   ]
  },
  {
   "cell_type": "markdown",
   "id": "6e8b8c2e",
   "metadata": {},
   "source": [
    "Загружаем данные и убеждаемся, что они правильно считались."
   ]
  },
  {
   "cell_type": "code",
   "execution_count": 2,
   "id": "0ee56b63",
   "metadata": {},
   "outputs": [],
   "source": [
    "df = pd.read_csv('data.csv')"
   ]
  },
  {
   "cell_type": "code",
   "execution_count": 3,
   "id": "aa34e0f9",
   "metadata": {},
   "outputs": [
    {
     "data": {
      "text/html": [
       "<div>\n",
       "<style scoped>\n",
       "    .dataframe tbody tr th:only-of-type {\n",
       "        vertical-align: middle;\n",
       "    }\n",
       "\n",
       "    .dataframe tbody tr th {\n",
       "        vertical-align: top;\n",
       "    }\n",
       "\n",
       "    .dataframe thead th {\n",
       "        text-align: right;\n",
       "    }\n",
       "</style>\n",
       "<table border=\"1\" class=\"dataframe\">\n",
       "  <thead>\n",
       "    <tr style=\"text-align: right;\">\n",
       "      <th></th>\n",
       "      <th>SalePrice</th>\n",
       "      <th>MSZoning</th>\n",
       "      <th>LotArea</th>\n",
       "      <th>Utilities</th>\n",
       "      <th>Condition1</th>\n",
       "      <th>Condition2</th>\n",
       "      <th>OverallQual</th>\n",
       "      <th>OverallCond</th>\n",
       "      <th>YearBuilt</th>\n",
       "      <th>YearRemodAdd</th>\n",
       "      <th>...</th>\n",
       "      <th>Fireplaces</th>\n",
       "      <th>FireplaceQu</th>\n",
       "      <th>GarageArea</th>\n",
       "      <th>GarageQual</th>\n",
       "      <th>GarageCond</th>\n",
       "      <th>PoolArea</th>\n",
       "      <th>PoolQC</th>\n",
       "      <th>Fence</th>\n",
       "      <th>MiscFeature</th>\n",
       "      <th>MiscVal</th>\n",
       "    </tr>\n",
       "  </thead>\n",
       "  <tbody>\n",
       "    <tr>\n",
       "      <th>0</th>\n",
       "      <td>208500</td>\n",
       "      <td>RL</td>\n",
       "      <td>8450</td>\n",
       "      <td>AllPub</td>\n",
       "      <td>Norm</td>\n",
       "      <td>Norm</td>\n",
       "      <td>7</td>\n",
       "      <td>5</td>\n",
       "      <td>2003</td>\n",
       "      <td>2003</td>\n",
       "      <td>...</td>\n",
       "      <td>0</td>\n",
       "      <td>NaN</td>\n",
       "      <td>548</td>\n",
       "      <td>TA</td>\n",
       "      <td>TA</td>\n",
       "      <td>0</td>\n",
       "      <td>NaN</td>\n",
       "      <td>NaN</td>\n",
       "      <td>NaN</td>\n",
       "      <td>0</td>\n",
       "    </tr>\n",
       "    <tr>\n",
       "      <th>1</th>\n",
       "      <td>181500</td>\n",
       "      <td>RL</td>\n",
       "      <td>9600</td>\n",
       "      <td>AllPub</td>\n",
       "      <td>Feedr</td>\n",
       "      <td>Norm</td>\n",
       "      <td>6</td>\n",
       "      <td>8</td>\n",
       "      <td>1976</td>\n",
       "      <td>1976</td>\n",
       "      <td>...</td>\n",
       "      <td>1</td>\n",
       "      <td>TA</td>\n",
       "      <td>460</td>\n",
       "      <td>TA</td>\n",
       "      <td>TA</td>\n",
       "      <td>0</td>\n",
       "      <td>NaN</td>\n",
       "      <td>NaN</td>\n",
       "      <td>NaN</td>\n",
       "      <td>0</td>\n",
       "    </tr>\n",
       "    <tr>\n",
       "      <th>2</th>\n",
       "      <td>223500</td>\n",
       "      <td>RL</td>\n",
       "      <td>11250</td>\n",
       "      <td>AllPub</td>\n",
       "      <td>Norm</td>\n",
       "      <td>Norm</td>\n",
       "      <td>7</td>\n",
       "      <td>5</td>\n",
       "      <td>2001</td>\n",
       "      <td>2002</td>\n",
       "      <td>...</td>\n",
       "      <td>1</td>\n",
       "      <td>TA</td>\n",
       "      <td>608</td>\n",
       "      <td>TA</td>\n",
       "      <td>TA</td>\n",
       "      <td>0</td>\n",
       "      <td>NaN</td>\n",
       "      <td>NaN</td>\n",
       "      <td>NaN</td>\n",
       "      <td>0</td>\n",
       "    </tr>\n",
       "    <tr>\n",
       "      <th>3</th>\n",
       "      <td>140000</td>\n",
       "      <td>RL</td>\n",
       "      <td>9550</td>\n",
       "      <td>AllPub</td>\n",
       "      <td>Norm</td>\n",
       "      <td>Norm</td>\n",
       "      <td>7</td>\n",
       "      <td>5</td>\n",
       "      <td>1915</td>\n",
       "      <td>1970</td>\n",
       "      <td>...</td>\n",
       "      <td>1</td>\n",
       "      <td>Gd</td>\n",
       "      <td>642</td>\n",
       "      <td>TA</td>\n",
       "      <td>TA</td>\n",
       "      <td>0</td>\n",
       "      <td>NaN</td>\n",
       "      <td>NaN</td>\n",
       "      <td>NaN</td>\n",
       "      <td>0</td>\n",
       "    </tr>\n",
       "    <tr>\n",
       "      <th>4</th>\n",
       "      <td>250000</td>\n",
       "      <td>RL</td>\n",
       "      <td>14260</td>\n",
       "      <td>AllPub</td>\n",
       "      <td>Norm</td>\n",
       "      <td>Norm</td>\n",
       "      <td>8</td>\n",
       "      <td>5</td>\n",
       "      <td>2000</td>\n",
       "      <td>2000</td>\n",
       "      <td>...</td>\n",
       "      <td>1</td>\n",
       "      <td>TA</td>\n",
       "      <td>836</td>\n",
       "      <td>TA</td>\n",
       "      <td>TA</td>\n",
       "      <td>0</td>\n",
       "      <td>NaN</td>\n",
       "      <td>NaN</td>\n",
       "      <td>NaN</td>\n",
       "      <td>0</td>\n",
       "    </tr>\n",
       "  </tbody>\n",
       "</table>\n",
       "<p>5 rows × 37 columns</p>\n",
       "</div>"
      ],
      "text/plain": [
       "   SalePrice MSZoning  LotArea Utilities Condition1 Condition2  OverallQual  \\\n",
       "0     208500       RL     8450    AllPub       Norm       Norm            7   \n",
       "1     181500       RL     9600    AllPub      Feedr       Norm            6   \n",
       "2     223500       RL    11250    AllPub       Norm       Norm            7   \n",
       "3     140000       RL     9550    AllPub       Norm       Norm            7   \n",
       "4     250000       RL    14260    AllPub       Norm       Norm            8   \n",
       "\n",
       "   OverallCond  YearBuilt  YearRemodAdd  ... Fireplaces FireplaceQu  \\\n",
       "0            5       2003          2003  ...          0         NaN   \n",
       "1            8       1976          1976  ...          1          TA   \n",
       "2            5       2001          2002  ...          1          TA   \n",
       "3            5       1915          1970  ...          1          Gd   \n",
       "4            5       2000          2000  ...          1          TA   \n",
       "\n",
       "  GarageArea GarageQual GarageCond PoolArea PoolQC Fence MiscFeature  MiscVal  \n",
       "0        548         TA         TA        0    NaN   NaN         NaN        0  \n",
       "1        460         TA         TA        0    NaN   NaN         NaN        0  \n",
       "2        608         TA         TA        0    NaN   NaN         NaN        0  \n",
       "3        642         TA         TA        0    NaN   NaN         NaN        0  \n",
       "4        836         TA         TA        0    NaN   NaN         NaN        0  \n",
       "\n",
       "[5 rows x 37 columns]"
      ]
     },
     "execution_count": 3,
     "metadata": {},
     "output_type": "execute_result"
    }
   ],
   "source": [
    "df.head()"
   ]
  },
  {
   "cell_type": "code",
   "execution_count": 4,
   "id": "6a6621ba",
   "metadata": {},
   "outputs": [
    {
     "data": {
      "text/html": [
       "<div>\n",
       "<style scoped>\n",
       "    .dataframe tbody tr th:only-of-type {\n",
       "        vertical-align: middle;\n",
       "    }\n",
       "\n",
       "    .dataframe tbody tr th {\n",
       "        vertical-align: top;\n",
       "    }\n",
       "\n",
       "    .dataframe thead th {\n",
       "        text-align: right;\n",
       "    }\n",
       "</style>\n",
       "<table border=\"1\" class=\"dataframe\">\n",
       "  <thead>\n",
       "    <tr style=\"text-align: right;\">\n",
       "      <th></th>\n",
       "      <th>SalePrice</th>\n",
       "      <th>LotArea</th>\n",
       "      <th>OverallQual</th>\n",
       "      <th>OverallCond</th>\n",
       "      <th>YearBuilt</th>\n",
       "      <th>YearRemodAdd</th>\n",
       "      <th>TotalBsmtSF</th>\n",
       "      <th>GrLivArea</th>\n",
       "      <th>BedroomAbvGr</th>\n",
       "      <th>KitchenAbvGr</th>\n",
       "      <th>TotRmsAbvGrd</th>\n",
       "      <th>Fireplaces</th>\n",
       "      <th>GarageArea</th>\n",
       "      <th>PoolArea</th>\n",
       "      <th>MiscVal</th>\n",
       "    </tr>\n",
       "  </thead>\n",
       "  <tbody>\n",
       "    <tr>\n",
       "      <th>count</th>\n",
       "      <td>1460.000000</td>\n",
       "      <td>1460.000000</td>\n",
       "      <td>1460.000000</td>\n",
       "      <td>1460.000000</td>\n",
       "      <td>1460.000000</td>\n",
       "      <td>1460.000000</td>\n",
       "      <td>1460.000000</td>\n",
       "      <td>1460.000000</td>\n",
       "      <td>1460.000000</td>\n",
       "      <td>1460.000000</td>\n",
       "      <td>1460.000000</td>\n",
       "      <td>1460.000000</td>\n",
       "      <td>1460.000000</td>\n",
       "      <td>1460.000000</td>\n",
       "      <td>1460.000000</td>\n",
       "    </tr>\n",
       "    <tr>\n",
       "      <th>mean</th>\n",
       "      <td>180921.195890</td>\n",
       "      <td>10516.828082</td>\n",
       "      <td>6.099315</td>\n",
       "      <td>5.575342</td>\n",
       "      <td>1971.267808</td>\n",
       "      <td>1984.865753</td>\n",
       "      <td>1057.429452</td>\n",
       "      <td>1515.463699</td>\n",
       "      <td>2.866438</td>\n",
       "      <td>1.046575</td>\n",
       "      <td>6.517808</td>\n",
       "      <td>0.613014</td>\n",
       "      <td>472.980137</td>\n",
       "      <td>2.758904</td>\n",
       "      <td>43.489041</td>\n",
       "    </tr>\n",
       "    <tr>\n",
       "      <th>std</th>\n",
       "      <td>79442.502883</td>\n",
       "      <td>9981.264932</td>\n",
       "      <td>1.382997</td>\n",
       "      <td>1.112799</td>\n",
       "      <td>30.202904</td>\n",
       "      <td>20.645407</td>\n",
       "      <td>438.705324</td>\n",
       "      <td>525.480383</td>\n",
       "      <td>0.815778</td>\n",
       "      <td>0.220338</td>\n",
       "      <td>1.625393</td>\n",
       "      <td>0.644666</td>\n",
       "      <td>213.804841</td>\n",
       "      <td>40.177307</td>\n",
       "      <td>496.123024</td>\n",
       "    </tr>\n",
       "    <tr>\n",
       "      <th>min</th>\n",
       "      <td>34900.000000</td>\n",
       "      <td>1300.000000</td>\n",
       "      <td>1.000000</td>\n",
       "      <td>1.000000</td>\n",
       "      <td>1872.000000</td>\n",
       "      <td>1950.000000</td>\n",
       "      <td>0.000000</td>\n",
       "      <td>334.000000</td>\n",
       "      <td>0.000000</td>\n",
       "      <td>0.000000</td>\n",
       "      <td>2.000000</td>\n",
       "      <td>0.000000</td>\n",
       "      <td>0.000000</td>\n",
       "      <td>0.000000</td>\n",
       "      <td>0.000000</td>\n",
       "    </tr>\n",
       "    <tr>\n",
       "      <th>25%</th>\n",
       "      <td>129975.000000</td>\n",
       "      <td>7553.500000</td>\n",
       "      <td>5.000000</td>\n",
       "      <td>5.000000</td>\n",
       "      <td>1954.000000</td>\n",
       "      <td>1967.000000</td>\n",
       "      <td>795.750000</td>\n",
       "      <td>1129.500000</td>\n",
       "      <td>2.000000</td>\n",
       "      <td>1.000000</td>\n",
       "      <td>5.000000</td>\n",
       "      <td>0.000000</td>\n",
       "      <td>334.500000</td>\n",
       "      <td>0.000000</td>\n",
       "      <td>0.000000</td>\n",
       "    </tr>\n",
       "    <tr>\n",
       "      <th>50%</th>\n",
       "      <td>163000.000000</td>\n",
       "      <td>9478.500000</td>\n",
       "      <td>6.000000</td>\n",
       "      <td>5.000000</td>\n",
       "      <td>1973.000000</td>\n",
       "      <td>1994.000000</td>\n",
       "      <td>991.500000</td>\n",
       "      <td>1464.000000</td>\n",
       "      <td>3.000000</td>\n",
       "      <td>1.000000</td>\n",
       "      <td>6.000000</td>\n",
       "      <td>1.000000</td>\n",
       "      <td>480.000000</td>\n",
       "      <td>0.000000</td>\n",
       "      <td>0.000000</td>\n",
       "    </tr>\n",
       "    <tr>\n",
       "      <th>75%</th>\n",
       "      <td>214000.000000</td>\n",
       "      <td>11601.500000</td>\n",
       "      <td>7.000000</td>\n",
       "      <td>6.000000</td>\n",
       "      <td>2000.000000</td>\n",
       "      <td>2004.000000</td>\n",
       "      <td>1298.250000</td>\n",
       "      <td>1776.750000</td>\n",
       "      <td>3.000000</td>\n",
       "      <td>1.000000</td>\n",
       "      <td>7.000000</td>\n",
       "      <td>1.000000</td>\n",
       "      <td>576.000000</td>\n",
       "      <td>0.000000</td>\n",
       "      <td>0.000000</td>\n",
       "    </tr>\n",
       "    <tr>\n",
       "      <th>max</th>\n",
       "      <td>755000.000000</td>\n",
       "      <td>215245.000000</td>\n",
       "      <td>10.000000</td>\n",
       "      <td>9.000000</td>\n",
       "      <td>2010.000000</td>\n",
       "      <td>2010.000000</td>\n",
       "      <td>6110.000000</td>\n",
       "      <td>5642.000000</td>\n",
       "      <td>8.000000</td>\n",
       "      <td>3.000000</td>\n",
       "      <td>14.000000</td>\n",
       "      <td>3.000000</td>\n",
       "      <td>1418.000000</td>\n",
       "      <td>738.000000</td>\n",
       "      <td>15500.000000</td>\n",
       "    </tr>\n",
       "  </tbody>\n",
       "</table>\n",
       "</div>"
      ],
      "text/plain": [
       "           SalePrice        LotArea  OverallQual  OverallCond    YearBuilt  \\\n",
       "count    1460.000000    1460.000000  1460.000000  1460.000000  1460.000000   \n",
       "mean   180921.195890   10516.828082     6.099315     5.575342  1971.267808   \n",
       "std     79442.502883    9981.264932     1.382997     1.112799    30.202904   \n",
       "min     34900.000000    1300.000000     1.000000     1.000000  1872.000000   \n",
       "25%    129975.000000    7553.500000     5.000000     5.000000  1954.000000   \n",
       "50%    163000.000000    9478.500000     6.000000     5.000000  1973.000000   \n",
       "75%    214000.000000   11601.500000     7.000000     6.000000  2000.000000   \n",
       "max    755000.000000  215245.000000    10.000000     9.000000  2010.000000   \n",
       "\n",
       "       YearRemodAdd  TotalBsmtSF    GrLivArea  BedroomAbvGr  KitchenAbvGr  \\\n",
       "count   1460.000000  1460.000000  1460.000000   1460.000000   1460.000000   \n",
       "mean    1984.865753  1057.429452  1515.463699      2.866438      1.046575   \n",
       "std       20.645407   438.705324   525.480383      0.815778      0.220338   \n",
       "min     1950.000000     0.000000   334.000000      0.000000      0.000000   \n",
       "25%     1967.000000   795.750000  1129.500000      2.000000      1.000000   \n",
       "50%     1994.000000   991.500000  1464.000000      3.000000      1.000000   \n",
       "75%     2004.000000  1298.250000  1776.750000      3.000000      1.000000   \n",
       "max     2010.000000  6110.000000  5642.000000      8.000000      3.000000   \n",
       "\n",
       "       TotRmsAbvGrd   Fireplaces   GarageArea     PoolArea       MiscVal  \n",
       "count   1460.000000  1460.000000  1460.000000  1460.000000   1460.000000  \n",
       "mean       6.517808     0.613014   472.980137     2.758904     43.489041  \n",
       "std        1.625393     0.644666   213.804841    40.177307    496.123024  \n",
       "min        2.000000     0.000000     0.000000     0.000000      0.000000  \n",
       "25%        5.000000     0.000000   334.500000     0.000000      0.000000  \n",
       "50%        6.000000     1.000000   480.000000     0.000000      0.000000  \n",
       "75%        7.000000     1.000000   576.000000     0.000000      0.000000  \n",
       "max       14.000000     3.000000  1418.000000   738.000000  15500.000000  "
      ]
     },
     "execution_count": 4,
     "metadata": {},
     "output_type": "execute_result"
    }
   ],
   "source": [
    "df.describe()"
   ]
  },
  {
   "cell_type": "code",
   "execution_count": 5,
   "id": "f3ebc528",
   "metadata": {},
   "outputs": [
    {
     "data": {
      "text/plain": [
       "(1460, 37)"
      ]
     },
     "execution_count": 5,
     "metadata": {},
     "output_type": "execute_result"
    }
   ],
   "source": [
    "df.shape"
   ]
  },
  {
   "cell_type": "markdown",
   "id": "a5c9a430",
   "metadata": {},
   "source": [
    "## Missing values"
   ]
  },
  {
   "cell_type": "markdown",
   "id": "5bf54c06",
   "metadata": {},
   "source": [
    "Посчитаем долю пропущенных значений по каждому признаку и визуализируем."
   ]
  },
  {
   "cell_type": "code",
   "execution_count": 6,
   "id": "61ce9f3b",
   "metadata": {},
   "outputs": [
    {
     "data": {
      "image/png": "[encoded data removed]",
      "text/plain": [
       "<Figure size 360x432 with 1 Axes>"
      ]
     },
     "metadata": {
      "needs_background": "light"
     },
     "output_type": "display_data"
    }
   ],
   "source": [
    "nans_series = (df.isna().sum() / df.shape[0]).round(2).sort_values()\n",
    "nans_series = nans_series[nans_series != 0]\n",
    "plt.figure(figsize=(5, 6))\n",
    "plt.barh(nans_series.index.to_numpy(), nans_series.values)\n",
    "plt.title('Missing values percentage and features', size=18)\n",
    "plt.ylabel('Percentage of missing values', size=14)\n",
    "plt.xlabel('Feature name', size=14)\n",
    "plt.show();"
   ]
  },
  {
   "cell_type": "markdown",
   "id": "d7284b74",
   "metadata": {},
   "source": [
    "Признаки _FireplaceQu_, _PoolQC_, _Fence_ и _MiscFeature_ имеют слишком много пропусков, поэтому отбросим их из дальнейшего рассмотрения. А пропуски в остальных заменим модой."
   ]
  },
  {
   "cell_type": "code",
   "execution_count": 7,
   "id": "b9b38d1c",
   "metadata": {},
   "outputs": [],
   "source": [
    "df.drop(\n",
    "    columns=[\n",
    "        'FireplaceQu',\n",
    "        'PoolQC',\n",
    "        'Fence',\n",
    "        'MiscFeature',\n",
    "    ], \n",
    "    inplace=True\n",
    ")"
   ]
  },
  {
   "cell_type": "code",
   "execution_count": 8,
   "id": "e44a21ca",
   "metadata": {},
   "outputs": [],
   "source": [
    "for feature in ['GarageCond', 'GarageQual', 'BsmtCond', 'BsmtQual']:\n",
    "    df.loc[df[feature].isnull(), feature] = df[feature].mode()[0]"
   ]
  },
  {
   "cell_type": "markdown",
   "id": "8f69a9a1",
   "metadata": {},
   "source": [
    "## Numeric and categorical features split"
   ]
  },
  {
   "cell_type": "markdown",
   "id": "23ac3345",
   "metadata": {},
   "source": [
    "Создадим датафрейм в котором посчитаем количество уникальных значений по каждому признаку."
   ]
  },
  {
   "cell_type": "code",
   "execution_count": 9,
   "id": "b94e566b",
   "metadata": {},
   "outputs": [
    {
     "data": {
      "text/html": [
       "<div>\n",
       "<style scoped>\n",
       "    .dataframe tbody tr th:only-of-type {\n",
       "        vertical-align: middle;\n",
       "    }\n",
       "\n",
       "    .dataframe tbody tr th {\n",
       "        vertical-align: top;\n",
       "    }\n",
       "\n",
       "    .dataframe thead th {\n",
       "        text-align: right;\n",
       "    }\n",
       "</style>\n",
       "<table border=\"1\" class=\"dataframe\">\n",
       "  <thead>\n",
       "    <tr style=\"text-align: right;\">\n",
       "      <th></th>\n",
       "      <th>feature_name</th>\n",
       "      <th>num_unique_values</th>\n",
       "    </tr>\n",
       "  </thead>\n",
       "  <tbody>\n",
       "    <tr>\n",
       "      <th>0</th>\n",
       "      <td>SalePrice</td>\n",
       "      <td>663</td>\n",
       "    </tr>\n",
       "    <tr>\n",
       "      <th>1</th>\n",
       "      <td>MSZoning</td>\n",
       "      <td>5</td>\n",
       "    </tr>\n",
       "    <tr>\n",
       "      <th>2</th>\n",
       "      <td>LotArea</td>\n",
       "      <td>1073</td>\n",
       "    </tr>\n",
       "    <tr>\n",
       "      <th>3</th>\n",
       "      <td>Utilities</td>\n",
       "      <td>2</td>\n",
       "    </tr>\n",
       "    <tr>\n",
       "      <th>4</th>\n",
       "      <td>Condition1</td>\n",
       "      <td>9</td>\n",
       "    </tr>\n",
       "    <tr>\n",
       "      <th>5</th>\n",
       "      <td>Condition2</td>\n",
       "      <td>8</td>\n",
       "    </tr>\n",
       "    <tr>\n",
       "      <th>6</th>\n",
       "      <td>OverallQual</td>\n",
       "      <td>10</td>\n",
       "    </tr>\n",
       "    <tr>\n",
       "      <th>7</th>\n",
       "      <td>OverallCond</td>\n",
       "      <td>9</td>\n",
       "    </tr>\n",
       "    <tr>\n",
       "      <th>8</th>\n",
       "      <td>YearBuilt</td>\n",
       "      <td>112</td>\n",
       "    </tr>\n",
       "    <tr>\n",
       "      <th>9</th>\n",
       "      <td>YearRemodAdd</td>\n",
       "      <td>61</td>\n",
       "    </tr>\n",
       "    <tr>\n",
       "      <th>10</th>\n",
       "      <td>RoofStyle</td>\n",
       "      <td>6</td>\n",
       "    </tr>\n",
       "    <tr>\n",
       "      <th>11</th>\n",
       "      <td>RoofMatl</td>\n",
       "      <td>8</td>\n",
       "    </tr>\n",
       "    <tr>\n",
       "      <th>12</th>\n",
       "      <td>Exterior1st</td>\n",
       "      <td>15</td>\n",
       "    </tr>\n",
       "    <tr>\n",
       "      <th>13</th>\n",
       "      <td>Exterior2nd</td>\n",
       "      <td>16</td>\n",
       "    </tr>\n",
       "    <tr>\n",
       "      <th>14</th>\n",
       "      <td>ExterQual</td>\n",
       "      <td>4</td>\n",
       "    </tr>\n",
       "    <tr>\n",
       "      <th>15</th>\n",
       "      <td>ExterCond</td>\n",
       "      <td>5</td>\n",
       "    </tr>\n",
       "    <tr>\n",
       "      <th>16</th>\n",
       "      <td>Foundation</td>\n",
       "      <td>6</td>\n",
       "    </tr>\n",
       "    <tr>\n",
       "      <th>17</th>\n",
       "      <td>BsmtQual</td>\n",
       "      <td>4</td>\n",
       "    </tr>\n",
       "    <tr>\n",
       "      <th>18</th>\n",
       "      <td>BsmtCond</td>\n",
       "      <td>4</td>\n",
       "    </tr>\n",
       "    <tr>\n",
       "      <th>19</th>\n",
       "      <td>TotalBsmtSF</td>\n",
       "      <td>721</td>\n",
       "    </tr>\n",
       "    <tr>\n",
       "      <th>20</th>\n",
       "      <td>Heating</td>\n",
       "      <td>6</td>\n",
       "    </tr>\n",
       "    <tr>\n",
       "      <th>21</th>\n",
       "      <td>HeatingQC</td>\n",
       "      <td>5</td>\n",
       "    </tr>\n",
       "    <tr>\n",
       "      <th>22</th>\n",
       "      <td>GrLivArea</td>\n",
       "      <td>861</td>\n",
       "    </tr>\n",
       "    <tr>\n",
       "      <th>23</th>\n",
       "      <td>BedroomAbvGr</td>\n",
       "      <td>8</td>\n",
       "    </tr>\n",
       "    <tr>\n",
       "      <th>24</th>\n",
       "      <td>KitchenAbvGr</td>\n",
       "      <td>4</td>\n",
       "    </tr>\n",
       "    <tr>\n",
       "      <th>25</th>\n",
       "      <td>KitchenQual</td>\n",
       "      <td>4</td>\n",
       "    </tr>\n",
       "    <tr>\n",
       "      <th>26</th>\n",
       "      <td>TotRmsAbvGrd</td>\n",
       "      <td>12</td>\n",
       "    </tr>\n",
       "    <tr>\n",
       "      <th>27</th>\n",
       "      <td>Fireplaces</td>\n",
       "      <td>4</td>\n",
       "    </tr>\n",
       "    <tr>\n",
       "      <th>28</th>\n",
       "      <td>GarageArea</td>\n",
       "      <td>441</td>\n",
       "    </tr>\n",
       "    <tr>\n",
       "      <th>29</th>\n",
       "      <td>GarageQual</td>\n",
       "      <td>5</td>\n",
       "    </tr>\n",
       "    <tr>\n",
       "      <th>30</th>\n",
       "      <td>GarageCond</td>\n",
       "      <td>5</td>\n",
       "    </tr>\n",
       "    <tr>\n",
       "      <th>31</th>\n",
       "      <td>PoolArea</td>\n",
       "      <td>8</td>\n",
       "    </tr>\n",
       "    <tr>\n",
       "      <th>32</th>\n",
       "      <td>MiscVal</td>\n",
       "      <td>21</td>\n",
       "    </tr>\n",
       "  </tbody>\n",
       "</table>\n",
       "</div>"
      ],
      "text/plain": [
       "    feature_name  num_unique_values\n",
       "0      SalePrice                663\n",
       "1       MSZoning                  5\n",
       "2        LotArea               1073\n",
       "3      Utilities                  2\n",
       "4     Condition1                  9\n",
       "5     Condition2                  8\n",
       "6    OverallQual                 10\n",
       "7    OverallCond                  9\n",
       "8      YearBuilt                112\n",
       "9   YearRemodAdd                 61\n",
       "10     RoofStyle                  6\n",
       "11      RoofMatl                  8\n",
       "12   Exterior1st                 15\n",
       "13   Exterior2nd                 16\n",
       "14     ExterQual                  4\n",
       "15     ExterCond                  5\n",
       "16    Foundation                  6\n",
       "17      BsmtQual                  4\n",
       "18      BsmtCond                  4\n",
       "19   TotalBsmtSF                721\n",
       "20       Heating                  6\n",
       "21     HeatingQC                  5\n",
       "22     GrLivArea                861\n",
       "23  BedroomAbvGr                  8\n",
       "24  KitchenAbvGr                  4\n",
       "25   KitchenQual                  4\n",
       "26  TotRmsAbvGrd                 12\n",
       "27    Fireplaces                  4\n",
       "28    GarageArea                441\n",
       "29    GarageQual                  5\n",
       "30    GarageCond                  5\n",
       "31      PoolArea                  8\n",
       "32       MiscVal                 21"
      ]
     },
     "execution_count": 9,
     "metadata": {},
     "output_type": "execute_result"
    }
   ],
   "source": [
    "df_cols = pd.DataFrame(\n",
    "    data=[(col, df[col].nunique()) for col in df.columns],\n",
    "    columns=['feature_name', 'num_unique_values']\n",
    ")\n",
    "df_cols"
   ]
  },
  {
   "cell_type": "markdown",
   "id": "5cc88ed0",
   "metadata": {},
   "source": [
    "Первично для простоты будем считать числовыми признаками те признаки, у которых больше ста уникальных значений, а остальные - категориальными."
   ]
  },
  {
   "cell_type": "code",
   "execution_count": 10,
   "id": "b84c75db",
   "metadata": {},
   "outputs": [],
   "source": [
    "df_cols['feature_type'] = df_cols['num_unique_values'].apply(\n",
    "    lambda x: 'numeric' if x >= 100 else 'categorical'\n",
    ")"
   ]
  },
  {
   "cell_type": "markdown",
   "id": "ea6fea1e",
   "metadata": {},
   "source": [
    "## Outliers detection"
   ]
  },
  {
   "cell_type": "markdown",
   "id": "045cbdbf",
   "metadata": {},
   "source": [
    "Будем искать аномалии в пространтсве признаков, которые посчитали числовыми."
   ]
  },
  {
   "cell_type": "code",
   "execution_count": 11,
   "id": "3dfb6a80",
   "metadata": {},
   "outputs": [
    {
     "data": {
      "text/html": [
       "<div>\n",
       "<style scoped>\n",
       "    .dataframe tbody tr th:only-of-type {\n",
       "        vertical-align: middle;\n",
       "    }\n",
       "\n",
       "    .dataframe tbody tr th {\n",
       "        vertical-align: top;\n",
       "    }\n",
       "\n",
       "    .dataframe thead th {\n",
       "        text-align: right;\n",
       "    }\n",
       "</style>\n",
       "<table border=\"1\" class=\"dataframe\">\n",
       "  <thead>\n",
       "    <tr style=\"text-align: right;\">\n",
       "      <th></th>\n",
       "      <th>SalePrice</th>\n",
       "      <th>LotArea</th>\n",
       "      <th>YearBuilt</th>\n",
       "      <th>TotalBsmtSF</th>\n",
       "      <th>GrLivArea</th>\n",
       "      <th>GarageArea</th>\n",
       "    </tr>\n",
       "  </thead>\n",
       "  <tbody>\n",
       "    <tr>\n",
       "      <th>0</th>\n",
       "      <td>208500</td>\n",
       "      <td>8450</td>\n",
       "      <td>2003</td>\n",
       "      <td>856</td>\n",
       "      <td>1710</td>\n",
       "      <td>548</td>\n",
       "    </tr>\n",
       "    <tr>\n",
       "      <th>1</th>\n",
       "      <td>181500</td>\n",
       "      <td>9600</td>\n",
       "      <td>1976</td>\n",
       "      <td>1262</td>\n",
       "      <td>1262</td>\n",
       "      <td>460</td>\n",
       "    </tr>\n",
       "    <tr>\n",
       "      <th>2</th>\n",
       "      <td>223500</td>\n",
       "      <td>11250</td>\n",
       "      <td>2001</td>\n",
       "      <td>920</td>\n",
       "      <td>1786</td>\n",
       "      <td>608</td>\n",
       "    </tr>\n",
       "    <tr>\n",
       "      <th>3</th>\n",
       "      <td>140000</td>\n",
       "      <td>9550</td>\n",
       "      <td>1915</td>\n",
       "      <td>756</td>\n",
       "      <td>1717</td>\n",
       "      <td>642</td>\n",
       "    </tr>\n",
       "    <tr>\n",
       "      <th>4</th>\n",
       "      <td>250000</td>\n",
       "      <td>14260</td>\n",
       "      <td>2000</td>\n",
       "      <td>1145</td>\n",
       "      <td>2198</td>\n",
       "      <td>836</td>\n",
       "    </tr>\n",
       "    <tr>\n",
       "      <th>...</th>\n",
       "      <td>...</td>\n",
       "      <td>...</td>\n",
       "      <td>...</td>\n",
       "      <td>...</td>\n",
       "      <td>...</td>\n",
       "      <td>...</td>\n",
       "    </tr>\n",
       "    <tr>\n",
       "      <th>1455</th>\n",
       "      <td>175000</td>\n",
       "      <td>7917</td>\n",
       "      <td>1999</td>\n",
       "      <td>953</td>\n",
       "      <td>1647</td>\n",
       "      <td>460</td>\n",
       "    </tr>\n",
       "    <tr>\n",
       "      <th>1456</th>\n",
       "      <td>210000</td>\n",
       "      <td>13175</td>\n",
       "      <td>1978</td>\n",
       "      <td>1542</td>\n",
       "      <td>2073</td>\n",
       "      <td>500</td>\n",
       "    </tr>\n",
       "    <tr>\n",
       "      <th>1457</th>\n",
       "      <td>266500</td>\n",
       "      <td>9042</td>\n",
       "      <td>1941</td>\n",
       "      <td>1152</td>\n",
       "      <td>2340</td>\n",
       "      <td>252</td>\n",
       "    </tr>\n",
       "    <tr>\n",
       "      <th>1458</th>\n",
       "      <td>142125</td>\n",
       "      <td>9717</td>\n",
       "      <td>1950</td>\n",
       "      <td>1078</td>\n",
       "      <td>1078</td>\n",
       "      <td>240</td>\n",
       "    </tr>\n",
       "    <tr>\n",
       "      <th>1459</th>\n",
       "      <td>147500</td>\n",
       "      <td>9937</td>\n",
       "      <td>1965</td>\n",
       "      <td>1256</td>\n",
       "      <td>1256</td>\n",
       "      <td>276</td>\n",
       "    </tr>\n",
       "  </tbody>\n",
       "</table>\n",
       "<p>1460 rows × 6 columns</p>\n",
       "</div>"
      ],
      "text/plain": [
       "      SalePrice  LotArea  YearBuilt  TotalBsmtSF  GrLivArea  GarageArea\n",
       "0        208500     8450       2003          856       1710         548\n",
       "1        181500     9600       1976         1262       1262         460\n",
       "2        223500    11250       2001          920       1786         608\n",
       "3        140000     9550       1915          756       1717         642\n",
       "4        250000    14260       2000         1145       2198         836\n",
       "...         ...      ...        ...          ...        ...         ...\n",
       "1455     175000     7917       1999          953       1647         460\n",
       "1456     210000    13175       1978         1542       2073         500\n",
       "1457     266500     9042       1941         1152       2340         252\n",
       "1458     142125     9717       1950         1078       1078         240\n",
       "1459     147500     9937       1965         1256       1256         276\n",
       "\n",
       "[1460 rows x 6 columns]"
      ]
     },
     "execution_count": 11,
     "metadata": {},
     "output_type": "execute_result"
    }
   ],
   "source": [
    "df[df_cols[df_cols['feature_type'] == 'numeric']['feature_name'].tolist()]"
   ]
  },
  {
   "cell_type": "markdown",
   "id": "a53078e1",
   "metadata": {},
   "source": [
    "Воспользуемся двумя алгоритмами поиска аномалий - IsolationForest и LOF."
   ]
  },
  {
   "cell_type": "code",
   "execution_count": 12,
   "id": "e7cbb876",
   "metadata": {},
   "outputs": [],
   "source": [
    "isol_forest = IsolationForest(random_state=54)\n",
    "labels_isol_forest = isol_forest.fit_predict(\n",
    "    df[\n",
    "        df_cols[df_cols['feature_type'] == 'numeric']['feature_name'].tolist()\n",
    "    ].values\n",
    ")\n",
    "outliers_isol_forest = np.where(labels_isol_forest == -1)[0]"
   ]
  },
  {
   "cell_type": "code",
   "execution_count": 13,
   "id": "f20a3ca4",
   "metadata": {},
   "outputs": [],
   "source": [
    "lof = LocalOutlierFactor()\n",
    "labels_lof = lof.fit_predict(\n",
    "    df[\n",
    "        df_cols[df_cols['feature_type'] == 'numeric']['feature_name'].tolist()\n",
    "    ].values\n",
    ")\n",
    "outliers_lof = np.where(labels_lof == -1)[0]"
   ]
  },
  {
   "cell_type": "markdown",
   "id": "adac17af",
   "metadata": {},
   "source": [
    "Сравним результаты двух алгоритмов. Можно сказать, что 44 наблюдения точно выбросы, поскольку к выбросам были отнесены сразу двумя алгоритмами, однако посчитаем выбросами все наблюдения, которые были классифицированы выбросами хотя-бы одним из алгоритмов."
   ]
  },
  {
   "cell_type": "code",
   "execution_count": 14,
   "id": "4f1d77c9",
   "metadata": {},
   "outputs": [
    {
     "data": {
      "text/html": [
       "<div>\n",
       "<style scoped>\n",
       "    .dataframe tbody tr th:only-of-type {\n",
       "        vertical-align: middle;\n",
       "    }\n",
       "\n",
       "    .dataframe tbody tr th {\n",
       "        vertical-align: top;\n",
       "    }\n",
       "\n",
       "    .dataframe thead th {\n",
       "        text-align: right;\n",
       "    }\n",
       "</style>\n",
       "<table border=\"1\" class=\"dataframe\">\n",
       "  <thead>\n",
       "    <tr style=\"text-align: right;\">\n",
       "      <th></th>\n",
       "      <th>lof_outlier</th>\n",
       "      <th>lof_not_outlier</th>\n",
       "    </tr>\n",
       "  </thead>\n",
       "  <tbody>\n",
       "    <tr>\n",
       "      <th>isol_forest_outlier</th>\n",
       "      <td>44</td>\n",
       "      <td>103</td>\n",
       "    </tr>\n",
       "    <tr>\n",
       "      <th>isol_forest_not_outlier</th>\n",
       "      <td>57</td>\n",
       "      <td>1256</td>\n",
       "    </tr>\n",
       "  </tbody>\n",
       "</table>\n",
       "</div>"
      ],
      "text/plain": [
       "                         lof_outlier  lof_not_outlier\n",
       "isol_forest_outlier               44              103\n",
       "isol_forest_not_outlier           57             1256"
      ]
     },
     "execution_count": 14,
     "metadata": {},
     "output_type": "execute_result"
    }
   ],
   "source": [
    "tmp_confusion = pd.DataFrame(confusion_matrix(labels_isol_forest, labels_lof))\n",
    "tmp_confusion.columns = ['lof_outlier', 'lof_not_outlier']\n",
    "tmp_confusion.index = ['isol_forest_outlier', 'isol_forest_not_outlier']\n",
    "tmp_confusion"
   ]
  },
  {
   "cell_type": "markdown",
   "id": "d6f36604",
   "metadata": {},
   "source": [
    "Удалим наблюдения, классифицированные выбросами хотя-бы одним из алгоритмов."
   ]
  },
  {
   "cell_type": "code",
   "execution_count": 15,
   "id": "4669edcf",
   "metadata": {},
   "outputs": [],
   "source": [
    "df = df[~(\n",
    "    (df.index.isin(outliers_isol_forest)) |\n",
    "    (df.index.isin(outliers_lof))\n",
    ")].reset_index(drop=True)"
   ]
  },
  {
   "cell_type": "markdown",
   "id": "f6fd5266",
   "metadata": {},
   "source": [
    "## Feature engineering"
   ]
  },
  {
   "cell_type": "markdown",
   "id": "95626d82",
   "metadata": {},
   "source": [
    "### Distribution of numeric features"
   ]
  },
  {
   "cell_type": "markdown",
   "id": "2090c1c4",
   "metadata": {},
   "source": [
    "Посмотрим на распределение числовых признаков."
   ]
  },
  {
   "cell_type": "code",
   "execution_count": 16,
   "id": "970d756a",
   "metadata": {},
   "outputs": [
    {
     "data": {
      "text/plain": [
       "['SalePrice', 'LotArea', 'YearBuilt', 'TotalBsmtSF', 'GrLivArea', 'GarageArea']"
      ]
     },
     "execution_count": 16,
     "metadata": {},
     "output_type": "execute_result"
    }
   ],
   "source": [
    "tmp_df = df[df_cols[df_cols['feature_type'] == 'numeric']['feature_name'].tolist()]\n",
    "df_cols[df_cols['feature_type'] == 'numeric']['feature_name'].tolist()"
   ]
  },
  {
   "cell_type": "code",
   "execution_count": 17,
   "id": "867a8661",
   "metadata": {},
   "outputs": [
    {
     "data": {
      "image/png": "[encoded data removed]",
      "text/plain": [
       "<Figure size 1152x1728 with 12 Axes>"
      ]
     },
     "metadata": {
      "needs_background": "light"
     },
     "output_type": "display_data"
    }
   ],
   "source": [
    "tmp_df = df[df_cols[df_cols['feature_type'] == 'numeric']['feature_name'].tolist()]\n",
    "fig, axis = plt.subplots(6, 2, figsize=(16, 24))\n",
    "for i, ax in enumerate(axis.flat):\n",
    "    if not i % 2:\n",
    "        ax.set_title(f'Distribution of {tmp_df.columns[i // 2]}')\n",
    "        sns.histplot(tmp_df.iloc[:, i // 2].values, ax=ax)\n",
    "    else:\n",
    "        ax.set_title(f'Log-Distribution of {tmp_df.columns[i // 2]}')\n",
    "        sns.histplot(np.log2(tmp_df.iloc[:, i // 2].values), ax=ax)"
   ]
  },
  {
   "cell_type": "markdown",
   "id": "fba55c73",
   "metadata": {},
   "source": [
    "У признака TotalBsmtSF наблюдаются выбросы в левой части хвоста распределения, у признака LotArea наблюдается тяжелый правый хвост, а у признака GarageArea наблюдаются очевидные выбросы в левой части хвоста распределения. Удалим наблюдения, которые попадают в эти хвосты."
   ]
  },
  {
   "cell_type": "code",
   "execution_count": 18,
   "id": "9fad615a",
   "metadata": {},
   "outputs": [],
   "source": [
    "df = df[\n",
    "    (df['LotArea'] <= 17500) &\n",
    "    (df['TotalBsmtSF'] >= 100) &\n",
    "    (df['GarageArea'] >= 100)\n",
    "].reset_index(drop=True)"
   ]
  },
  {
   "cell_type": "markdown",
   "id": "e713ed2c",
   "metadata": {},
   "source": [
    "Распределение числовых признаков после удаления выбросов по распределению."
   ]
  },
  {
   "cell_type": "code",
   "execution_count": 19,
   "id": "1e5504e9",
   "metadata": {},
   "outputs": [
    {
     "data": {
      "image/png": "[encoded data removed]",
      "text/plain": [
       "<Figure size 1152x1728 with 12 Axes>"
      ]
     },
     "metadata": {
      "needs_background": "light"
     },
     "output_type": "display_data"
    }
   ],
   "source": [
    "tmp_df = df[df_cols[df_cols['feature_type'] == 'numeric']['feature_name'].tolist()]\n",
    "fig, axis = plt.subplots(6, 2, figsize=(16, 24))\n",
    "for i, ax in enumerate(axis.flat):\n",
    "    if not i % 2:\n",
    "        ax.set_title(f'Distribution of {tmp_df.columns[i // 2]}')\n",
    "        sns.histplot(tmp_df.iloc[:, i // 2].values, ax=ax)\n",
    "    else:\n",
    "        ax.set_title(f'Log-Distribution of {tmp_df.columns[i // 2]}')\n",
    "        sns.histplot(np.log2(tmp_df.iloc[:, i // 2].values), ax=ax)"
   ]
  },
  {
   "cell_type": "markdown",
   "id": "5bf49d58",
   "metadata": {},
   "source": [
    "Кластеризовать будем без признака SalePrice, однако интереса ради посмотрим на матрицу попарных корреляций всех числовых признаков."
   ]
  },
  {
   "cell_type": "code",
   "execution_count": 20,
   "id": "810e9302",
   "metadata": {},
   "outputs": [
    {
     "data": {
      "image/png": "[encoded data removed]",
      "text/plain": [
       "<Figure size 576x576 with 2 Axes>"
      ]
     },
     "metadata": {
      "needs_background": "light"
     },
     "output_type": "display_data"
    }
   ],
   "source": [
    "numeric = df_cols[df_cols['feature_type'] == 'numeric']['feature_name'].tolist()\n",
    "corr = df[numeric].corr()\n",
    "plt.figure(figsize=(8, 8))\n",
    "sns.heatmap(corr)\n",
    "plt.show();"
   ]
  },
  {
   "cell_type": "markdown",
   "id": "bf1c1263",
   "metadata": {},
   "source": [
    "Все признаки имеют положительную корреляцию с ценой - что логично: чем выше площадь чего-либо/год строительства, тем больше стоит дом."
   ]
  },
  {
   "cell_type": "markdown",
   "id": "cda5dab4",
   "metadata": {},
   "source": [
    "### Distribution of ordinal and categorical features"
   ]
  },
  {
   "cell_type": "markdown",
   "id": "6cc97785",
   "metadata": {},
   "source": [
    "Теперь посмотрим на распределения категориальных признаков - на количество уникальных значений каждого признака и относительные частоты этих значений."
   ]
  },
  {
   "cell_type": "code",
   "execution_count": 21,
   "id": "19e94b19",
   "metadata": {
    "scrolled": false
   },
   "outputs": [
    {
     "name": "stdout",
     "output_type": "stream",
     "text": [
      "==========================================\n",
      "feature MSZoning has 5 unique values\n",
      "relative frequencies of values:\n",
      "[0.8, 0.14, 0.05, 0.01, 0.01]\n",
      "==========================================\n",
      "feature Utilities has 2 unique values\n",
      "relative frequencies of values:\n",
      "[1.0, 0.0]\n",
      "==========================================\n",
      "feature Condition1 has 9 unique values\n",
      "relative frequencies of values:\n",
      "[0.88, 0.05, 0.03, 0.02, 0.01, 0.01, 0.0, 0.0, 0.0]\n",
      "==========================================\n",
      "feature Condition2 has 5 unique values\n",
      "relative frequencies of values:\n",
      "[0.99, 0.0, 0.0, 0.0, 0.0]\n",
      "==========================================\n",
      "feature OverallQual has 8 unique values\n",
      "relative frequencies of values:\n",
      "[0.28, 0.27, 0.24, 0.12, 0.06, 0.03, 0.01, 0.0]\n",
      "==========================================\n",
      "feature OverallCond has 8 unique values\n",
      "relative frequencies of values:\n",
      "[0.58, 0.18, 0.14, 0.05, 0.03, 0.01, 0.01, 0.0]\n",
      "==========================================\n",
      "feature YearRemodAdd has 61 unique values\n",
      "relative frequencies of values:\n",
      "[0.11, 0.07, 0.06, 0.06, 0.05, 0.04, 0.04, 0.03, 0.03, 0.02, 0.02, 0.02, 0.02, 0.02, 0.02, 0.02, 0.02, 0.02, 0.02, 0.01, 0.01, 0.01, 0.01, 0.01, 0.01, 0.01, 0.01, 0.01, 0.01, 0.01, 0.01, 0.01, 0.01, 0.01, 0.01, 0.01, 0.01, 0.01, 0.01, 0.01, 0.01, 0.01, 0.01, 0.01, 0.01, 0.01, 0.01, 0.01, 0.01, 0.01, 0.01, 0.01, 0.0, 0.0, 0.0, 0.0, 0.0, 0.0, 0.0, 0.0, 0.0]\n",
      "==========================================\n",
      "feature RoofStyle has 5 unique values\n",
      "relative frequencies of values:\n",
      "[0.8, 0.19, 0.01, 0.0, 0.0]\n",
      "==========================================\n",
      "feature RoofMatl has 5 unique values\n",
      "relative frequencies of values:\n",
      "[0.99, 0.0, 0.0, 0.0, 0.0]\n",
      "==========================================\n",
      "feature Exterior1st has 14 unique values\n",
      "relative frequencies of values:\n",
      "[0.38, 0.16, 0.16, 0.13, 0.07, 0.04, 0.03, 0.02, 0.01, 0.01, 0.0, 0.0, 0.0, 0.0]\n",
      "==========================================\n",
      "feature Exterior2nd has 16 unique values\n",
      "relative frequencies of values:\n",
      "[0.37, 0.15, 0.15, 0.12, 0.09, 0.04, 0.03, 0.01, 0.01, 0.01, 0.01, 0.01, 0.0, 0.0, 0.0, 0.0]\n",
      "==========================================\n",
      "feature ExterQual has 4 unique values\n",
      "relative frequencies of values:\n",
      "[0.61, 0.37, 0.02, 0.01]\n",
      "==========================================\n",
      "feature ExterCond has 4 unique values\n",
      "relative frequencies of values:\n",
      "[0.89, 0.1, 0.01, 0.0]\n",
      "==========================================\n",
      "feature Foundation has 5 unique values\n",
      "relative frequencies of values:\n",
      "[0.47, 0.43, 0.09, 0.0, 0.0]\n",
      "==========================================\n",
      "feature BsmtQual has 4 unique values\n",
      "relative frequencies of values:\n",
      "[0.46, 0.44, 0.07, 0.02]\n",
      "==========================================\n",
      "feature BsmtCond has 4 unique values\n",
      "relative frequencies of values:\n",
      "[0.93, 0.05, 0.03, 0.0]\n",
      "==========================================\n",
      "feature Heating has 4 unique values\n",
      "relative frequencies of values:\n",
      "[0.99, 0.01, 0.0, 0.0]\n",
      "==========================================\n",
      "feature HeatingQC has 5 unique values\n",
      "relative frequencies of values:\n",
      "[0.53, 0.28, 0.17, 0.02, 0.0]\n",
      "==========================================\n",
      "feature BedroomAbvGr has 7 unique values\n",
      "relative frequencies of values:\n",
      "[0.59, 0.25, 0.13, 0.03, 0.01, 0.0, 0.0]\n",
      "==========================================\n",
      "feature KitchenAbvGr has 3 unique values\n",
      "relative frequencies of values:\n",
      "[0.97, 0.02, 0.0]\n",
      "==========================================\n",
      "feature KitchenQual has 4 unique values\n",
      "relative frequencies of values:\n",
      "[0.49, 0.44, 0.06, 0.02]\n",
      "==========================================\n",
      "feature TotRmsAbvGrd has 10 unique values\n",
      "relative frequencies of values:\n",
      "[0.3, 0.23, 0.2, 0.13, 0.06, 0.04, 0.02, 0.01, 0.01, 0.0]\n",
      "==========================================\n",
      "feature Fireplaces has 4 unique values\n",
      "relative frequencies of values:\n",
      "[0.47, 0.47, 0.06, 0.0]\n",
      "==========================================\n",
      "feature GarageQual has 5 unique values\n",
      "relative frequencies of values:\n",
      "[0.95, 0.03, 0.01, 0.0, 0.0]\n",
      "==========================================\n",
      "feature GarageCond has 5 unique values\n",
      "relative frequencies of values:\n",
      "[0.96, 0.03, 0.01, 0.01, 0.0]\n",
      "==========================================\n",
      "feature PoolArea has 4 unique values\n",
      "relative frequencies of values:\n",
      "[1.0, 0.0, 0.0, 0.0]\n",
      "==========================================\n",
      "feature MiscVal has 17 unique values\n",
      "relative frequencies of values:\n",
      "[0.97, 0.01, 0.01, 0.0, 0.0, 0.0, 0.0, 0.0, 0.0, 0.0, 0.0, 0.0, 0.0, 0.0, 0.0, 0.0, 0.0]\n"
     ]
    }
   ],
   "source": [
    "for feature in df_cols[df_cols['feature_type'] == 'categorical']['feature_name'].tolist():\n",
    "    print('=======' * 6)\n",
    "    print(f'feature {feature} has {df[feature].nunique()} unique values')\n",
    "    print('relative frequencies of values:')\n",
    "    print(df[feature].value_counts(normalize=True).round(2).tolist())"
   ]
  },
  {
   "cell_type": "markdown",
   "id": "919c448f",
   "metadata": {},
   "source": [
    "Выведем информацию по тем признакам, у которых частота самого встречающегося значения признака больше 0.85."
   ]
  },
  {
   "cell_type": "code",
   "execution_count": 22,
   "id": "b5e3ad38",
   "metadata": {},
   "outputs": [
    {
     "name": "stdout",
     "output_type": "stream",
     "text": [
      "==========================================\n",
      "feature Utilities has 2 unique values\n",
      "relative frequencies of values:\n",
      "[1.0, 0.0]\n",
      "==========================================\n",
      "feature Condition1 has 9 unique values\n",
      "relative frequencies of values:\n",
      "[0.88, 0.05, 0.03, 0.02, 0.01, 0.01, 0.0, 0.0, 0.0]\n",
      "==========================================\n",
      "feature Condition2 has 5 unique values\n",
      "relative frequencies of values:\n",
      "[0.99, 0.0, 0.0, 0.0, 0.0]\n",
      "==========================================\n",
      "feature RoofMatl has 5 unique values\n",
      "relative frequencies of values:\n",
      "[0.99, 0.0, 0.0, 0.0, 0.0]\n",
      "==========================================\n",
      "feature ExterCond has 4 unique values\n",
      "relative frequencies of values:\n",
      "[0.89, 0.1, 0.01, 0.0]\n",
      "==========================================\n",
      "feature BsmtCond has 4 unique values\n",
      "relative frequencies of values:\n",
      "[0.93, 0.05, 0.03, 0.0]\n",
      "==========================================\n",
      "feature Heating has 4 unique values\n",
      "relative frequencies of values:\n",
      "[0.99, 0.01, 0.0, 0.0]\n",
      "==========================================\n",
      "feature KitchenAbvGr has 3 unique values\n",
      "relative frequencies of values:\n",
      "[0.97, 0.02, 0.0]\n",
      "==========================================\n",
      "feature GarageQual has 5 unique values\n",
      "relative frequencies of values:\n",
      "[0.95, 0.03, 0.01, 0.0, 0.0]\n",
      "==========================================\n",
      "feature GarageCond has 5 unique values\n",
      "relative frequencies of values:\n",
      "[0.96, 0.03, 0.01, 0.01, 0.0]\n",
      "==========================================\n",
      "feature PoolArea has 4 unique values\n",
      "relative frequencies of values:\n",
      "[1.0, 0.0, 0.0, 0.0]\n",
      "==========================================\n",
      "feature MiscVal has 17 unique values\n",
      "relative frequencies of values:\n",
      "[0.97, 0.01, 0.01, 0.0, 0.0, 0.0, 0.0, 0.0, 0.0, 0.0, 0.0, 0.0, 0.0, 0.0, 0.0, 0.0, 0.0]\n"
     ]
    }
   ],
   "source": [
    "for feature in df_cols[df_cols['feature_type'] == 'categorical']['feature_name'].tolist():\n",
    "    if df[feature].value_counts(normalize=True).round(2).tolist()[0] >= 0.85:\n",
    "        print('=======' * 6)\n",
    "        print(f'feature {feature} has {df[feature].nunique()} unique values')\n",
    "        print('relative frequencies of values:')\n",
    "        print(df[feature].value_counts(normalize=True).round(2).tolist())"
   ]
  },
  {
   "cell_type": "markdown",
   "id": "a04a0c36",
   "metadata": {},
   "source": [
    "Видим, что есть много признаков, у которых самое часто встречающееся значение имеет очень высокую частоту - давайте отбросим из рассмотрения такие признаки, потому что они не очень информативные."
   ]
  },
  {
   "cell_type": "code",
   "execution_count": 23,
   "id": "bfca4625",
   "metadata": {},
   "outputs": [],
   "source": [
    "features_drop = [\n",
    "    'Utilities',\n",
    "    'Condition1',\n",
    "    'Condition2',\n",
    "    'RoofMatl',\n",
    "    'ExterCond',\n",
    "    'BsmtCond',\n",
    "    'Heating',\n",
    "    'KitchenAbvGr',\n",
    "    'GarageQual',\n",
    "    'GarageCond',\n",
    "    'PoolArea',\n",
    "    'MiscVal'\n",
    "]"
   ]
  },
  {
   "cell_type": "code",
   "execution_count": 24,
   "id": "616746a3",
   "metadata": {},
   "outputs": [],
   "source": [
    "df.drop(columns=features_drop, inplace=True)"
   ]
  },
  {
   "cell_type": "markdown",
   "id": "85916974",
   "metadata": {},
   "source": [
    "Теперь снова посмотрим на распределение признаков после удаления признаков."
   ]
  },
  {
   "cell_type": "code",
   "execution_count": 25,
   "id": "508cf2aa",
   "metadata": {
    "scrolled": false
   },
   "outputs": [
    {
     "name": "stdout",
     "output_type": "stream",
     "text": [
      "==========================================\n",
      "feature MSZoning has 5 unique values\n",
      "relative frequencies of values:\n",
      "[0.8, 0.14, 0.05, 0.01, 0.01]\n",
      "==========================================\n",
      "feature OverallQual has 8 unique values\n",
      "relative frequencies of values:\n",
      "[0.28, 0.27, 0.24, 0.12, 0.06, 0.03, 0.01, 0.0]\n",
      "==========================================\n",
      "feature OverallCond has 8 unique values\n",
      "relative frequencies of values:\n",
      "[0.58, 0.18, 0.14, 0.05, 0.03, 0.01, 0.01, 0.0]\n",
      "==========================================\n",
      "feature YearRemodAdd has 61 unique values\n",
      "relative frequencies of values:\n",
      "[0.11, 0.07, 0.06, 0.06, 0.05, 0.04, 0.04, 0.03, 0.03, 0.02, 0.02, 0.02, 0.02, 0.02, 0.02, 0.02, 0.02, 0.02, 0.02, 0.01, 0.01, 0.01, 0.01, 0.01, 0.01, 0.01, 0.01, 0.01, 0.01, 0.01, 0.01, 0.01, 0.01, 0.01, 0.01, 0.01, 0.01, 0.01, 0.01, 0.01, 0.01, 0.01, 0.01, 0.01, 0.01, 0.01, 0.01, 0.01, 0.01, 0.01, 0.01, 0.01, 0.0, 0.0, 0.0, 0.0, 0.0, 0.0, 0.0, 0.0, 0.0]\n",
      "==========================================\n",
      "feature RoofStyle has 5 unique values\n",
      "relative frequencies of values:\n",
      "[0.8, 0.19, 0.01, 0.0, 0.0]\n",
      "==========================================\n",
      "feature Exterior1st has 14 unique values\n",
      "relative frequencies of values:\n",
      "[0.38, 0.16, 0.16, 0.13, 0.07, 0.04, 0.03, 0.02, 0.01, 0.01, 0.0, 0.0, 0.0, 0.0]\n",
      "==========================================\n",
      "feature Exterior2nd has 16 unique values\n",
      "relative frequencies of values:\n",
      "[0.37, 0.15, 0.15, 0.12, 0.09, 0.04, 0.03, 0.01, 0.01, 0.01, 0.01, 0.01, 0.0, 0.0, 0.0, 0.0]\n",
      "==========================================\n",
      "feature ExterQual has 4 unique values\n",
      "relative frequencies of values:\n",
      "[0.61, 0.37, 0.02, 0.01]\n",
      "==========================================\n",
      "feature Foundation has 5 unique values\n",
      "relative frequencies of values:\n",
      "[0.47, 0.43, 0.09, 0.0, 0.0]\n",
      "==========================================\n",
      "feature BsmtQual has 4 unique values\n",
      "relative frequencies of values:\n",
      "[0.46, 0.44, 0.07, 0.02]\n",
      "==========================================\n",
      "feature HeatingQC has 5 unique values\n",
      "relative frequencies of values:\n",
      "[0.53, 0.28, 0.17, 0.02, 0.0]\n",
      "==========================================\n",
      "feature BedroomAbvGr has 7 unique values\n",
      "relative frequencies of values:\n",
      "[0.59, 0.25, 0.13, 0.03, 0.01, 0.0, 0.0]\n",
      "==========================================\n",
      "feature KitchenQual has 4 unique values\n",
      "relative frequencies of values:\n",
      "[0.49, 0.44, 0.06, 0.02]\n",
      "==========================================\n",
      "feature TotRmsAbvGrd has 10 unique values\n",
      "relative frequencies of values:\n",
      "[0.3, 0.23, 0.2, 0.13, 0.06, 0.04, 0.02, 0.01, 0.01, 0.0]\n",
      "==========================================\n",
      "feature Fireplaces has 4 unique values\n",
      "relative frequencies of values:\n",
      "[0.47, 0.47, 0.06, 0.0]\n"
     ]
    }
   ],
   "source": [
    "for feature in df_cols[df_cols['feature_type'] == 'categorical']['feature_name'].tolist():\n",
    "    if feature in df.columns.tolist():\n",
    "        print('=======' * 6)\n",
    "        print(f'feature {feature} has {df[feature].nunique()} unique values')\n",
    "        print('relative frequencies of values:')\n",
    "        print(df[feature].value_counts(normalize=True).round(2).tolist())"
   ]
  },
  {
   "cell_type": "markdown",
   "id": "5d756248",
   "metadata": {},
   "source": [
    "Видим, что есть много значений признаков с частотами < 0.05 - кажется неразумным оставлять их потому, что это дополнительные признаки, которые будут неинформативными (почти весь столбец будет нулей), давайте заменим такие значения на моды по признакам."
   ]
  },
  {
   "cell_type": "code",
   "execution_count": 26,
   "id": "3f85e7e8",
   "metadata": {},
   "outputs": [],
   "source": [
    "for feature in df_cols[df_cols['feature_type'] == 'categorical']['feature_name'].tolist():\n",
    "    if feature in df.columns.tolist():\n",
    "        tmp_series = df[feature].value_counts(normalize=True)\n",
    "        frequencies, feature_values = tmp_series.tolist(), tmp_series.index.tolist()\n",
    "        for frequency, feature_value in zip(frequencies, feature_values):\n",
    "            if frequency < 0.05:\n",
    "                df.loc[df[feature] == feature_value, feature] = feature_values[0] # 0 потому что по 0 индексу максимум относительной частоты встречаемости"
   ]
  },
  {
   "cell_type": "markdown",
   "id": "6b49472b",
   "metadata": {},
   "source": [
    "Посмотрим, что стало после удаления признаков и замены значений признаков на моды."
   ]
  },
  {
   "cell_type": "code",
   "execution_count": 27,
   "id": "7eb22265",
   "metadata": {},
   "outputs": [
    {
     "name": "stdout",
     "output_type": "stream",
     "text": [
      "==========================================\n",
      "feature MSZoning has 3 unique values\n",
      "relative frequencies of values:\n",
      "[0.81, 0.14, 0.05]\n",
      "==========================================\n",
      "feature OverallQual has 5 unique values\n",
      "relative frequencies of values:\n",
      "[0.31, 0.27, 0.24, 0.12, 0.06]\n",
      "==========================================\n",
      "feature OverallCond has 4 unique values\n",
      "relative frequencies of values:\n",
      "[0.64, 0.18, 0.14, 0.05]\n",
      "==========================================\n",
      "feature YearRemodAdd has 4 unique values\n",
      "relative frequencies of values:\n",
      "[0.82, 0.07, 0.06, 0.06]\n",
      "==========================================\n",
      "feature RoofStyle has 2 unique values\n",
      "relative frequencies of values:\n",
      "[0.81, 0.19]\n",
      "==========================================\n",
      "feature Exterior1st has 5 unique values\n",
      "relative frequencies of values:\n",
      "[0.49, 0.16, 0.16, 0.13, 0.07]\n",
      "==========================================\n",
      "feature Exterior2nd has 5 unique values\n",
      "relative frequencies of values:\n",
      "[0.49, 0.15, 0.15, 0.12, 0.09]\n",
      "==========================================\n",
      "feature ExterQual has 2 unique values\n",
      "relative frequencies of values:\n",
      "[0.63, 0.37]\n",
      "==========================================\n",
      "feature Foundation has 3 unique values\n",
      "relative frequencies of values:\n",
      "[0.48, 0.43, 0.09]\n",
      "==========================================\n",
      "feature BsmtQual has 3 unique values\n",
      "relative frequencies of values:\n",
      "[0.48, 0.44, 0.07]\n",
      "==========================================\n",
      "feature HeatingQC has 3 unique values\n",
      "relative frequencies of values:\n",
      "[0.56, 0.28, 0.17]\n",
      "==========================================\n",
      "feature BedroomAbvGr has 3 unique values\n",
      "relative frequencies of values:\n",
      "[0.63, 0.25, 0.13]\n",
      "==========================================\n",
      "feature KitchenQual has 3 unique values\n",
      "relative frequencies of values:\n",
      "[0.51, 0.44, 0.06]\n",
      "==========================================\n",
      "feature TotRmsAbvGrd has 5 unique values\n",
      "relative frequencies of values:\n",
      "[0.38, 0.23, 0.2, 0.13, 0.06]\n",
      "==========================================\n",
      "feature Fireplaces has 3 unique values\n",
      "relative frequencies of values:\n",
      "[0.47, 0.47, 0.06]\n"
     ]
    }
   ],
   "source": [
    "for feature in df_cols[df_cols['feature_type'] == 'categorical']['feature_name'].tolist():\n",
    "    if feature in df.columns.tolist():\n",
    "        print('=======' * 6)\n",
    "        print(f'feature {feature} has {df[feature].nunique()} unique values')\n",
    "        print('relative frequencies of values:')\n",
    "        print(df[feature].value_counts(normalize=True).round(2).tolist())"
   ]
  },
  {
   "cell_type": "markdown",
   "id": "8de7f468",
   "metadata": {},
   "source": [
    "## Feature transforming and encoding"
   ]
  },
  {
   "cell_type": "markdown",
   "id": "92736dca",
   "metadata": {},
   "source": [
    "Посмотрим на признак YearRemodAdd - несмотря на то, что это год, у него мало уникальных значений, давайте превратим этот признак в категориальный и потом закодируем OneHot энкодером."
   ]
  },
  {
   "cell_type": "code",
   "execution_count": 28,
   "id": "23d4eaa7",
   "metadata": {},
   "outputs": [
    {
     "data": {
      "text/plain": [
       "1950    978\n",
       "2006     78\n",
       "2007     67\n",
       "2005     66\n",
       "Name: YearRemodAdd, dtype: int64"
      ]
     },
     "execution_count": 28,
     "metadata": {},
     "output_type": "execute_result"
    }
   ],
   "source": [
    "df['YearRemodAdd'].value_counts()"
   ]
  },
  {
   "cell_type": "code",
   "execution_count": 29,
   "id": "09a49b70",
   "metadata": {},
   "outputs": [],
   "source": [
    "df['YearRemodAdd'] = df['YearRemodAdd'].apply(lambda x: 'OldRemod' if x < 2000 else 'NewRemod')"
   ]
  },
  {
   "cell_type": "markdown",
   "id": "efad4c7b",
   "metadata": {},
   "source": [
    "Категориальные признаки, предполагающие ранжирование - закодируем их как порядковые признаки."
   ]
  },
  {
   "cell_type": "code",
   "execution_count": 30,
   "id": "06cd5daa",
   "metadata": {},
   "outputs": [],
   "source": [
    "features_ordinal = [\n",
    "    'ExterQual', \n",
    "    'BsmtQual', \n",
    "    'HeatingQC', \n",
    "    'KitchenQual'\n",
    "]\n",
    "\n",
    "order_ordinal_features = {\n",
    "    'Ex': 5, \n",
    "    'Gd': 4, \n",
    "    'TA': 3, \n",
    "    'Fa': 2, \n",
    "    'Po': 1,\n",
    "    'NA': 0\n",
    "}"
   ]
  },
  {
   "cell_type": "code",
   "execution_count": 31,
   "id": "ccc53bf5",
   "metadata": {},
   "outputs": [],
   "source": [
    "for feature in features_ordinal:\n",
    "    df[feature] = df[feature].apply(lambda x: order_ordinal_features[x]).astype(int)"
   ]
  },
  {
   "cell_type": "code",
   "execution_count": 32,
   "id": "e27b8e20",
   "metadata": {},
   "outputs": [
    {
     "data": {
      "text/html": [
       "<div>\n",
       "<style scoped>\n",
       "    .dataframe tbody tr th:only-of-type {\n",
       "        vertical-align: middle;\n",
       "    }\n",
       "\n",
       "    .dataframe tbody tr th {\n",
       "        vertical-align: top;\n",
       "    }\n",
       "\n",
       "    .dataframe thead th {\n",
       "        text-align: right;\n",
       "    }\n",
       "</style>\n",
       "<table border=\"1\" class=\"dataframe\">\n",
       "  <thead>\n",
       "    <tr style=\"text-align: right;\">\n",
       "      <th></th>\n",
       "      <th>ExterQual</th>\n",
       "      <th>BsmtQual</th>\n",
       "      <th>HeatingQC</th>\n",
       "      <th>KitchenQual</th>\n",
       "    </tr>\n",
       "  </thead>\n",
       "  <tbody>\n",
       "    <tr>\n",
       "      <th>0</th>\n",
       "      <td>4</td>\n",
       "      <td>4</td>\n",
       "      <td>5</td>\n",
       "      <td>4</td>\n",
       "    </tr>\n",
       "    <tr>\n",
       "      <th>1</th>\n",
       "      <td>3</td>\n",
       "      <td>4</td>\n",
       "      <td>5</td>\n",
       "      <td>3</td>\n",
       "    </tr>\n",
       "    <tr>\n",
       "      <th>2</th>\n",
       "      <td>4</td>\n",
       "      <td>4</td>\n",
       "      <td>5</td>\n",
       "      <td>4</td>\n",
       "    </tr>\n",
       "    <tr>\n",
       "      <th>3</th>\n",
       "      <td>3</td>\n",
       "      <td>3</td>\n",
       "      <td>4</td>\n",
       "      <td>4</td>\n",
       "    </tr>\n",
       "    <tr>\n",
       "      <th>4</th>\n",
       "      <td>4</td>\n",
       "      <td>4</td>\n",
       "      <td>5</td>\n",
       "      <td>4</td>\n",
       "    </tr>\n",
       "    <tr>\n",
       "      <th>...</th>\n",
       "      <td>...</td>\n",
       "      <td>...</td>\n",
       "      <td>...</td>\n",
       "      <td>...</td>\n",
       "    </tr>\n",
       "    <tr>\n",
       "      <th>1184</th>\n",
       "      <td>3</td>\n",
       "      <td>4</td>\n",
       "      <td>5</td>\n",
       "      <td>3</td>\n",
       "    </tr>\n",
       "    <tr>\n",
       "      <th>1185</th>\n",
       "      <td>3</td>\n",
       "      <td>4</td>\n",
       "      <td>3</td>\n",
       "      <td>3</td>\n",
       "    </tr>\n",
       "    <tr>\n",
       "      <th>1186</th>\n",
       "      <td>3</td>\n",
       "      <td>3</td>\n",
       "      <td>5</td>\n",
       "      <td>4</td>\n",
       "    </tr>\n",
       "    <tr>\n",
       "      <th>1187</th>\n",
       "      <td>3</td>\n",
       "      <td>3</td>\n",
       "      <td>4</td>\n",
       "      <td>4</td>\n",
       "    </tr>\n",
       "    <tr>\n",
       "      <th>1188</th>\n",
       "      <td>4</td>\n",
       "      <td>3</td>\n",
       "      <td>4</td>\n",
       "      <td>3</td>\n",
       "    </tr>\n",
       "  </tbody>\n",
       "</table>\n",
       "<p>1189 rows × 4 columns</p>\n",
       "</div>"
      ],
      "text/plain": [
       "      ExterQual  BsmtQual  HeatingQC  KitchenQual\n",
       "0             4         4          5            4\n",
       "1             3         4          5            3\n",
       "2             4         4          5            4\n",
       "3             3         3          4            4\n",
       "4             4         4          5            4\n",
       "...         ...       ...        ...          ...\n",
       "1184          3         4          5            3\n",
       "1185          3         4          3            3\n",
       "1186          3         3          5            4\n",
       "1187          3         3          4            4\n",
       "1188          4         3          4            3\n",
       "\n",
       "[1189 rows x 4 columns]"
      ]
     },
     "execution_count": 32,
     "metadata": {},
     "output_type": "execute_result"
    }
   ],
   "source": [
    "df[features_ordinal]"
   ]
  },
  {
   "cell_type": "markdown",
   "id": "81ed5c2e",
   "metadata": {},
   "source": [
    "Эти признаки + некоторые другие теперь являются порядковыми которые мы будем кодировать лейбленкодером."
   ]
  },
  {
   "cell_type": "code",
   "execution_count": 33,
   "id": "5df05dc3",
   "metadata": {},
   "outputs": [],
   "source": [
    "features_label_encoding = [\n",
    "    'TotRmsAbvGrd',\n",
    "    'Fireplaces',\n",
    "    'OverallQual',\n",
    "    'BedroomAbvGr',\n",
    "    'OverallCond',\n",
    "    'ExterQual',\n",
    "    'BsmtQual', \n",
    "    'HeatingQC', \n",
    "    'KitchenQual'\n",
    "]"
   ]
  },
  {
   "cell_type": "code",
   "execution_count": 34,
   "id": "10fefeff",
   "metadata": {},
   "outputs": [
    {
     "data": {
      "text/html": [
       "<div>\n",
       "<style scoped>\n",
       "    .dataframe tbody tr th:only-of-type {\n",
       "        vertical-align: middle;\n",
       "    }\n",
       "\n",
       "    .dataframe tbody tr th {\n",
       "        vertical-align: top;\n",
       "    }\n",
       "\n",
       "    .dataframe thead th {\n",
       "        text-align: right;\n",
       "    }\n",
       "</style>\n",
       "<table border=\"1\" class=\"dataframe\">\n",
       "  <thead>\n",
       "    <tr style=\"text-align: right;\">\n",
       "      <th></th>\n",
       "      <th>TotRmsAbvGrd</th>\n",
       "      <th>Fireplaces</th>\n",
       "      <th>OverallQual</th>\n",
       "      <th>BedroomAbvGr</th>\n",
       "      <th>OverallCond</th>\n",
       "      <th>ExterQual</th>\n",
       "      <th>BsmtQual</th>\n",
       "      <th>HeatingQC</th>\n",
       "      <th>KitchenQual</th>\n",
       "    </tr>\n",
       "  </thead>\n",
       "  <tbody>\n",
       "    <tr>\n",
       "      <th>0</th>\n",
       "      <td>8</td>\n",
       "      <td>0</td>\n",
       "      <td>7</td>\n",
       "      <td>3</td>\n",
       "      <td>5</td>\n",
       "      <td>4</td>\n",
       "      <td>4</td>\n",
       "      <td>5</td>\n",
       "      <td>4</td>\n",
       "    </tr>\n",
       "    <tr>\n",
       "      <th>1</th>\n",
       "      <td>6</td>\n",
       "      <td>1</td>\n",
       "      <td>6</td>\n",
       "      <td>3</td>\n",
       "      <td>8</td>\n",
       "      <td>3</td>\n",
       "      <td>4</td>\n",
       "      <td>5</td>\n",
       "      <td>3</td>\n",
       "    </tr>\n",
       "    <tr>\n",
       "      <th>2</th>\n",
       "      <td>6</td>\n",
       "      <td>1</td>\n",
       "      <td>7</td>\n",
       "      <td>3</td>\n",
       "      <td>5</td>\n",
       "      <td>4</td>\n",
       "      <td>4</td>\n",
       "      <td>5</td>\n",
       "      <td>4</td>\n",
       "    </tr>\n",
       "    <tr>\n",
       "      <th>3</th>\n",
       "      <td>7</td>\n",
       "      <td>1</td>\n",
       "      <td>7</td>\n",
       "      <td>3</td>\n",
       "      <td>5</td>\n",
       "      <td>3</td>\n",
       "      <td>3</td>\n",
       "      <td>4</td>\n",
       "      <td>4</td>\n",
       "    </tr>\n",
       "    <tr>\n",
       "      <th>4</th>\n",
       "      <td>6</td>\n",
       "      <td>1</td>\n",
       "      <td>8</td>\n",
       "      <td>4</td>\n",
       "      <td>5</td>\n",
       "      <td>4</td>\n",
       "      <td>4</td>\n",
       "      <td>5</td>\n",
       "      <td>4</td>\n",
       "    </tr>\n",
       "  </tbody>\n",
       "</table>\n",
       "</div>"
      ],
      "text/plain": [
       "   TotRmsAbvGrd  Fireplaces  OverallQual  BedroomAbvGr  OverallCond  \\\n",
       "0             8           0            7             3            5   \n",
       "1             6           1            6             3            8   \n",
       "2             6           1            7             3            5   \n",
       "3             7           1            7             3            5   \n",
       "4             6           1            8             4            5   \n",
       "\n",
       "   ExterQual  BsmtQual  HeatingQC  KitchenQual  \n",
       "0          4         4          5            4  \n",
       "1          3         4          5            3  \n",
       "2          4         4          5            4  \n",
       "3          3         3          4            4  \n",
       "4          4         4          5            4  "
      ]
     },
     "execution_count": 34,
     "metadata": {},
     "output_type": "execute_result"
    }
   ],
   "source": [
    "df[features_label_encoding].head()"
   ]
  },
  {
   "cell_type": "markdown",
   "id": "b82b7763",
   "metadata": {},
   "source": [
    "Признаки, которые явлюятся числовыми (убираем SalePrice из рассмотрения)."
   ]
  },
  {
   "cell_type": "code",
   "execution_count": 35,
   "id": "e7f5b5cd",
   "metadata": {},
   "outputs": [],
   "source": [
    "features_numeric = [\n",
    "    # 'SalePrice',\n",
    "    'LotArea',\n",
    "    'TotalBsmtSF',\n",
    "    'GrLivArea',\n",
    "    'GarageArea',\n",
    "    'YearBuilt'\n",
    "]"
   ]
  },
  {
   "cell_type": "code",
   "execution_count": 36,
   "id": "22ade8b7",
   "metadata": {},
   "outputs": [
    {
     "data": {
      "text/html": [
       "<div>\n",
       "<style scoped>\n",
       "    .dataframe tbody tr th:only-of-type {\n",
       "        vertical-align: middle;\n",
       "    }\n",
       "\n",
       "    .dataframe tbody tr th {\n",
       "        vertical-align: top;\n",
       "    }\n",
       "\n",
       "    .dataframe thead th {\n",
       "        text-align: right;\n",
       "    }\n",
       "</style>\n",
       "<table border=\"1\" class=\"dataframe\">\n",
       "  <thead>\n",
       "    <tr style=\"text-align: right;\">\n",
       "      <th></th>\n",
       "      <th>LotArea</th>\n",
       "      <th>TotalBsmtSF</th>\n",
       "      <th>GrLivArea</th>\n",
       "      <th>GarageArea</th>\n",
       "      <th>YearBuilt</th>\n",
       "    </tr>\n",
       "  </thead>\n",
       "  <tbody>\n",
       "    <tr>\n",
       "      <th>0</th>\n",
       "      <td>8450</td>\n",
       "      <td>856</td>\n",
       "      <td>1710</td>\n",
       "      <td>548</td>\n",
       "      <td>2003</td>\n",
       "    </tr>\n",
       "    <tr>\n",
       "      <th>1</th>\n",
       "      <td>9600</td>\n",
       "      <td>1262</td>\n",
       "      <td>1262</td>\n",
       "      <td>460</td>\n",
       "      <td>1976</td>\n",
       "    </tr>\n",
       "    <tr>\n",
       "      <th>2</th>\n",
       "      <td>11250</td>\n",
       "      <td>920</td>\n",
       "      <td>1786</td>\n",
       "      <td>608</td>\n",
       "      <td>2001</td>\n",
       "    </tr>\n",
       "    <tr>\n",
       "      <th>3</th>\n",
       "      <td>9550</td>\n",
       "      <td>756</td>\n",
       "      <td>1717</td>\n",
       "      <td>642</td>\n",
       "      <td>1915</td>\n",
       "    </tr>\n",
       "    <tr>\n",
       "      <th>4</th>\n",
       "      <td>14260</td>\n",
       "      <td>1145</td>\n",
       "      <td>2198</td>\n",
       "      <td>836</td>\n",
       "      <td>2000</td>\n",
       "    </tr>\n",
       "  </tbody>\n",
       "</table>\n",
       "</div>"
      ],
      "text/plain": [
       "   LotArea  TotalBsmtSF  GrLivArea  GarageArea  YearBuilt\n",
       "0     8450          856       1710         548       2003\n",
       "1     9600         1262       1262         460       1976\n",
       "2    11250          920       1786         608       2001\n",
       "3     9550          756       1717         642       1915\n",
       "4    14260         1145       2198         836       2000"
      ]
     },
     "execution_count": 36,
     "metadata": {},
     "output_type": "execute_result"
    }
   ],
   "source": [
    "df[features_numeric].head()"
   ]
  },
  {
   "cell_type": "markdown",
   "id": "25d4519f",
   "metadata": {},
   "source": [
    "Признаки, которые будем кодировать OneHot энкодером."
   ]
  },
  {
   "cell_type": "code",
   "execution_count": 37,
   "id": "4ff65d15",
   "metadata": {},
   "outputs": [],
   "source": [
    "features_onehot_encoding = [\n",
    "    'MSZoning',\n",
    "    'RoofStyle',\n",
    "    'Exterior1st',\n",
    "    'Exterior2nd', \n",
    "    'Foundation',\n",
    "    'YearRemodAdd'\n",
    "]"
   ]
  },
  {
   "cell_type": "code",
   "execution_count": 38,
   "id": "dbbfd6b9",
   "metadata": {},
   "outputs": [
    {
     "data": {
      "text/html": [
       "<div>\n",
       "<style scoped>\n",
       "    .dataframe tbody tr th:only-of-type {\n",
       "        vertical-align: middle;\n",
       "    }\n",
       "\n",
       "    .dataframe tbody tr th {\n",
       "        vertical-align: top;\n",
       "    }\n",
       "\n",
       "    .dataframe thead th {\n",
       "        text-align: right;\n",
       "    }\n",
       "</style>\n",
       "<table border=\"1\" class=\"dataframe\">\n",
       "  <thead>\n",
       "    <tr style=\"text-align: right;\">\n",
       "      <th></th>\n",
       "      <th>MSZoning</th>\n",
       "      <th>RoofStyle</th>\n",
       "      <th>Exterior1st</th>\n",
       "      <th>Exterior2nd</th>\n",
       "      <th>Foundation</th>\n",
       "      <th>YearRemodAdd</th>\n",
       "    </tr>\n",
       "  </thead>\n",
       "  <tbody>\n",
       "    <tr>\n",
       "      <th>0</th>\n",
       "      <td>RL</td>\n",
       "      <td>Gable</td>\n",
       "      <td>VinylSd</td>\n",
       "      <td>VinylSd</td>\n",
       "      <td>PConc</td>\n",
       "      <td>OldRemod</td>\n",
       "    </tr>\n",
       "    <tr>\n",
       "      <th>1</th>\n",
       "      <td>RL</td>\n",
       "      <td>Gable</td>\n",
       "      <td>MetalSd</td>\n",
       "      <td>MetalSd</td>\n",
       "      <td>CBlock</td>\n",
       "      <td>OldRemod</td>\n",
       "    </tr>\n",
       "    <tr>\n",
       "      <th>2</th>\n",
       "      <td>RL</td>\n",
       "      <td>Gable</td>\n",
       "      <td>VinylSd</td>\n",
       "      <td>VinylSd</td>\n",
       "      <td>PConc</td>\n",
       "      <td>OldRemod</td>\n",
       "    </tr>\n",
       "    <tr>\n",
       "      <th>3</th>\n",
       "      <td>RL</td>\n",
       "      <td>Gable</td>\n",
       "      <td>Wd Sdng</td>\n",
       "      <td>VinylSd</td>\n",
       "      <td>BrkTil</td>\n",
       "      <td>OldRemod</td>\n",
       "    </tr>\n",
       "    <tr>\n",
       "      <th>4</th>\n",
       "      <td>RL</td>\n",
       "      <td>Gable</td>\n",
       "      <td>VinylSd</td>\n",
       "      <td>VinylSd</td>\n",
       "      <td>PConc</td>\n",
       "      <td>OldRemod</td>\n",
       "    </tr>\n",
       "  </tbody>\n",
       "</table>\n",
       "</div>"
      ],
      "text/plain": [
       "  MSZoning RoofStyle Exterior1st Exterior2nd Foundation YearRemodAdd\n",
       "0       RL     Gable     VinylSd     VinylSd      PConc     OldRemod\n",
       "1       RL     Gable     MetalSd     MetalSd     CBlock     OldRemod\n",
       "2       RL     Gable     VinylSd     VinylSd      PConc     OldRemod\n",
       "3       RL     Gable     Wd Sdng     VinylSd     BrkTil     OldRemod\n",
       "4       RL     Gable     VinylSd     VinylSd      PConc     OldRemod"
      ]
     },
     "execution_count": 38,
     "metadata": {},
     "output_type": "execute_result"
    }
   ],
   "source": [
    "df[features_onehot_encoding].head()"
   ]
  },
  {
   "cell_type": "markdown",
   "id": "37e84568",
   "metadata": {},
   "source": [
    "Все пространство признаков, которое будем использовать выглядит теперь следующим образом."
   ]
  },
  {
   "cell_type": "code",
   "execution_count": 39,
   "id": "c6569ede",
   "metadata": {},
   "outputs": [
    {
     "data": {
      "text/html": [
       "<div>\n",
       "<style scoped>\n",
       "    .dataframe tbody tr th:only-of-type {\n",
       "        vertical-align: middle;\n",
       "    }\n",
       "\n",
       "    .dataframe tbody tr th {\n",
       "        vertical-align: top;\n",
       "    }\n",
       "\n",
       "    .dataframe thead th {\n",
       "        text-align: right;\n",
       "    }\n",
       "</style>\n",
       "<table border=\"1\" class=\"dataframe\">\n",
       "  <thead>\n",
       "    <tr style=\"text-align: right;\">\n",
       "      <th></th>\n",
       "      <th>MSZoning</th>\n",
       "      <th>RoofStyle</th>\n",
       "      <th>Exterior1st</th>\n",
       "      <th>Exterior2nd</th>\n",
       "      <th>Foundation</th>\n",
       "      <th>YearRemodAdd</th>\n",
       "      <th>TotRmsAbvGrd</th>\n",
       "      <th>Fireplaces</th>\n",
       "      <th>OverallQual</th>\n",
       "      <th>BedroomAbvGr</th>\n",
       "      <th>OverallCond</th>\n",
       "      <th>ExterQual</th>\n",
       "      <th>BsmtQual</th>\n",
       "      <th>HeatingQC</th>\n",
       "      <th>KitchenQual</th>\n",
       "      <th>LotArea</th>\n",
       "      <th>TotalBsmtSF</th>\n",
       "      <th>GrLivArea</th>\n",
       "      <th>GarageArea</th>\n",
       "      <th>YearBuilt</th>\n",
       "    </tr>\n",
       "  </thead>\n",
       "  <tbody>\n",
       "    <tr>\n",
       "      <th>0</th>\n",
       "      <td>RL</td>\n",
       "      <td>Gable</td>\n",
       "      <td>VinylSd</td>\n",
       "      <td>VinylSd</td>\n",
       "      <td>PConc</td>\n",
       "      <td>OldRemod</td>\n",
       "      <td>8</td>\n",
       "      <td>0</td>\n",
       "      <td>7</td>\n",
       "      <td>3</td>\n",
       "      <td>5</td>\n",
       "      <td>4</td>\n",
       "      <td>4</td>\n",
       "      <td>5</td>\n",
       "      <td>4</td>\n",
       "      <td>8450</td>\n",
       "      <td>856</td>\n",
       "      <td>1710</td>\n",
       "      <td>548</td>\n",
       "      <td>2003</td>\n",
       "    </tr>\n",
       "    <tr>\n",
       "      <th>1</th>\n",
       "      <td>RL</td>\n",
       "      <td>Gable</td>\n",
       "      <td>MetalSd</td>\n",
       "      <td>MetalSd</td>\n",
       "      <td>CBlock</td>\n",
       "      <td>OldRemod</td>\n",
       "      <td>6</td>\n",
       "      <td>1</td>\n",
       "      <td>6</td>\n",
       "      <td>3</td>\n",
       "      <td>8</td>\n",
       "      <td>3</td>\n",
       "      <td>4</td>\n",
       "      <td>5</td>\n",
       "      <td>3</td>\n",
       "      <td>9600</td>\n",
       "      <td>1262</td>\n",
       "      <td>1262</td>\n",
       "      <td>460</td>\n",
       "      <td>1976</td>\n",
       "    </tr>\n",
       "    <tr>\n",
       "      <th>2</th>\n",
       "      <td>RL</td>\n",
       "      <td>Gable</td>\n",
       "      <td>VinylSd</td>\n",
       "      <td>VinylSd</td>\n",
       "      <td>PConc</td>\n",
       "      <td>OldRemod</td>\n",
       "      <td>6</td>\n",
       "      <td>1</td>\n",
       "      <td>7</td>\n",
       "      <td>3</td>\n",
       "      <td>5</td>\n",
       "      <td>4</td>\n",
       "      <td>4</td>\n",
       "      <td>5</td>\n",
       "      <td>4</td>\n",
       "      <td>11250</td>\n",
       "      <td>920</td>\n",
       "      <td>1786</td>\n",
       "      <td>608</td>\n",
       "      <td>2001</td>\n",
       "    </tr>\n",
       "    <tr>\n",
       "      <th>3</th>\n",
       "      <td>RL</td>\n",
       "      <td>Gable</td>\n",
       "      <td>Wd Sdng</td>\n",
       "      <td>VinylSd</td>\n",
       "      <td>BrkTil</td>\n",
       "      <td>OldRemod</td>\n",
       "      <td>7</td>\n",
       "      <td>1</td>\n",
       "      <td>7</td>\n",
       "      <td>3</td>\n",
       "      <td>5</td>\n",
       "      <td>3</td>\n",
       "      <td>3</td>\n",
       "      <td>4</td>\n",
       "      <td>4</td>\n",
       "      <td>9550</td>\n",
       "      <td>756</td>\n",
       "      <td>1717</td>\n",
       "      <td>642</td>\n",
       "      <td>1915</td>\n",
       "    </tr>\n",
       "    <tr>\n",
       "      <th>4</th>\n",
       "      <td>RL</td>\n",
       "      <td>Gable</td>\n",
       "      <td>VinylSd</td>\n",
       "      <td>VinylSd</td>\n",
       "      <td>PConc</td>\n",
       "      <td>OldRemod</td>\n",
       "      <td>6</td>\n",
       "      <td>1</td>\n",
       "      <td>8</td>\n",
       "      <td>4</td>\n",
       "      <td>5</td>\n",
       "      <td>4</td>\n",
       "      <td>4</td>\n",
       "      <td>5</td>\n",
       "      <td>4</td>\n",
       "      <td>14260</td>\n",
       "      <td>1145</td>\n",
       "      <td>2198</td>\n",
       "      <td>836</td>\n",
       "      <td>2000</td>\n",
       "    </tr>\n",
       "    <tr>\n",
       "      <th>...</th>\n",
       "      <td>...</td>\n",
       "      <td>...</td>\n",
       "      <td>...</td>\n",
       "      <td>...</td>\n",
       "      <td>...</td>\n",
       "      <td>...</td>\n",
       "      <td>...</td>\n",
       "      <td>...</td>\n",
       "      <td>...</td>\n",
       "      <td>...</td>\n",
       "      <td>...</td>\n",
       "      <td>...</td>\n",
       "      <td>...</td>\n",
       "      <td>...</td>\n",
       "      <td>...</td>\n",
       "      <td>...</td>\n",
       "      <td>...</td>\n",
       "      <td>...</td>\n",
       "      <td>...</td>\n",
       "      <td>...</td>\n",
       "    </tr>\n",
       "    <tr>\n",
       "      <th>1184</th>\n",
       "      <td>RL</td>\n",
       "      <td>Gable</td>\n",
       "      <td>VinylSd</td>\n",
       "      <td>VinylSd</td>\n",
       "      <td>PConc</td>\n",
       "      <td>OldRemod</td>\n",
       "      <td>7</td>\n",
       "      <td>1</td>\n",
       "      <td>6</td>\n",
       "      <td>3</td>\n",
       "      <td>5</td>\n",
       "      <td>3</td>\n",
       "      <td>4</td>\n",
       "      <td>5</td>\n",
       "      <td>3</td>\n",
       "      <td>7917</td>\n",
       "      <td>953</td>\n",
       "      <td>1647</td>\n",
       "      <td>460</td>\n",
       "      <td>1999</td>\n",
       "    </tr>\n",
       "    <tr>\n",
       "      <th>1185</th>\n",
       "      <td>RL</td>\n",
       "      <td>Gable</td>\n",
       "      <td>Plywood</td>\n",
       "      <td>Plywood</td>\n",
       "      <td>CBlock</td>\n",
       "      <td>OldRemod</td>\n",
       "      <td>7</td>\n",
       "      <td>2</td>\n",
       "      <td>6</td>\n",
       "      <td>3</td>\n",
       "      <td>6</td>\n",
       "      <td>3</td>\n",
       "      <td>4</td>\n",
       "      <td>3</td>\n",
       "      <td>3</td>\n",
       "      <td>13175</td>\n",
       "      <td>1542</td>\n",
       "      <td>2073</td>\n",
       "      <td>500</td>\n",
       "      <td>1978</td>\n",
       "    </tr>\n",
       "    <tr>\n",
       "      <th>1186</th>\n",
       "      <td>RL</td>\n",
       "      <td>Gable</td>\n",
       "      <td>VinylSd</td>\n",
       "      <td>VinylSd</td>\n",
       "      <td>PConc</td>\n",
       "      <td>NewRemod</td>\n",
       "      <td>6</td>\n",
       "      <td>2</td>\n",
       "      <td>7</td>\n",
       "      <td>4</td>\n",
       "      <td>5</td>\n",
       "      <td>3</td>\n",
       "      <td>3</td>\n",
       "      <td>5</td>\n",
       "      <td>4</td>\n",
       "      <td>9042</td>\n",
       "      <td>1152</td>\n",
       "      <td>2340</td>\n",
       "      <td>252</td>\n",
       "      <td>1941</td>\n",
       "    </tr>\n",
       "    <tr>\n",
       "      <th>1187</th>\n",
       "      <td>RL</td>\n",
       "      <td>Hip</td>\n",
       "      <td>MetalSd</td>\n",
       "      <td>MetalSd</td>\n",
       "      <td>CBlock</td>\n",
       "      <td>OldRemod</td>\n",
       "      <td>5</td>\n",
       "      <td>0</td>\n",
       "      <td>5</td>\n",
       "      <td>2</td>\n",
       "      <td>6</td>\n",
       "      <td>3</td>\n",
       "      <td>3</td>\n",
       "      <td>4</td>\n",
       "      <td>4</td>\n",
       "      <td>9717</td>\n",
       "      <td>1078</td>\n",
       "      <td>1078</td>\n",
       "      <td>240</td>\n",
       "      <td>1950</td>\n",
       "    </tr>\n",
       "    <tr>\n",
       "      <th>1188</th>\n",
       "      <td>RL</td>\n",
       "      <td>Gable</td>\n",
       "      <td>HdBoard</td>\n",
       "      <td>HdBoard</td>\n",
       "      <td>CBlock</td>\n",
       "      <td>OldRemod</td>\n",
       "      <td>6</td>\n",
       "      <td>0</td>\n",
       "      <td>5</td>\n",
       "      <td>3</td>\n",
       "      <td>6</td>\n",
       "      <td>4</td>\n",
       "      <td>3</td>\n",
       "      <td>4</td>\n",
       "      <td>3</td>\n",
       "      <td>9937</td>\n",
       "      <td>1256</td>\n",
       "      <td>1256</td>\n",
       "      <td>276</td>\n",
       "      <td>1965</td>\n",
       "    </tr>\n",
       "  </tbody>\n",
       "</table>\n",
       "<p>1189 rows × 20 columns</p>\n",
       "</div>"
      ],
      "text/plain": [
       "     MSZoning RoofStyle Exterior1st Exterior2nd Foundation YearRemodAdd  \\\n",
       "0          RL     Gable     VinylSd     VinylSd      PConc     OldRemod   \n",
       "1          RL     Gable     MetalSd     MetalSd     CBlock     OldRemod   \n",
       "2          RL     Gable     VinylSd     VinylSd      PConc     OldRemod   \n",
       "3          RL     Gable     Wd Sdng     VinylSd     BrkTil     OldRemod   \n",
       "4          RL     Gable     VinylSd     VinylSd      PConc     OldRemod   \n",
       "...       ...       ...         ...         ...        ...          ...   \n",
       "1184       RL     Gable     VinylSd     VinylSd      PConc     OldRemod   \n",
       "1185       RL     Gable     Plywood     Plywood     CBlock     OldRemod   \n",
       "1186       RL     Gable     VinylSd     VinylSd      PConc     NewRemod   \n",
       "1187       RL       Hip     MetalSd     MetalSd     CBlock     OldRemod   \n",
       "1188       RL     Gable     HdBoard     HdBoard     CBlock     OldRemod   \n",
       "\n",
       "      TotRmsAbvGrd  Fireplaces  OverallQual  BedroomAbvGr  OverallCond  \\\n",
       "0                8           0            7             3            5   \n",
       "1                6           1            6             3            8   \n",
       "2                6           1            7             3            5   \n",
       "3                7           1            7             3            5   \n",
       "4                6           1            8             4            5   \n",
       "...            ...         ...          ...           ...          ...   \n",
       "1184             7           1            6             3            5   \n",
       "1185             7           2            6             3            6   \n",
       "1186             6           2            7             4            5   \n",
       "1187             5           0            5             2            6   \n",
       "1188             6           0            5             3            6   \n",
       "\n",
       "      ExterQual  BsmtQual  HeatingQC  KitchenQual  LotArea  TotalBsmtSF  \\\n",
       "0             4         4          5            4     8450          856   \n",
       "1             3         4          5            3     9600         1262   \n",
       "2             4         4          5            4    11250          920   \n",
       "3             3         3          4            4     9550          756   \n",
       "4             4         4          5            4    14260         1145   \n",
       "...         ...       ...        ...          ...      ...          ...   \n",
       "1184          3         4          5            3     7917          953   \n",
       "1185          3         4          3            3    13175         1542   \n",
       "1186          3         3          5            4     9042         1152   \n",
       "1187          3         3          4            4     9717         1078   \n",
       "1188          4         3          4            3     9937         1256   \n",
       "\n",
       "      GrLivArea  GarageArea  YearBuilt  \n",
       "0          1710         548       2003  \n",
       "1          1262         460       1976  \n",
       "2          1786         608       2001  \n",
       "3          1717         642       1915  \n",
       "4          2198         836       2000  \n",
       "...         ...         ...        ...  \n",
       "1184       1647         460       1999  \n",
       "1185       2073         500       1978  \n",
       "1186       2340         252       1941  \n",
       "1187       1078         240       1950  \n",
       "1188       1256         276       1965  \n",
       "\n",
       "[1189 rows x 20 columns]"
      ]
     },
     "execution_count": 39,
     "metadata": {},
     "output_type": "execute_result"
    }
   ],
   "source": [
    "df[features_onehot_encoding + features_label_encoding + features_numeric]"
   ]
  },
  {
   "cell_type": "markdown",
   "id": "d278a358",
   "metadata": {},
   "source": [
    "Закодируем + нормализуем пространство признаков."
   ]
  },
  {
   "cell_type": "code",
   "execution_count": 40,
   "id": "6798a325",
   "metadata": {},
   "outputs": [],
   "source": [
    "steps_ordinal_standard = [\n",
    "    ('encoder', OrdinalEncoder()),\n",
    "    ('scaler', StandardScaler())\n",
    "]\n",
    "\n",
    "steps_onehot_standard = [\n",
    "    ('encoder', OneHotEncoder()),\n",
    "    ('scaler', StandardScaler(with_mean=False))\n",
    "]\n",
    "\n",
    "steps_numeric_standard = [\n",
    "    ('scaler', StandardScaler())\n",
    "]\n",
    "\n",
    "transformer_standard = ColumnTransformer([\n",
    "    ('ordinal_encoding', Pipeline(steps=steps_ordinal_standard), features_label_encoding),\n",
    "    ('onehot_encoding', Pipeline(steps=steps_onehot_standard), features_onehot_encoding),\n",
    "    ('numeric_normilizing', Pipeline(steps=steps_numeric_standard), features_numeric)\n",
    "])\n",
    "ppln_standard = Pipeline(steps=[('transformer', transformer_standard)])\n",
    "X_standard = ppln_standard.fit_transform(df.drop(columns=['SalePrice']))"
   ]
  },
  {
   "cell_type": "markdown",
   "id": "0d9cfdb2",
   "metadata": {},
   "source": [
    "Закодируем + стандартизуем пространство признаков."
   ]
  },
  {
   "cell_type": "code",
   "execution_count": 41,
   "id": "bbd5967f",
   "metadata": {},
   "outputs": [],
   "source": [
    "steps_ordinal_minmax = [\n",
    "    ('encoder', OrdinalEncoder()),\n",
    "    ('scaler', MinMaxScaler())\n",
    "]\n",
    "\n",
    "steps_onehot_minmax = [\n",
    "    ('encoder', OneHotEncoder()),\n",
    "    # ('scaler', MinMaxScaler())\n",
    "]\n",
    "\n",
    "steps_numeric_minmax = [\n",
    "    ('scaler', MinMaxScaler())\n",
    "]\n",
    "\n",
    "transformer_minmax = ColumnTransformer([\n",
    "    ('ordinal_encoding', Pipeline(steps=steps_ordinal_minmax), features_label_encoding),\n",
    "    ('onehot_encoding', Pipeline(steps=steps_onehot_minmax), features_onehot_encoding),\n",
    "    ('numeric_normilizing', Pipeline(steps=steps_numeric_minmax), features_numeric)\n",
    "])\n",
    "ppln_minmax = Pipeline(steps=[('transformer', transformer_minmax)])\n",
    "X_minmax = ppln_minmax.fit_transform(df.drop(columns=['SalePrice']))"
   ]
  },
  {
   "cell_type": "markdown",
   "id": "80dec64b",
   "metadata": {},
   "source": [
    "# Clustering processes"
   ]
  },
  {
   "cell_type": "markdown",
   "id": "1d371581",
   "metadata": {},
   "source": [
    "## Custom DBSCAN implementation"
   ]
  },
  {
   "cell_type": "markdown",
   "id": "730c913f",
   "metadata": {},
   "source": [
    "Готовый DBSCAN почему-то отваливался (обучение на стадии .fit(X) не заканчивалось) - не было времени разбираться, поэтому я использовал свою готовую реализацию."
   ]
  },
  {
   "cell_type": "code",
   "execution_count": 42,
   "id": "6432a4ba",
   "metadata": {},
   "outputs": [],
   "source": [
    "class DBScan:\n",
    "    def __init__(self, eps=0.5, min_samples=5, leaf_size=40, metric=\"euclidean\"):\n",
    "        self.eps = eps\n",
    "        self.min_samples = min_samples\n",
    "        self.leaf_size = leaf_size\n",
    "        self.metric = metric\n",
    "        \n",
    "        \n",
    "    def fit_predict(self, X, y=None):\n",
    "        tree = KDTree(X, leaf_size=self.leaf_size, metric=self.metric)\n",
    "        # метки кластеров, изначально все метки помечены -1, как аномалии\n",
    "        labels = np.array([-1] * X.shape[0])  \n",
    "        # список посещенных/не посещенных вершин\n",
    "        visited = np.array([0] * X.shape[0])  \n",
    "        clust_num = 0  # номер текущего кластера\n",
    "        \n",
    "        for i, row in enumerate(X):\n",
    "            # если уже просмотрели это наблюдение\n",
    "            if visited[i]:  \n",
    "                continue\n",
    "                \n",
    "            visited[i] = 1\n",
    "            # <= m соседей текущего наблюдения включая его\n",
    "            neighbors = deque(tree.query_radius([row], r=self.eps)[0])  \n",
    "            \n",
    "            if len(neighbors) >= self.min_samples:\n",
    "                while neighbors:  # пока очередь не пуста\n",
    "                    # индекс текущего рассматриваемого наблюдения\n",
    "                    ind = neighbors.popleft()  \n",
    "                    # если наблюдение не посещено - рассматриваем \n",
    "                    # его соседей в эпсилон-окрестности\n",
    "                    if not visited[ind]: \n",
    "                        # помечаем наблюдение посещенным\n",
    "                        visited[ind] = 1  \n",
    "                        \n",
    "                        # рассматриваем соседей текущего наблюдения\n",
    "                        cur_neighbors = tree.query_radius([X[ind]], r=self.eps)[0]  \n",
    "                        # если количество соседей вершины >= m, то \n",
    "                        # добавляем соседей в очередь\n",
    "                        if len(cur_neighbors) >= self.min_samples:  \n",
    "                            for el in cur_neighbors:\n",
    "                                neighbors.append(el)\n",
    "                    # если текущее наблюдение в -1 кластере, то \n",
    "                    # присваиваем ему текущую метку кластера\n",
    "                    if labels[ind] == -1:  \n",
    "                        labels[ind] = clust_num\n",
    "                # после очистки всей очереди увеличиваем номер\n",
    "                # текущего кластера на единицу\n",
    "                clust_num += 1  \n",
    "        return labels"
   ]
  },
  {
   "cell_type": "markdown",
   "id": "eb4cebb3",
   "metadata": {},
   "source": [
    "## Clustering with KMeans and DBSCAN at full dimension"
   ]
  },
  {
   "cell_type": "markdown",
   "id": "d8779f27",
   "metadata": {},
   "source": [
    "### KMeans\n",
    "#### Finding number of clusters"
   ]
  },
  {
   "cell_type": "markdown",
   "id": "3399e180",
   "metadata": {},
   "source": [
    "Для каждого значения кластеров от 2 до 20 и для двух пространств признаков (те что нормализованы и те, что стандартизованы) используем алгоритм KMeans и посчитаем сумму квадратов расстояний от каждой точки до ее ближайшей центроиды и значение метрики качества кластеризации силуэтта."
   ]
  },
  {
   "cell_type": "code",
   "execution_count": 43,
   "id": "094c3c2e",
   "metadata": {},
   "outputs": [],
   "source": [
    "silhouettes = [[], []]\n",
    "inertias = [[], []]\n",
    "cluster_num_begin = 2\n",
    "cluster_num_end = 20\n",
    "clustering_range = list(range(cluster_num_begin, cluster_num_end))\n",
    "for n_clusters in clustering_range:\n",
    "    for i, X in enumerate([X_standard, X_minmax]):\n",
    "        kmeans = KMeans(n_clusters=n_clusters, random_state=54).fit(X)\n",
    "        labels = kmeans.predict(X)\n",
    "        inertias[i].append(kmeans.inertia_)\n",
    "        silhouettes[i].append(silhouette_score(X, labels))"
   ]
  },
  {
   "cell_type": "markdown",
   "id": "59571ddd",
   "metadata": {},
   "source": [
    "Визуализиурем результаты."
   ]
  },
  {
   "cell_type": "code",
   "execution_count": 44,
   "id": "c61da4d8",
   "metadata": {},
   "outputs": [
    {
     "data": {
      "image/png": "[encoded data removed]",
      "text/plain": [
       "<Figure size 1080x1080 with 4 Axes>"
      ]
     },
     "metadata": {
      "needs_background": "light"
     },
     "output_type": "display_data"
    }
   ],
   "source": [
    "fig, axis = plt.subplots(2, 2, figsize=(15, 15))\n",
    "for i, scaler in enumerate(['StandardScaler', 'MinMaxScaler']):\n",
    "    axis[i, 0].plot(\n",
    "        clustering_range, \n",
    "        silhouettes[i],\n",
    "        marker='o', \n",
    "        markerfacecolor='red'\n",
    "    )\n",
    "    axis[i, 0].xaxis.set_major_locator(matplotlib.ticker.MultipleLocator(1))\n",
    "    axis[i, 0].set_title(\n",
    "        f'Dependency of silhoutte score\\nfrom n_clusters for {scaler}',\n",
    "        size=18\n",
    "    )\n",
    "    axis[i, 0].set_xlabel('Number of clusters', size=14)\n",
    "    axis[i, 0].set_ylabel('Silhouette score', size=14)\n",
    "\n",
    "    axis[i, 1].plot(\n",
    "        clustering_range, \n",
    "        inertias[i],\n",
    "        marker='o', \n",
    "        markerfacecolor='red'\n",
    "    )\n",
    "    axis[i, 1].xaxis.set_major_locator(matplotlib.ticker.MultipleLocator(1))\n",
    "    axis[i, 1].set_title(\n",
    "        f'Dependency of inertia\\nfrom n_clusters for {scaler}', \n",
    "        size=18\n",
    "    )\n",
    "    axis[i, 1].set_xlabel('Number of clusters', size=14)\n",
    "    axis[i, 1].set_ylabel('Inertia', size=14)"
   ]
  },
  {
   "cell_type": "markdown",
   "id": "c5de3b8c",
   "metadata": {},
   "source": [
    "Метрика качества выше на MinMax скалере - поэтому здесь и далее будем использовать признаковое пространство, полученное именно  MinMax скалером. Оптимальным количеством кластеров по значению силуэтта и сумме квадратов расстояний кажется значение 4 либо 5 (далее выберем 4, потому что результаты более интерпретируемы)."
   ]
  },
  {
   "cell_type": "markdown",
   "id": "0827bd1f",
   "metadata": {},
   "source": [
    "#### KMeans results with 4 clusters"
   ]
  },
  {
   "cell_type": "markdown",
   "id": "b589e3ed",
   "metadata": {},
   "source": [
    "Результаты кластеризации с использованием KMeans и 4 кластерами."
   ]
  },
  {
   "cell_type": "code",
   "execution_count": 45,
   "id": "228a3ac0",
   "metadata": {},
   "outputs": [
    {
     "data": {
      "text/html": [
       "<div>\n",
       "<style scoped>\n",
       "    .dataframe tbody tr th:only-of-type {\n",
       "        vertical-align: middle;\n",
       "    }\n",
       "\n",
       "    .dataframe tbody tr th {\n",
       "        vertical-align: top;\n",
       "    }\n",
       "\n",
       "    .dataframe thead th {\n",
       "        text-align: right;\n",
       "    }\n",
       "</style>\n",
       "<table border=\"1\" class=\"dataframe\">\n",
       "  <thead>\n",
       "    <tr style=\"text-align: right;\">\n",
       "      <th></th>\n",
       "      <th>cluster_not_pca_kmeans</th>\n",
       "      <th>0</th>\n",
       "      <th>1</th>\n",
       "      <th>2</th>\n",
       "      <th>3</th>\n",
       "    </tr>\n",
       "  </thead>\n",
       "  <tbody>\n",
       "    <tr>\n",
       "      <th rowspan=\"3\" valign=\"top\">SalePrice</th>\n",
       "      <th>count</th>\n",
       "      <td>193.000000</td>\n",
       "      <td>378.000000</td>\n",
       "      <td>436.000000</td>\n",
       "      <td>182.000000</td>\n",
       "    </tr>\n",
       "    <tr>\n",
       "      <th>mean</th>\n",
       "      <td>160474.507772</td>\n",
       "      <td>147030.396825</td>\n",
       "      <td>224501.401376</td>\n",
       "      <td>148654.038462</td>\n",
       "    </tr>\n",
       "    <tr>\n",
       "      <th>median</th>\n",
       "      <td>152000.000000</td>\n",
       "      <td>139925.000000</td>\n",
       "      <td>214000.000000</td>\n",
       "      <td>140000.000000</td>\n",
       "    </tr>\n",
       "    <tr>\n",
       "      <th>YearBuilt</th>\n",
       "      <th>mean</th>\n",
       "      <td>1972.652850</td>\n",
       "      <td>1952.748677</td>\n",
       "      <td>2000.224771</td>\n",
       "      <td>1958.302198</td>\n",
       "    </tr>\n",
       "    <tr>\n",
       "      <th>GrLivArea</th>\n",
       "      <th>mean</th>\n",
       "      <td>1377.259067</td>\n",
       "      <td>1380.126984</td>\n",
       "      <td>1654.846330</td>\n",
       "      <td>1314.307692</td>\n",
       "    </tr>\n",
       "    <tr>\n",
       "      <th>LotArea</th>\n",
       "      <th>mean</th>\n",
       "      <td>9511.036269</td>\n",
       "      <td>9211.148148</td>\n",
       "      <td>9608.172018</td>\n",
       "      <td>8064.505495</td>\n",
       "    </tr>\n",
       "    <tr>\n",
       "      <th>TotalBsmtSF</th>\n",
       "      <th>mean</th>\n",
       "      <td>1000.932642</td>\n",
       "      <td>988.841270</td>\n",
       "      <td>1203.293578</td>\n",
       "      <td>934.164835</td>\n",
       "    </tr>\n",
       "    <tr>\n",
       "      <th>GarageArea</th>\n",
       "      <th>mean</th>\n",
       "      <td>460.761658</td>\n",
       "      <td>415.960317</td>\n",
       "      <td>585.438073</td>\n",
       "      <td>418.972527</td>\n",
       "    </tr>\n",
       "  </tbody>\n",
       "</table>\n",
       "</div>"
      ],
      "text/plain": [
       "cluster_not_pca_kmeans              0              1              2  \\\n",
       "SalePrice   count          193.000000     378.000000     436.000000   \n",
       "            mean        160474.507772  147030.396825  224501.401376   \n",
       "            median      152000.000000  139925.000000  214000.000000   \n",
       "YearBuilt   mean          1972.652850    1952.748677    2000.224771   \n",
       "GrLivArea   mean          1377.259067    1380.126984    1654.846330   \n",
       "LotArea     mean          9511.036269    9211.148148    9608.172018   \n",
       "TotalBsmtSF mean          1000.932642     988.841270    1203.293578   \n",
       "GarageArea  mean           460.761658     415.960317     585.438073   \n",
       "\n",
       "cluster_not_pca_kmeans              3  \n",
       "SalePrice   count          182.000000  \n",
       "            mean        148654.038462  \n",
       "            median      140000.000000  \n",
       "YearBuilt   mean          1958.302198  \n",
       "GrLivArea   mean          1314.307692  \n",
       "LotArea     mean          8064.505495  \n",
       "TotalBsmtSF mean           934.164835  \n",
       "GarageArea  mean           418.972527  "
      ]
     },
     "execution_count": 45,
     "metadata": {},
     "output_type": "execute_result"
    }
   ],
   "source": [
    "model = KMeans(n_clusters=4, random_state=54)\n",
    "df['cluster_not_pca_kmeans'] = model.fit_predict(X_minmax)\n",
    "df[['SalePrice'] + features_numeric + ['cluster_not_pca_kmeans']].groupby(\n",
    "    'cluster_not_pca_kmeans'\n",
    ").agg({\n",
    "    'SalePrice':['count', 'mean', 'median'],\n",
    "    'YearBuilt':['mean'],\n",
    "    'GrLivArea':['mean'],\n",
    "    'LotArea':['mean'],\n",
    "    'TotalBsmtSF':['mean'],\n",
    "    'GarageArea':['mean'],\n",
    "}).T"
   ]
  },
  {
   "cell_type": "markdown",
   "id": "dd706d6b",
   "metadata": {},
   "source": [
    "### DBSCAN"
   ]
  },
  {
   "cell_type": "markdown",
   "id": "2ffa09c8",
   "metadata": {},
   "source": [
    "Результаты кластеризации с использованием DBSCAN - параметры подбирались вручную, исходя из интерпретиации кластеров."
   ]
  },
  {
   "cell_type": "code",
   "execution_count": 46,
   "id": "098d8ed1",
   "metadata": {},
   "outputs": [
    {
     "data": {
      "text/html": [
       "<div>\n",
       "<style scoped>\n",
       "    .dataframe tbody tr th:only-of-type {\n",
       "        vertical-align: middle;\n",
       "    }\n",
       "\n",
       "    .dataframe tbody tr th {\n",
       "        vertical-align: top;\n",
       "    }\n",
       "\n",
       "    .dataframe thead th {\n",
       "        text-align: right;\n",
       "    }\n",
       "</style>\n",
       "<table border=\"1\" class=\"dataframe\">\n",
       "  <thead>\n",
       "    <tr style=\"text-align: right;\">\n",
       "      <th></th>\n",
       "      <th>cluster_not_pca_dbscan</th>\n",
       "      <th>-1</th>\n",
       "      <th>0</th>\n",
       "      <th>1</th>\n",
       "      <th>2</th>\n",
       "      <th>3</th>\n",
       "    </tr>\n",
       "  </thead>\n",
       "  <tbody>\n",
       "    <tr>\n",
       "      <th rowspan=\"3\" valign=\"top\">SalePrice</th>\n",
       "      <th>count</th>\n",
       "      <td>485.000000</td>\n",
       "      <td>460.000000</td>\n",
       "      <td>106.000000</td>\n",
       "      <td>79.000000</td>\n",
       "      <td>59.000000</td>\n",
       "    </tr>\n",
       "    <tr>\n",
       "      <th>mean</th>\n",
       "      <td>156328.701031</td>\n",
       "      <td>215122.823913</td>\n",
       "      <td>151358.962264</td>\n",
       "      <td>136202.544304</td>\n",
       "      <td>167910.949153</td>\n",
       "    </tr>\n",
       "    <tr>\n",
       "      <th>median</th>\n",
       "      <td>144500.000000</td>\n",
       "      <td>207500.000000</td>\n",
       "      <td>148000.000000</td>\n",
       "      <td>132000.000000</td>\n",
       "      <td>165000.000000</td>\n",
       "    </tr>\n",
       "    <tr>\n",
       "      <th>YearBuilt</th>\n",
       "      <th>mean</th>\n",
       "      <td>1957.855670</td>\n",
       "      <td>1995.836957</td>\n",
       "      <td>1969.132075</td>\n",
       "      <td>1955.784810</td>\n",
       "      <td>1974.406780</td>\n",
       "    </tr>\n",
       "    <tr>\n",
       "      <th>GrLivArea</th>\n",
       "      <th>mean</th>\n",
       "      <td>1408.676289</td>\n",
       "      <td>1607.276087</td>\n",
       "      <td>1311.518868</td>\n",
       "      <td>1264.063291</td>\n",
       "      <td>1470.830508</td>\n",
       "    </tr>\n",
       "    <tr>\n",
       "      <th>LotArea</th>\n",
       "      <th>mean</th>\n",
       "      <td>8454.232990</td>\n",
       "      <td>9810.458696</td>\n",
       "      <td>9694.490566</td>\n",
       "      <td>9207.949367</td>\n",
       "      <td>10274.389831</td>\n",
       "    </tr>\n",
       "    <tr>\n",
       "      <th>TotalBsmtSF</th>\n",
       "      <th>mean</th>\n",
       "      <td>959.944330</td>\n",
       "      <td>1181.136957</td>\n",
       "      <td>1020.707547</td>\n",
       "      <td>925.430380</td>\n",
       "      <td>1210.440678</td>\n",
       "    </tr>\n",
       "    <tr>\n",
       "      <th>GarageArea</th>\n",
       "      <th>mean</th>\n",
       "      <td>424.101031</td>\n",
       "      <td>570.900000</td>\n",
       "      <td>457.650943</td>\n",
       "      <td>396.531646</td>\n",
       "      <td>500.406780</td>\n",
       "    </tr>\n",
       "  </tbody>\n",
       "</table>\n",
       "</div>"
      ],
      "text/plain": [
       "cluster_not_pca_dbscan             -1              0              1  \\\n",
       "SalePrice   count          485.000000     460.000000     106.000000   \n",
       "            mean        156328.701031  215122.823913  151358.962264   \n",
       "            median      144500.000000  207500.000000  148000.000000   \n",
       "YearBuilt   mean          1957.855670    1995.836957    1969.132075   \n",
       "GrLivArea   mean          1408.676289    1607.276087    1311.518868   \n",
       "LotArea     mean          8454.232990    9810.458696    9694.490566   \n",
       "TotalBsmtSF mean           959.944330    1181.136957    1020.707547   \n",
       "GarageArea  mean           424.101031     570.900000     457.650943   \n",
       "\n",
       "cluster_not_pca_dbscan              2              3  \n",
       "SalePrice   count           79.000000      59.000000  \n",
       "            mean        136202.544304  167910.949153  \n",
       "            median      132000.000000  165000.000000  \n",
       "YearBuilt   mean          1955.784810    1974.406780  \n",
       "GrLivArea   mean          1264.063291    1470.830508  \n",
       "LotArea     mean          9207.949367   10274.389831  \n",
       "TotalBsmtSF mean           925.430380    1210.440678  \n",
       "GarageArea  mean           396.531646     500.406780  "
      ]
     },
     "execution_count": 46,
     "metadata": {},
     "output_type": "execute_result"
    }
   ],
   "source": [
    "dbs = DBScan(eps=1.5, min_samples=45, metric=\"euclidean\")\n",
    "df['cluster_not_pca_dbscan'] = dbs.fit_predict(X_minmax)\n",
    "df[['SalePrice'] + features_numeric + ['cluster_not_pca_dbscan']].groupby(\n",
    "    'cluster_not_pca_dbscan'\n",
    ").agg({\n",
    "    'SalePrice':['count', 'mean', 'median'],\n",
    "    'YearBuilt':['mean'],\n",
    "    'GrLivArea':['mean'],\n",
    "    'LotArea':['mean'],\n",
    "    'TotalBsmtSF':['mean'],\n",
    "    'GarageArea':['mean'],\n",
    "}).T"
   ]
  },
  {
   "cell_type": "markdown",
   "id": "df803da7",
   "metadata": {},
   "source": [
    "### Visualisation of clustering labels with t-SNE and UMAP"
   ]
  },
  {
   "cell_type": "markdown",
   "id": "83a5014a",
   "metadata": {},
   "source": [
    "Визуализируем метки кластеров, полученные алгоритмами KMeans и DBSCAN в двумерном признаковом пространстве эмбеддингов с использованием t-SNE и UMAP."
   ]
  },
  {
   "cell_type": "code",
   "execution_count": 47,
   "id": "136e0e61",
   "metadata": {},
   "outputs": [],
   "source": [
    "X_embedding_umap = UMAP().fit_transform(X_minmax)\n",
    "X_embedding_tsne = TSNE(\n",
    "    n_components=2, \n",
    "    learning_rate='auto', \n",
    "    init='random'\n",
    ").fit_transform(X_minmax)"
   ]
  },
  {
   "cell_type": "code",
   "execution_count": 48,
   "id": "466fc393",
   "metadata": {},
   "outputs": [
    {
     "data": {
      "image/png": "[encoded data removed]",
      "text/plain": [
       "<Figure size 1080x1080 with 4 Axes>"
      ]
     },
     "metadata": {
      "needs_background": "light"
     },
     "output_type": "display_data"
    }
   ],
   "source": [
    "import matplotlib.cm as cm\n",
    "colors = cm.rainbow(np.linspace(0, 1, df.cluster_not_pca_kmeans.nunique()))\n",
    "fig, axis = plt.subplots(2, 2, figsize=(15, 15))\n",
    "cluster_labels = ['cluster_not_pca_kmeans', 'cluster_not_pca_dbscan']\n",
    "methods = ['KMeans', 'DBSCAN']\n",
    "for i in range(2):\n",
    "    for cluster_number in df[cluster_labels[i]].unique():\n",
    "        indices = np.where(df[cluster_labels[i]].to_numpy() == cluster_number)[0]\n",
    "        axis[i, 0].scatter(\n",
    "            X_embedding_umap[indices][:, 0], \n",
    "            X_embedding_umap[indices][:, 1],\n",
    "            label=f'{cluster_number}'\n",
    "        )\n",
    "        axis[i, 1].scatter(\n",
    "            X_embedding_tsne[indices][:, 0], \n",
    "            X_embedding_tsne[indices][:, 1],\n",
    "            label=f'{cluster_number}'\n",
    "        )\n",
    "    axis[i, 0].legend()\n",
    "    axis[i, 0].set_title(\n",
    "        f'UMAP embedding visualisation\\nof clustering by {methods[i]}',\n",
    "        size=18\n",
    "    )\n",
    "    axis[i, 0].set_xlabel('$x_1$', size=14)\n",
    "    axis[i, 0].set_ylabel('$x_2$', size=14)\n",
    "    axis[i, 1].legend()\n",
    "    axis[i, 1].set_title(\n",
    "        f't-SNE embedding visualisation\\nof clustering by {methods[i]}',\n",
    "        size=18\n",
    "    )\n",
    "    axis[i, 1].set_xlabel('$x_1$', size=14)\n",
    "    axis[i, 1].set_ylabel('$x_2$', size=14)"
   ]
  },
  {
   "cell_type": "markdown",
   "id": "8c7b6140",
   "metadata": {},
   "source": [
    "Более графически сопоставляемые с результатами кластеризации эмбеддинги получились у t-SNE, а более графически интерпретируемые результаты показывает KMeans - плотные сгустки, тогда как DBSCAN огромную часть наблюдений классфицировал как выбросы (метка -1 и зеленый цвет), не найдя у них достаточное количество соседей в эпсилон-окрестности. "
   ]
  },
  {
   "cell_type": "markdown",
   "id": "024e651b",
   "metadata": {},
   "source": [
    "## Dimension reduction with PCA"
   ]
  },
  {
   "cell_type": "markdown",
   "id": "79bd10c8",
   "metadata": {},
   "source": [
    "Используем PCA для снижения размерности исходного признакового пространства."
   ]
  },
  {
   "cell_type": "code",
   "execution_count": 49,
   "id": "b37d865e",
   "metadata": {},
   "outputs": [],
   "source": [
    "pca = PCA()\n",
    "X_pca = pca.fit_transform(X_minmax)\n",
    "explained_variance = pca.explained_variance_ratio_.round(3)\n",
    "cumsum_variance = explained_variance.cumsum()"
   ]
  },
  {
   "cell_type": "markdown",
   "id": "2ba95100",
   "metadata": {},
   "source": [
    "Остановимся на 10-ти главных компонентах - исходя из разумного числа накопленной доли объясненной дисперсии - 86% и графика накопленной доли объясненной дисперсии."
   ]
  },
  {
   "cell_type": "code",
   "execution_count": 50,
   "id": "275292bb",
   "metadata": {},
   "outputs": [
    {
     "data": {
      "text/plain": [
       "0.86"
      ]
     },
     "execution_count": 50,
     "metadata": {},
     "output_type": "execute_result"
    }
   ],
   "source": [
    "round(cumsum_variance[10], 2)"
   ]
  },
  {
   "cell_type": "code",
   "execution_count": 51,
   "id": "02bf5251",
   "metadata": {},
   "outputs": [
    {
     "data": {
      "image/png": "[encoded data removed]",
      "text/plain": [
       "<Figure size 720x432 with 1 Axes>"
      ]
     },
     "metadata": {
      "needs_background": "light"
     },
     "output_type": "display_data"
    }
   ],
   "source": [
    "plt.figure(figsize=(10, 6))\n",
    "plt.plot(cumsum_variance)\n",
    "plt.title('PCA explained variance for different number of components', size=18)\n",
    "plt.ylabel('Cumulative sum of explained variance', size=14)\n",
    "plt.xlabel('Number of components', size=14)\n",
    "plt.axhline(0.857, ls='--', c = 'orange')\n",
    "plt.axvline(10, ls='--', c = 'orange')\n",
    "plt.show();"
   ]
  },
  {
   "cell_type": "code",
   "execution_count": 52,
   "id": "1cf9bb9a",
   "metadata": {},
   "outputs": [
    {
     "data": {
      "text/plain": [
       "(1189, 10)"
      ]
     },
     "execution_count": 52,
     "metadata": {},
     "output_type": "execute_result"
    }
   ],
   "source": [
    "pca = PCA(n_components=10)\n",
    "X_pca = pca.fit_transform(X_minmax)\n",
    "X_pca.shape"
   ]
  },
  {
   "cell_type": "markdown",
   "id": "91def3fc",
   "metadata": {},
   "source": [
    "## Clustering with KMeans and DBSCAN in lower dimension"
   ]
  },
  {
   "cell_type": "markdown",
   "id": "5b050f9f",
   "metadata": {},
   "source": [
    "### KMeans\n",
    "#### Finding number of clusters"
   ]
  },
  {
   "cell_type": "markdown",
   "id": "8a154c35",
   "metadata": {},
   "source": [
    "Выполняем те же действия, что и до использования PCA."
   ]
  },
  {
   "cell_type": "code",
   "execution_count": 53,
   "id": "f50bb633",
   "metadata": {},
   "outputs": [],
   "source": [
    "silhouette = []\n",
    "inertia = []\n",
    "cluster_num_begin = 2\n",
    "cluster_num_end = 20\n",
    "clustering_range = list(range(cluster_num_begin, cluster_num_end))\n",
    "for n_clusters in clustering_range:\n",
    "    kmeans = KMeans(n_clusters=n_clusters, random_state=54).fit(X_pca)\n",
    "    labels = kmeans.predict(X_pca)\n",
    "    inertia.append(kmeans.inertia_)\n",
    "    silhouette.append(silhouette_score(X_pca, labels))"
   ]
  },
  {
   "cell_type": "code",
   "execution_count": 54,
   "id": "7e0826ea",
   "metadata": {},
   "outputs": [
    {
     "data": {
      "image/png": "[encoded data removed]",
      "text/plain": [
       "<Figure size 1080x432 with 2 Axes>"
      ]
     },
     "metadata": {
      "needs_background": "light"
     },
     "output_type": "display_data"
    }
   ],
   "source": [
    "fig, axis = plt.subplots(1, 2, figsize=(15, 6))\n",
    "axis[0].plot(\n",
    "    clustering_range, \n",
    "    silhouette,\n",
    "    marker='o', \n",
    "    markerfacecolor='red'\n",
    ")\n",
    "axis[0].xaxis.set_major_locator(matplotlib.ticker.MultipleLocator(1))\n",
    "axis[0].set_title(\n",
    "    f'Dependency of silhoutte score\\nfrom n_clusters for {scaler}',\n",
    "    size=18\n",
    ")\n",
    "axis[0].set_xlabel('Number of clusters', size=14)\n",
    "axis[0].set_ylabel('Silhouette score', size=14)\n",
    "\n",
    "axis[1].plot(\n",
    "    clustering_range, \n",
    "    inertia,\n",
    "    marker='o', \n",
    "    markerfacecolor='red'\n",
    ")\n",
    "axis[1].xaxis.set_major_locator(matplotlib.ticker.MultipleLocator(1))\n",
    "axis[1].set_title(\n",
    "    f'Dependency of inertia\\nfrom n_clusters for {scaler}', \n",
    "    size=18\n",
    ")\n",
    "axis[1].set_xlabel('Number of clusters', size=14)\n",
    "axis[1].set_ylabel('Inertia', size=14);"
   ]
  },
  {
   "cell_type": "markdown",
   "id": "cd224824",
   "metadata": {},
   "source": [
    "#### KMeans results with 4 clusters"
   ]
  },
  {
   "cell_type": "code",
   "execution_count": 55,
   "id": "33d72ac1",
   "metadata": {},
   "outputs": [
    {
     "data": {
      "text/html": [
       "<div>\n",
       "<style scoped>\n",
       "    .dataframe tbody tr th:only-of-type {\n",
       "        vertical-align: middle;\n",
       "    }\n",
       "\n",
       "    .dataframe tbody tr th {\n",
       "        vertical-align: top;\n",
       "    }\n",
       "\n",
       "    .dataframe thead th {\n",
       "        text-align: right;\n",
       "    }\n",
       "</style>\n",
       "<table border=\"1\" class=\"dataframe\">\n",
       "  <thead>\n",
       "    <tr style=\"text-align: right;\">\n",
       "      <th></th>\n",
       "      <th>cluster_pca_kmeans</th>\n",
       "      <th>0</th>\n",
       "      <th>1</th>\n",
       "      <th>2</th>\n",
       "      <th>3</th>\n",
       "    </tr>\n",
       "  </thead>\n",
       "  <tbody>\n",
       "    <tr>\n",
       "      <th rowspan=\"3\" valign=\"top\">SalePrice</th>\n",
       "      <th>count</th>\n",
       "      <td>436.000000</td>\n",
       "      <td>182.000000</td>\n",
       "      <td>375.000000</td>\n",
       "      <td>196.000000</td>\n",
       "    </tr>\n",
       "    <tr>\n",
       "      <th>mean</th>\n",
       "      <td>224380.988532</td>\n",
       "      <td>148654.038462</td>\n",
       "      <td>147242.906667</td>\n",
       "      <td>160130.000000</td>\n",
       "    </tr>\n",
       "    <tr>\n",
       "      <th>median</th>\n",
       "      <td>214000.000000</td>\n",
       "      <td>140000.000000</td>\n",
       "      <td>140000.000000</td>\n",
       "      <td>152000.000000</td>\n",
       "    </tr>\n",
       "    <tr>\n",
       "      <th>YearBuilt</th>\n",
       "      <th>mean</th>\n",
       "      <td>2000.192661</td>\n",
       "      <td>1958.302198</td>\n",
       "      <td>1952.698667</td>\n",
       "      <td>1972.515306</td>\n",
       "    </tr>\n",
       "    <tr>\n",
       "      <th>GrLivArea</th>\n",
       "      <th>mean</th>\n",
       "      <td>1652.596330</td>\n",
       "      <td>1314.307692</td>\n",
       "      <td>1384.570667</td>\n",
       "      <td>1373.806122</td>\n",
       "    </tr>\n",
       "    <tr>\n",
       "      <th>LotArea</th>\n",
       "      <th>mean</th>\n",
       "      <td>9598.497706</td>\n",
       "      <td>8064.505495</td>\n",
       "      <td>9222.504000</td>\n",
       "      <td>9506.239796</td>\n",
       "    </tr>\n",
       "    <tr>\n",
       "      <th>TotalBsmtSF</th>\n",
       "      <th>mean</th>\n",
       "      <td>1202.855505</td>\n",
       "      <td>934.164835</td>\n",
       "      <td>990.288000</td>\n",
       "      <td>998.954082</td>\n",
       "    </tr>\n",
       "    <tr>\n",
       "      <th>GarageArea</th>\n",
       "      <th>mean</th>\n",
       "      <td>585.149083</td>\n",
       "      <td>418.972527</td>\n",
       "      <td>416.173333</td>\n",
       "      <td>460.311224</td>\n",
       "    </tr>\n",
       "  </tbody>\n",
       "</table>\n",
       "</div>"
      ],
      "text/plain": [
       "cluster_pca_kmeans              0              1              2              3\n",
       "SalePrice   count      436.000000     182.000000     375.000000     196.000000\n",
       "            mean    224380.988532  148654.038462  147242.906667  160130.000000\n",
       "            median  214000.000000  140000.000000  140000.000000  152000.000000\n",
       "YearBuilt   mean      2000.192661    1958.302198    1952.698667    1972.515306\n",
       "GrLivArea   mean      1652.596330    1314.307692    1384.570667    1373.806122\n",
       "LotArea     mean      9598.497706    8064.505495    9222.504000    9506.239796\n",
       "TotalBsmtSF mean      1202.855505     934.164835     990.288000     998.954082\n",
       "GarageArea  mean       585.149083     418.972527     416.173333     460.311224"
      ]
     },
     "execution_count": 55,
     "metadata": {},
     "output_type": "execute_result"
    }
   ],
   "source": [
    "model = KMeans(n_clusters=4, random_state=54)\n",
    "df['cluster_pca_kmeans'] = model.fit_predict(X_pca)\n",
    "df[['SalePrice'] + features_numeric + ['cluster_pca_kmeans']].groupby(\n",
    "    'cluster_pca_kmeans'\n",
    ").agg({\n",
    "    'SalePrice':['count', 'mean', 'median'],\n",
    "    'YearBuilt':['mean'],\n",
    "    'GrLivArea':['mean'],\n",
    "    'LotArea':['mean'],\n",
    "    'TotalBsmtSF':['mean'],\n",
    "    'GarageArea':['mean'],\n",
    "}).T"
   ]
  },
  {
   "cell_type": "markdown",
   "id": "754cf0af",
   "metadata": {},
   "source": [
    "### DBSCAN"
   ]
  },
  {
   "cell_type": "markdown",
   "id": "421be676",
   "metadata": {},
   "source": [
    "Выполняем те же действия, что и до использования PCA."
   ]
  },
  {
   "cell_type": "code",
   "execution_count": 56,
   "id": "0fa47b77",
   "metadata": {},
   "outputs": [
    {
     "data": {
      "text/html": [
       "<div>\n",
       "<style scoped>\n",
       "    .dataframe tbody tr th:only-of-type {\n",
       "        vertical-align: middle;\n",
       "    }\n",
       "\n",
       "    .dataframe tbody tr th {\n",
       "        vertical-align: top;\n",
       "    }\n",
       "\n",
       "    .dataframe thead th {\n",
       "        text-align: right;\n",
       "    }\n",
       "</style>\n",
       "<table border=\"1\" class=\"dataframe\">\n",
       "  <thead>\n",
       "    <tr style=\"text-align: right;\">\n",
       "      <th></th>\n",
       "      <th>cluster_pca_dbscan</th>\n",
       "      <th>-1</th>\n",
       "      <th>0</th>\n",
       "      <th>1</th>\n",
       "      <th>2</th>\n",
       "      <th>3</th>\n",
       "    </tr>\n",
       "  </thead>\n",
       "  <tbody>\n",
       "    <tr>\n",
       "      <th rowspan=\"3\" valign=\"top\">SalePrice</th>\n",
       "      <th>count</th>\n",
       "      <td>485.000000</td>\n",
       "      <td>460.000000</td>\n",
       "      <td>106.000000</td>\n",
       "      <td>79.000000</td>\n",
       "      <td>59.000000</td>\n",
       "    </tr>\n",
       "    <tr>\n",
       "      <th>mean</th>\n",
       "      <td>156328.701031</td>\n",
       "      <td>215122.823913</td>\n",
       "      <td>151358.962264</td>\n",
       "      <td>136202.544304</td>\n",
       "      <td>167910.949153</td>\n",
       "    </tr>\n",
       "    <tr>\n",
       "      <th>median</th>\n",
       "      <td>144500.000000</td>\n",
       "      <td>207500.000000</td>\n",
       "      <td>148000.000000</td>\n",
       "      <td>132000.000000</td>\n",
       "      <td>165000.000000</td>\n",
       "    </tr>\n",
       "    <tr>\n",
       "      <th>YearBuilt</th>\n",
       "      <th>mean</th>\n",
       "      <td>1957.855670</td>\n",
       "      <td>1995.836957</td>\n",
       "      <td>1969.132075</td>\n",
       "      <td>1955.784810</td>\n",
       "      <td>1974.406780</td>\n",
       "    </tr>\n",
       "    <tr>\n",
       "      <th>GrLivArea</th>\n",
       "      <th>mean</th>\n",
       "      <td>1408.676289</td>\n",
       "      <td>1607.276087</td>\n",
       "      <td>1311.518868</td>\n",
       "      <td>1264.063291</td>\n",
       "      <td>1470.830508</td>\n",
       "    </tr>\n",
       "    <tr>\n",
       "      <th>LotArea</th>\n",
       "      <th>mean</th>\n",
       "      <td>8454.232990</td>\n",
       "      <td>9810.458696</td>\n",
       "      <td>9694.490566</td>\n",
       "      <td>9207.949367</td>\n",
       "      <td>10274.389831</td>\n",
       "    </tr>\n",
       "    <tr>\n",
       "      <th>TotalBsmtSF</th>\n",
       "      <th>mean</th>\n",
       "      <td>959.944330</td>\n",
       "      <td>1181.136957</td>\n",
       "      <td>1020.707547</td>\n",
       "      <td>925.430380</td>\n",
       "      <td>1210.440678</td>\n",
       "    </tr>\n",
       "    <tr>\n",
       "      <th>GarageArea</th>\n",
       "      <th>mean</th>\n",
       "      <td>424.101031</td>\n",
       "      <td>570.900000</td>\n",
       "      <td>457.650943</td>\n",
       "      <td>396.531646</td>\n",
       "      <td>500.406780</td>\n",
       "    </tr>\n",
       "  </tbody>\n",
       "</table>\n",
       "</div>"
      ],
      "text/plain": [
       "cluster_pca_dbscan             -1              0              1  \\\n",
       "SalePrice   count      485.000000     460.000000     106.000000   \n",
       "            mean    156328.701031  215122.823913  151358.962264   \n",
       "            median  144500.000000  207500.000000  148000.000000   \n",
       "YearBuilt   mean      1957.855670    1995.836957    1969.132075   \n",
       "GrLivArea   mean      1408.676289    1607.276087    1311.518868   \n",
       "LotArea     mean      8454.232990    9810.458696    9694.490566   \n",
       "TotalBsmtSF mean       959.944330    1181.136957    1020.707547   \n",
       "GarageArea  mean       424.101031     570.900000     457.650943   \n",
       "\n",
       "cluster_pca_dbscan              2              3  \n",
       "SalePrice   count       79.000000      59.000000  \n",
       "            mean    136202.544304  167910.949153  \n",
       "            median  132000.000000  165000.000000  \n",
       "YearBuilt   mean      1955.784810    1974.406780  \n",
       "GrLivArea   mean      1264.063291    1470.830508  \n",
       "LotArea     mean      9207.949367   10274.389831  \n",
       "TotalBsmtSF mean       925.430380    1210.440678  \n",
       "GarageArea  mean       396.531646     500.406780  "
      ]
     },
     "execution_count": 56,
     "metadata": {},
     "output_type": "execute_result"
    }
   ],
   "source": [
    "dbs = DBScan(eps=1.5, min_samples=45, metric=\"euclidean\")\n",
    "df['cluster_pca_dbscan'] = dbs.fit_predict(X_minmax)\n",
    "df[['SalePrice'] + features_numeric + ['cluster_pca_dbscan']].groupby(\n",
    "    'cluster_pca_dbscan'\n",
    ").agg({\n",
    "    'SalePrice':['count', 'mean', 'median'],\n",
    "    'YearBuilt':['mean'],\n",
    "    'GrLivArea':['mean'],\n",
    "    'LotArea':['mean'],\n",
    "    'TotalBsmtSF':['mean'],\n",
    "    'GarageArea':['mean'],\n",
    "}).T"
   ]
  },
  {
   "cell_type": "markdown",
   "id": "c02ab775",
   "metadata": {},
   "source": [
    "## Clustering results comparison using PCA and without PCA"
   ]
  },
  {
   "cell_type": "markdown",
   "id": "412b08d5",
   "metadata": {},
   "source": [
    "Сравним результаты кластеризации до использования PCA и после."
   ]
  },
  {
   "cell_type": "code",
   "execution_count": 57,
   "id": "938c1c69",
   "metadata": {},
   "outputs": [],
   "source": [
    "# немножко магических констант\n",
    "labels = {\n",
    "    0: 3,\n",
    "    1: 2,\n",
    "    2: 0,\n",
    "    3: 1\n",
    "}"
   ]
  },
  {
   "cell_type": "markdown",
   "id": "19470c13",
   "metadata": {},
   "source": [
    "Матрица ошибок меток кластеров с использованием KMeans до и после снижения размерности с PCA. Не сопадают метки кластеров только у пяти наблюдений, бОльшая часть же совпала."
   ]
  },
  {
   "cell_type": "code",
   "execution_count": 58,
   "id": "9dd0364b",
   "metadata": {},
   "outputs": [
    {
     "data": {
      "text/plain": [
       "array([[435,   0,   1,   0],\n",
       "       [  0, 182,   0,   0],\n",
       "       [  1,   0, 374,   3],\n",
       "       [  0,   0,   0, 193]])"
      ]
     },
     "execution_count": 58,
     "metadata": {},
     "output_type": "execute_result"
    }
   ],
   "source": [
    "confusion_matrix(\n",
    "    df['cluster_not_pca_kmeans'].apply(lambda x: labels[x]),\n",
    "    df['cluster_pca_kmeans']\n",
    ")"
   ]
  },
  {
   "cell_type": "markdown",
   "id": "3b3b31db",
   "metadata": {},
   "source": [
    "Матрица ошибок меток кластеров с использованием DBSCAN до и после снижения размерности с PCA. Результаты полностью аналогичные."
   ]
  },
  {
   "cell_type": "code",
   "execution_count": 59,
   "id": "ba47cc08",
   "metadata": {},
   "outputs": [
    {
     "data": {
      "text/plain": [
       "array([[485,   0,   0,   0,   0],\n",
       "       [  0, 460,   0,   0,   0],\n",
       "       [  0,   0, 106,   0,   0],\n",
       "       [  0,   0,   0,  79,   0],\n",
       "       [  0,   0,   0,   0,  59]])"
      ]
     },
     "execution_count": 59,
     "metadata": {},
     "output_type": "execute_result"
    }
   ],
   "source": [
    "confusion_matrix(df['cluster_not_pca_dbscan'], df['cluster_pca_dbscan'])"
   ]
  },
  {
   "cell_type": "markdown",
   "id": "594fea5b",
   "metadata": {},
   "source": [
    "_Вывод_: использование PCA позволило снизить размерность признакового пространства в 3 раза, но при этом результаты кластеризации оказались такими же."
   ]
  },
  {
   "cell_type": "markdown",
   "id": "a70a16ab",
   "metadata": {},
   "source": [
    "## Clustering results interpreting"
   ]
  },
  {
   "cell_type": "markdown",
   "id": "fbc4fd6c",
   "metadata": {},
   "source": [
    "В качестве финального результата кластеризации, который будем интерпретировать, возьмем метки, полученные алгоритмом KMeans для 4-х кластеров до использования PCA."
   ]
  },
  {
   "cell_type": "code",
   "execution_count": 60,
   "id": "c9d62283",
   "metadata": {},
   "outputs": [],
   "source": [
    "# магические константы\n",
    "cluster_labels = {\n",
    "    0: 2,\n",
    "    1: 0,\n",
    "    2: 3,\n",
    "    3: 1\n",
    "}"
   ]
  },
  {
   "cell_type": "code",
   "execution_count": 61,
   "id": "f6242f04",
   "metadata": {},
   "outputs": [],
   "source": [
    "df['cluster_not_pca_kmeans'] = df['cluster_not_pca_kmeans'].apply(\n",
    "    lambda x: cluster_labels[x]\n",
    ")"
   ]
  },
  {
   "cell_type": "code",
   "execution_count": 62,
   "id": "02d6bf05",
   "metadata": {},
   "outputs": [
    {
     "data": {
      "text/html": [
       "<div>\n",
       "<style scoped>\n",
       "    .dataframe tbody tr th:only-of-type {\n",
       "        vertical-align: middle;\n",
       "    }\n",
       "\n",
       "    .dataframe tbody tr th {\n",
       "        vertical-align: top;\n",
       "    }\n",
       "\n",
       "    .dataframe thead th {\n",
       "        text-align: right;\n",
       "    }\n",
       "</style>\n",
       "<table border=\"1\" class=\"dataframe\">\n",
       "  <thead>\n",
       "    <tr style=\"text-align: right;\">\n",
       "      <th></th>\n",
       "      <th>cluster_not_pca_kmeans</th>\n",
       "      <th>0</th>\n",
       "      <th>1</th>\n",
       "      <th>2</th>\n",
       "      <th>3</th>\n",
       "    </tr>\n",
       "  </thead>\n",
       "  <tbody>\n",
       "    <tr>\n",
       "      <th rowspan=\"3\" valign=\"top\">SalePrice</th>\n",
       "      <th>count</th>\n",
       "      <td>378.000000</td>\n",
       "      <td>182.000000</td>\n",
       "      <td>193.000000</td>\n",
       "      <td>436.000000</td>\n",
       "    </tr>\n",
       "    <tr>\n",
       "      <th>mean</th>\n",
       "      <td>147030.396825</td>\n",
       "      <td>148654.038462</td>\n",
       "      <td>160474.507772</td>\n",
       "      <td>224501.401376</td>\n",
       "    </tr>\n",
       "    <tr>\n",
       "      <th>median</th>\n",
       "      <td>139925.000000</td>\n",
       "      <td>140000.000000</td>\n",
       "      <td>152000.000000</td>\n",
       "      <td>214000.000000</td>\n",
       "    </tr>\n",
       "    <tr>\n",
       "      <th>YearBuilt</th>\n",
       "      <th>mean</th>\n",
       "      <td>1952.748677</td>\n",
       "      <td>1958.302198</td>\n",
       "      <td>1972.652850</td>\n",
       "      <td>2000.224771</td>\n",
       "    </tr>\n",
       "    <tr>\n",
       "      <th>GrLivArea</th>\n",
       "      <th>mean</th>\n",
       "      <td>1380.126984</td>\n",
       "      <td>1314.307692</td>\n",
       "      <td>1377.259067</td>\n",
       "      <td>1654.846330</td>\n",
       "    </tr>\n",
       "    <tr>\n",
       "      <th>LotArea</th>\n",
       "      <th>mean</th>\n",
       "      <td>9211.148148</td>\n",
       "      <td>8064.505495</td>\n",
       "      <td>9511.036269</td>\n",
       "      <td>9608.172018</td>\n",
       "    </tr>\n",
       "    <tr>\n",
       "      <th>TotalBsmtSF</th>\n",
       "      <th>mean</th>\n",
       "      <td>988.841270</td>\n",
       "      <td>934.164835</td>\n",
       "      <td>1000.932642</td>\n",
       "      <td>1203.293578</td>\n",
       "    </tr>\n",
       "    <tr>\n",
       "      <th>GarageArea</th>\n",
       "      <th>mean</th>\n",
       "      <td>415.960317</td>\n",
       "      <td>418.972527</td>\n",
       "      <td>460.761658</td>\n",
       "      <td>585.438073</td>\n",
       "    </tr>\n",
       "  </tbody>\n",
       "</table>\n",
       "</div>"
      ],
      "text/plain": [
       "cluster_not_pca_kmeans              0              1              2  \\\n",
       "SalePrice   count          378.000000     182.000000     193.000000   \n",
       "            mean        147030.396825  148654.038462  160474.507772   \n",
       "            median      139925.000000  140000.000000  152000.000000   \n",
       "YearBuilt   mean          1952.748677    1958.302198    1972.652850   \n",
       "GrLivArea   mean          1380.126984    1314.307692    1377.259067   \n",
       "LotArea     mean          9211.148148    8064.505495    9511.036269   \n",
       "TotalBsmtSF mean           988.841270     934.164835    1000.932642   \n",
       "GarageArea  mean           415.960317     418.972527     460.761658   \n",
       "\n",
       "cluster_not_pca_kmeans              3  \n",
       "SalePrice   count          436.000000  \n",
       "            mean        224501.401376  \n",
       "            median      214000.000000  \n",
       "YearBuilt   mean          2000.224771  \n",
       "GrLivArea   mean          1654.846330  \n",
       "LotArea     mean          9608.172018  \n",
       "TotalBsmtSF mean          1203.293578  \n",
       "GarageArea  mean           585.438073  "
      ]
     },
     "execution_count": 62,
     "metadata": {},
     "output_type": "execute_result"
    }
   ],
   "source": [
    "df[['SalePrice'] + features_numeric + ['cluster_not_pca_kmeans']].groupby(\n",
    "    'cluster_not_pca_kmeans'\n",
    ").agg({\n",
    "    'SalePrice':['count', 'mean', 'median'],\n",
    "    'YearBuilt':['mean'],\n",
    "    'GrLivArea':['mean'],\n",
    "    'LotArea':['mean'],\n",
    "    'TotalBsmtSF':['mean'],\n",
    "    'GarageArea':['mean'],\n",
    "}).T"
   ]
  },
  {
   "cell_type": "markdown",
   "id": "40863aa2",
   "metadata": {},
   "source": [
    "_Интерпретация результатов кластеризации_:\n",
    "- Нулевой кластер - дешевые дома, построенные в среднем в послевоенное десятилетие - то есть очень давнего года строительства, стандартный размер жилой площади, гаража и подавала, но довольно высокая площадь самого участка (LotArea);\n",
    "- Первый кластер - чуть более дорогие дома, построенные тоже в послевоенное время, из примечательного - низкая площадь самого участка по сравнению с другими кластерами;\n",
    "- Второй кластер - дома среднего ценового сегмента, постороенные в середине второй половины 20 века, высокие значения всех площадей: подвала, гаража, жилой и участка;\n",
    "- Третий кластер - новые дома высокого ценового сегмента, современного года строительства, очень высокие значения площади гаража, подвала, жилой площади и площади участка."
   ]
  },
  {
   "cell_type": "markdown",
   "id": "b9ed2919",
   "metadata": {},
   "source": [
    "## Comparing clustering result labels with the sale price of houses with classification metrics"
   ]
  },
  {
   "cell_type": "markdown",
   "id": "6f869dc9",
   "metadata": {},
   "source": [
    "Сравним результаты кластеризации с результирующим признаком - ценой."
   ]
  },
  {
   "cell_type": "code",
   "execution_count": 63,
   "id": "546181e7",
   "metadata": {},
   "outputs": [
    {
     "data": {
      "image/png": "[encoded data removed]",
      "text/plain": [
       "<Figure size 432x288 with 1 Axes>"
      ]
     },
     "metadata": {
      "needs_background": "light"
     },
     "output_type": "display_data"
    }
   ],
   "source": [
    "df['SalePrice'].hist(bins=40);"
   ]
  },
  {
   "cell_type": "code",
   "execution_count": 64,
   "id": "05b7759b",
   "metadata": {},
   "outputs": [
    {
     "data": {
      "text/plain": [
       "(177869.39949537427, 165000.0)"
      ]
     },
     "execution_count": 64,
     "metadata": {},
     "output_type": "execute_result"
    }
   ],
   "source": [
    "# мода и медиана цены\n",
    "df['SalePrice'].mean(), df['SalePrice'].median()"
   ]
  },
  {
   "cell_type": "markdown",
   "id": "fe4f1f4f",
   "metadata": {},
   "source": [
    "Для каждого дома поймем его статус - дешевый, средний, дорогой и очень дорогой (4 метки, потому что у нас4 кластера)."
   ]
  },
  {
   "cell_type": "code",
   "execution_count": 65,
   "id": "6b4760d5",
   "metadata": {},
   "outputs": [],
   "source": [
    "def transform_prices(price):\n",
    "    if price <= 129000:\n",
    "        return 'low_price'\n",
    "    elif price <= 165000:\n",
    "        return 'medium_price'\n",
    "    elif price <= 200000:\n",
    "        return 'high_price'\n",
    "    else:\n",
    "        return 'very_high_price'"
   ]
  },
  {
   "cell_type": "code",
   "execution_count": 66,
   "id": "0237bc36",
   "metadata": {},
   "outputs": [],
   "source": [
    "prices = {\n",
    "    'low_price': 0,\n",
    "    'medium_price': 1,\n",
    "    'high_price': 2,\n",
    "    'very_high_price': 3\n",
    "}"
   ]
  },
  {
   "cell_type": "code",
   "execution_count": 67,
   "id": "363c5b9a",
   "metadata": {},
   "outputs": [],
   "source": [
    "df['property_status'] = df['SalePrice'].apply(lambda x: transform_prices(x))\n",
    "df['property_classes'] = df['property_status'].apply(lambda x: prices[x])"
   ]
  },
  {
   "cell_type": "markdown",
   "id": "66cf1f86",
   "metadata": {},
   "source": [
    "Матрица ошибок для меток кластеров и статусов домов - выглядит не очень, много трупозитивов и фолснегативов по каждой метке."
   ]
  },
  {
   "cell_type": "code",
   "execution_count": 68,
   "id": "f1d69d20",
   "metadata": {},
   "outputs": [
    {
     "data": {
      "text/plain": [
       "array([[128,  68,  39,   5],\n",
       "       [154,  73,  76,  55],\n",
       "       [ 57,  23,  54, 116],\n",
       "       [ 39,  18,  24, 260]])"
      ]
     },
     "execution_count": 68,
     "metadata": {},
     "output_type": "execute_result"
    }
   ],
   "source": [
    "confusion_matrix(\n",
    "    df['property_classes'].values,\n",
    "    df['cluster_not_pca_kmeans'].values\n",
    ")"
   ]
  },
  {
   "cell_type": "markdown",
   "id": "37da1024",
   "metadata": {},
   "source": [
    "Различные метрики классификации - в целом все плохие, кроме тех домов, которые очень дорогие: по ним средний реколл очень высокий - что говорит о том, что бОльшая часть дорогих домов попала в один из кластеров (высокая полнота) и адекватный пресижен (точность)."
   ]
  },
  {
   "cell_type": "code",
   "execution_count": 69,
   "id": "648d73d0",
   "metadata": {},
   "outputs": [
    {
     "name": "stdout",
     "output_type": "stream",
     "text": [
      "                 precision    recall  f1-score   support\n",
      "\n",
      "      low_price       0.34      0.53      0.41       240\n",
      "   medium_price       0.40      0.20      0.27       358\n",
      "     high_price       0.28      0.22      0.24       250\n",
      "very_high_price       0.60      0.76      0.67       341\n",
      "\n",
      "       accuracy                           0.43      1189\n",
      "      macro avg       0.40      0.43      0.40      1189\n",
      "   weighted avg       0.42      0.43      0.41      1189\n",
      "\n"
     ]
    }
   ],
   "source": [
    "print(classification_report(\n",
    "    df['property_classes'].values,\n",
    "    df['cluster_not_pca_kmeans'].values,\n",
    "    target_names=list(prices.keys())\n",
    "))"
   ]
  },
  {
   "cell_type": "markdown",
   "id": "fd973b5d",
   "metadata": {},
   "source": [
    "## Conclusion"
   ]
  },
  {
   "cell_type": "markdown",
   "id": "08087928",
   "metadata": {},
   "source": [
    "В результате выполнения контрольной точкой были выполнены следующие шаги:\n",
    "1. Были обработаны данные на предмет пропусков и аномалий (выбросов)\n",
    "2. Было исследовано распределение числовых и категориальных признаков\n",
    "3. Была совершена предобработка (трансформация нечисловых признаков + стандартизация) данных для последующей кластеризации\n",
    "4. Была проведена кластеризация на полном пространстве признаков с использованием KMeans и DBSCAN\n",
    "5. Была проведена кластеризация на сниженном пространстве признаков, полученном с использованием PCA, с использованием KMeans и DBSCAN\n",
    "6. Было проведено сравнение результатов кластеризации до использования PCA и после\n",
    "7. Была дана интерпретация полученных кластеров\n",
    "8. Было проведено сравнение полученных кластеров с метками домов, отранжированных по стоимости, и интерпретированы метрики классификации"
   ]
  },
  {
   "cell_type": "code",
   "execution_count": null,
   "id": "a093287a",
   "metadata": {},
   "outputs": [],
   "source": []
  }
 ],
 "metadata": {
  "kernelspec": {
   "display_name": "Python 3 (ipykernel)",
   "language": "python",
   "name": "python3"
  },
  "language_info": {
   "codemirror_mode": {
    "name": "ipython",
    "version": 3
   },
   "file_extension": ".py",
   "mimetype": "text/x-python",
   "name": "python",
   "nbconvert_exporter": "python",
   "pygments_lexer": "ipython3",
   "version": "3.8.12"
  }
 },
 "nbformat": 4,
 "nbformat_minor": 5
}
