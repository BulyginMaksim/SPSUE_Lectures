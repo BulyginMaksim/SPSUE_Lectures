{
 "cells": [
  {
   "cell_type": "code",
   "execution_count": 13,
   "id": "91782fb2",
   "metadata": {},
   "outputs": [],
   "source": [
    "def matrix_logic_product(a: list, b: list) -> list:\n",
    "    try:\n",
    "        n, m = len(a), len(a[0])\n",
    "        m, k = len(b), len(b[0])\n",
    "        c = [[0 for j in range(k)] for i in range(n)]\n",
    "        for i in range(n):\n",
    "            for j in range(k):\n",
    "                element = 0\n",
    "                for l in range(m):\n",
    "                    element += a[i][l] * b[l][j]\n",
    "                if element > 0:\n",
    "                    element = 1\n",
    "                c[i][j] = element\n",
    "        return c\n",
    "    except Exception as e:\n",
    "        print(e)"
   ]
  },
  {
   "cell_type": "code",
   "execution_count": 14,
   "id": "e08b8ff5",
   "metadata": {},
   "outputs": [],
   "source": [
    "def matrix_n_order(a: list, n: int) -> list:\n",
    "    result = a.copy()\n",
    "    for i in range(n - 1):\n",
    "        result = matrix_logic_product(result, a)\n",
    "    return result"
   ]
  },
  {
   "cell_type": "code",
   "execution_count": 15,
   "id": "57fe2c9a",
   "metadata": {},
   "outputs": [],
   "source": [
    "def is_path_i_j_size_n(a: list, i: int, j: int, n: int) -> bool:\n",
    "    result = matrix_n_order(a, n)\n",
    "    return bool(result[i][j])"
   ]
  },
  {
   "cell_type": "code",
   "execution_count": 16,
   "id": "e01aac38",
   "metadata": {},
   "outputs": [],
   "source": [
    "def is_path_i_j_any(a: list, i: int, j: int) -> bool:\n",
    "    result = a.copy()\n",
    "    n = len(a)\n",
    "    k = 1\n",
    "    while k <= n:\n",
    "        if result[i][j]:\n",
    "            return True\n",
    "        result = matrix_logic_product(result, a)\n",
    "        k += 1\n",
    "    return False"
   ]
  },
  {
   "cell_type": "code",
   "execution_count": 17,
   "id": "709e8060",
   "metadata": {},
   "outputs": [],
   "source": [
    "a = [\n",
    "    [0, 0, 1, 0],\n",
    "    [1, 0, 0, 0],\n",
    "    [0, 1, 0, 1],\n",
    "    [1, 0, 0, 0]\n",
    "]"
   ]
  },
  {
   "cell_type": "code",
   "execution_count": 18,
   "id": "2ee1901a",
   "metadata": {},
   "outputs": [
    {
     "data": {
      "text/plain": [
       "[[0, 1, 0, 1], [0, 0, 1, 0], [1, 0, 0, 0], [0, 0, 1, 0]]"
      ]
     },
     "execution_count": 18,
     "metadata": {},
     "output_type": "execute_result"
    }
   ],
   "source": [
    "matrix_logic_product(a, a)"
   ]
  },
  {
   "cell_type": "code",
   "execution_count": 19,
   "id": "43ddf8ca",
   "metadata": {},
   "outputs": [
    {
     "data": {
      "text/plain": [
       "[[1, 0, 0, 0], [0, 1, 0, 1], [0, 0, 1, 0], [0, 1, 0, 1]]"
      ]
     },
     "execution_count": 19,
     "metadata": {},
     "output_type": "execute_result"
    }
   ],
   "source": [
    "matrix_n_order(a, 3)"
   ]
  },
  {
   "cell_type": "code",
   "execution_count": 20,
   "id": "c0831232",
   "metadata": {},
   "outputs": [
    {
     "data": {
      "text/plain": [
       "False"
      ]
     },
     "execution_count": 20,
     "metadata": {},
     "output_type": "execute_result"
    }
   ],
   "source": [
    "is_path_i_j_size_n(a, 0, 3, 3)"
   ]
  },
  {
   "cell_type": "code",
   "execution_count": 21,
   "id": "6c60125c",
   "metadata": {},
   "outputs": [
    {
     "data": {
      "text/plain": [
       "True"
      ]
     },
     "execution_count": 21,
     "metadata": {},
     "output_type": "execute_result"
    }
   ],
   "source": [
    "is_path_i_j_any(a, 0, 0)"
   ]
  },
  {
   "cell_type": "code",
   "execution_count": null,
   "id": "564fce4b",
   "metadata": {},
   "outputs": [],
   "source": []
  },
  {
   "cell_type": "code",
   "execution_count": null,
   "id": "0469c29b",
   "metadata": {},
   "outputs": [],
   "source": []
  }
 ],
 "metadata": {
  "kernelspec": {
   "display_name": "Python 3 (ipykernel)",
   "language": "python",
   "name": "python3"
  },
  "language_info": {
   "codemirror_mode": {
    "name": "ipython",
    "version": 3
   },
   "file_extension": ".py",
   "mimetype": "text/x-python",
   "name": "python",
   "nbconvert_exporter": "python",
   "pygments_lexer": "ipython3",
   "version": "3.8.12"
  }
 },
 "nbformat": 4,
 "nbformat_minor": 5
}
