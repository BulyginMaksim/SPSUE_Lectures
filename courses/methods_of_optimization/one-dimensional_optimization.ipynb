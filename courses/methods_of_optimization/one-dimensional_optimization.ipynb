{
 "cells": [
  {
   "cell_type": "code",
   "execution_count": 1,
   "id": "8efcd104",
   "metadata": {},
   "outputs": [],
   "source": [
    "import numpy as np\n",
    "import pandas as pd\n",
    "import matplotlib.pyplot as plt\n",
    "%matplotlib inline"
   ]
  },
  {
   "cell_type": "code",
   "execution_count": 4,
   "id": "1ed30bd7",
   "metadata": {},
   "outputs": [],
   "source": [
    "class Optimize:\n",
    "    \n",
    "    def __init__(self, f, a, b):\n",
    "        self.f = f\n",
    "        self.a = a\n",
    "        self.b = b\n",
    "    \n",
    "    def f_d(self, x):\n",
    "        h = 0.0000000001\n",
    "        return (self.f(x + h) - self.f(x)) / h\n",
    "    \n",
    "    def f_dd(self, x):\n",
    "        h = 0.00001\n",
    "        return (self.f(x + 2 * h) - 2 * self.f(x + h) + self.f(x)) / (h ** 2)\n",
    "    \n",
    "    def fib(self, n):  # n-ое число фибоначчи\n",
    "        f1, f2 = 0, 1\n",
    "        if n == 0:\n",
    "            return f1\n",
    "        if n == 1:\n",
    "            return f2\n",
    "        for i in range(n - 1):\n",
    "            f1, f2 = f2, f1 + f2\n",
    "        return f2\n",
    "    \n",
    "    def gold_ratio_search(self, eps=0.01):\n",
    "        f = self.f\n",
    "        a, b = self.a, self.b\n",
    "        T = (3 - 5 ** 0.5) / 2\n",
    "        x1 = a + T * (b - a)\n",
    "        x2 = a + b - x1\n",
    "        f1, f2 = f(x1), f(x2)\n",
    "        i = 0\n",
    "        while b - a > eps:\n",
    "            i += 1\n",
    "            if f1 <= f2:\n",
    "                b = x2\n",
    "                x2 = x1\n",
    "                x1 = a + b - x2\n",
    "                f1, f2 = f(x1), f1\n",
    "            else:\n",
    "                a = x1\n",
    "                x1 = x2\n",
    "                x2 = a + b - x1\n",
    "                f1, f2 = f2, f(x2)\n",
    "        return 1 / 2 * (a + b), f(1 / 2 * (a + b)), i\n",
    "    \n",
    "    def dichotomy_search(self, eps=0.01):  # метод дихотомии\n",
    "        delta = eps / 2\n",
    "        a, b = self.a, self.b\n",
    "        x1 = (a + b - delta) / 2\n",
    "        x2 = (a + b + delta) / 2\n",
    "        i = 0\n",
    "        while abs(a - b) > eps:\n",
    "            if self.f(x1) < self.f(x2):\n",
    "                b = x2\n",
    "            else:\n",
    "                a = x1\n",
    "            x1 = (a + b - delta) / 2\n",
    "            x2 = (a + b + delta) / 2\n",
    "            i += 1\n",
    "        if b < a:\n",
    "            a, b = b, a\n",
    "        return (b - a) / 2, self.f((b - a) / 2), i\n",
    "    \n",
    "    def fib_search(self, eps=0.01):  # метод фибоначчи\n",
    "        a, b = self.a, self.b\n",
    "        n = 0\n",
    "        while (b - a) / eps > self.fib(n):\n",
    "            n += 1\n",
    "        x1 = a + self.fib(n - 2) / self.fib(n) * (b - a)\n",
    "        x2 = a + self.fib(n - 1) / self.fib(n) * (b - a)\n",
    "        k = 1\n",
    "        i = 0\n",
    "        while k < n - 2:\n",
    "            if self.f(x1) > self.f(x2):\n",
    "                a = x1\n",
    "                x1 = x2\n",
    "                x2 = a + self.f(n - k - 1) / self.f(n - k) * (b - a)\n",
    "            else:\n",
    "                b = x2\n",
    "                x2 = x1\n",
    "                x1 = a + self.f(n - k - 2) / self.f(n - k) * (b - a)\n",
    "            k += 1\n",
    "            i += 1\n",
    "        x2 = x1 + eps\n",
    "        if self.f(x1) < self.f(x2):\n",
    "            b = x2\n",
    "        else:\n",
    "            a = x1\n",
    "        return (b - a) / 2, self.f((b - a) / 2), i\n",
    "            \n",
    "        \n",
    "    def cutting(self, eps=0.01):  # метод секущих\n",
    "        f_d, f = self.f_d, self.f\n",
    "        a, b = self.a, self.b\n",
    "        i = 0\n",
    "        if f_d(a) < 0 and f_d(b) > 0:\n",
    "            z = b - f_d(b) * (b - a) / (f_d(b) - f_d(a))\n",
    "            while abs(f_d(z)) > eps:\n",
    "                if f_d(z) > 0:\n",
    "                    a = z\n",
    "                else:\n",
    "                    b = z\n",
    "                z = b - f_d(b) * (b - a) / (f_d(b) - f_d(a))\n",
    "                i += 1\n",
    "            return z, f(z), i\n",
    "        return 0, f(0), i\n",
    "\n",
    "    def tangent(self, eps=0.01):  # метод ньютона\n",
    "        f_dd, f_d, f = self.f_dd, self.f_d, self.f\n",
    "        a, b = self.a, self.b\n",
    "        x = (a + b) / 2\n",
    "        i = 0\n",
    "        while abs(f_d(x)) > eps:\n",
    "            x -= f_d(x) / f_dd(x)\n",
    "            i += 1\n",
    "        return x, f(x), i\n",
    "    \n",
    "    def get_all_methods(self, epses=[0.1, 0.001, 0.00001]):\n",
    "        methods = [self.gold_ratio_search, self.dichotomy_search, self.fib_search, self.cutting, self.tangent]\n",
    "        str_methods = ['gold ratio', 'dichotomy', 'fibonacci', 'cutting', 'newton'] \n",
    "        return np.array([[method(eps=eps)[2] for method in methods] for eps in epses]).T, str_methods"
   ]
  },
  {
   "cell_type": "code",
   "execution_count": 5,
   "id": "fd514eca",
   "metadata": {},
   "outputs": [],
   "source": [
    "def f(x):\n",
    "    return x ** 4"
   ]
  },
  {
   "cell_type": "code",
   "execution_count": 6,
   "id": "94a2edbc",
   "metadata": {
    "pycharm": {
     "name": "#%%\n"
    }
   },
   "outputs": [
    {
     "data": {
      "text/plain": "            eps=0.1  eps=0.001  eps=1e-05\ngold ratio        9         19         28\ndichotomy         7         14         21\nfibonacci         8         17         27\ncutting           0          0          0\nnewton            0          0          0",
      "text/html": "<div>\n<style scoped>\n    .dataframe tbody tr th:only-of-type {\n        vertical-align: middle;\n    }\n\n    .dataframe tbody tr th {\n        vertical-align: top;\n    }\n\n    .dataframe thead th {\n        text-align: right;\n    }\n</style>\n<table border=\"1\" class=\"dataframe\">\n  <thead>\n    <tr style=\"text-align: right;\">\n      <th></th>\n      <th>eps=0.1</th>\n      <th>eps=0.001</th>\n      <th>eps=1e-05</th>\n    </tr>\n  </thead>\n  <tbody>\n    <tr>\n      <th>gold ratio</th>\n      <td>9</td>\n      <td>19</td>\n      <td>28</td>\n    </tr>\n    <tr>\n      <th>dichotomy</th>\n      <td>7</td>\n      <td>14</td>\n      <td>21</td>\n    </tr>\n    <tr>\n      <th>fibonacci</th>\n      <td>8</td>\n      <td>17</td>\n      <td>27</td>\n    </tr>\n    <tr>\n      <th>cutting</th>\n      <td>0</td>\n      <td>0</td>\n      <td>0</td>\n    </tr>\n    <tr>\n      <th>newton</th>\n      <td>0</td>\n      <td>0</td>\n      <td>0</td>\n    </tr>\n  </tbody>\n</table>\n</div>"
     },
     "execution_count": 6,
     "metadata": {},
     "output_type": "execute_result"
    }
   ],
   "source": [
    "a, b = -3, 3\n",
    "epsilons = [0.1, 0.001, 0.00001]\n",
    "minimize = Optimize(f, a, b)\n",
    "res, strs = minimize.get_all_methods(epses=epsilons)\n",
    "df = pd.DataFrame(res, columns=[f\"eps={eps}\" for eps in epsilons])\n",
    "df.index = strs\n",
    "df"
   ]
  },
  {
   "cell_type": "code",
   "execution_count": null,
   "outputs": [],
   "source": [],
   "metadata": {
    "collapsed": false,
    "pycharm": {
     "name": "#%%\n"
    }
   }
  }
 ],
 "metadata": {
  "kernelspec": {
   "display_name": "Python 3",
   "language": "python",
   "name": "python3"
  },
  "language_info": {
   "codemirror_mode": {
    "name": "ipython",
    "version": 3
   },
   "file_extension": ".py",
   "mimetype": "text/x-python",
   "name": "python",
   "nbconvert_exporter": "python",
   "pygments_lexer": "ipython3",
   "version": "3.8.8"
  }
 },
 "nbformat": 4,
 "nbformat_minor": 5
}