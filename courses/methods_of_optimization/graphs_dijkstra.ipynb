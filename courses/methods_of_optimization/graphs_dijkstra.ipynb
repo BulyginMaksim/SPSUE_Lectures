{
 "cells": [
  {
   "cell_type": "code",
   "execution_count": 18,
   "id": "21c57280",
   "metadata": {},
   "outputs": [],
   "source": [
    "adj_matrix = [\n",
    "    [0, 7, 9, 0, 0, 14],\n",
    "    [7, 0, 10, 15, 0, 0],\n",
    "    [9, 10, 0, 11, 0, 2],\n",
    "    [0, 15, 11, 0, 6, 0],\n",
    "    [0, 0, 0, 6, 0, 9],\n",
    "    [14, 0, 2, 0, 9, 0]\n",
    "]"
   ]
  },
  {
   "cell_type": "code",
   "execution_count": 93,
   "id": "1cd31b46",
   "metadata": {},
   "outputs": [],
   "source": [
    "def dijkstra(adj_matrix: list, v: int) -> list:\n",
    "    n = len(adj_matrix)\n",
    "    d = [float('inf') for _ in range(n)]\n",
    "    used = [0 for _ in range(n)]\n",
    "    prev = [-1 for _ in range(n)]\n",
    "    d[v] = 0\n",
    "    while True:\n",
    "        v, cur_d = None, float('inf')\n",
    "        for u in range(n):\n",
    "            if not used[u] and d[u] < cur_d:\n",
    "                v, cur_d = u, d[u]\n",
    "        if v is None or cur_d == float('inf'):\n",
    "            break\n",
    "        used[v] = 1\n",
    "        for u in range(n):\n",
    "            if adj_matrix[v][u] and d[u] > d[v] + adj_matrix[v][u]:\n",
    "                d[u] = d[v] + adj_matrix[v][u]\n",
    "                prev[u] = v\n",
    "    d = [-1 if dist == float('inf') else dist for dist in d]\n",
    "    return prev, d"
   ]
  },
  {
   "cell_type": "code",
   "execution_count": 94,
   "id": "15d9ec1b",
   "metadata": {},
   "outputs": [
    {
     "data": {
      "text/plain": [
       "([-1, 0, 0, 2, 5, 2], [0, 7, 9, 20, 20, 11])"
      ]
     },
     "execution_count": 94,
     "metadata": {},
     "output_type": "execute_result"
    }
   ],
   "source": [
    "dijkstra(adj_matrix, 0)"
   ]
  },
  {
   "cell_type": "code",
   "execution_count": 95,
   "id": "cebd7629",
   "metadata": {},
   "outputs": [],
   "source": [
    "def dijkstra_path_restore(prev, d, j):\n",
    "    if d[j] == -1:\n",
    "        return []\n",
    "    path = [j]\n",
    "    while prev[j] != -1:\n",
    "        path.append(prev[j])\n",
    "        j = prev[j]\n",
    "    return path[::-1]"
   ]
  },
  {
   "cell_type": "code",
   "execution_count": 96,
   "id": "d2d352b3",
   "metadata": {},
   "outputs": [
    {
     "data": {
      "text/plain": [
       "[0, 2, 5]"
      ]
     },
     "execution_count": 96,
     "metadata": {},
     "output_type": "execute_result"
    }
   ],
   "source": [
    "dijkstra_path_restore(*dijkstra(adj_matrix, 0), 5)"
   ]
  },
  {
   "cell_type": "code",
   "execution_count": null,
   "id": "69f2954e",
   "metadata": {},
   "outputs": [],
   "source": []
  }
 ],
 "metadata": {
  "kernelspec": {
   "display_name": "Python 3 (ipykernel)",
   "language": "python",
   "name": "python3"
  },
  "language_info": {
   "codemirror_mode": {
    "name": "ipython",
    "version": 3
   },
   "file_extension": ".py",
   "mimetype": "text/x-python",
   "name": "python",
   "nbconvert_exporter": "python",
   "pygments_lexer": "ipython3",
   "version": "3.8.12"
  }
 },
 "nbformat": 4,
 "nbformat_minor": 5
}
