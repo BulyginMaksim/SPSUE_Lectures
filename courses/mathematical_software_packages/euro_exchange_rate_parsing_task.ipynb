{
 "cells": [
  {
   "cell_type": "code",
   "execution_count": 1,
   "metadata": {},
   "outputs": [],
   "source": [
    "from bs4 import BeautifulSoup\n",
    "import numpy as np\n",
    "import pandas as pd\n",
    "from urllib.request import urlopen, Request\n",
    "import re"
   ]
  },
  {
   "cell_type": "markdown",
   "metadata": {},
   "source": [
    "Задаем DataFrame"
   ]
  },
  {
   "cell_type": "code",
   "execution_count": 2,
   "metadata": {},
   "outputs": [
    {
     "data": {
      "text/html": [
       "<div>\n",
       "<style scoped>\n",
       "    .dataframe tbody tr th:only-of-type {\n",
       "        vertical-align: middle;\n",
       "    }\n",
       "\n",
       "    .dataframe tbody tr th {\n",
       "        vertical-align: top;\n",
       "    }\n",
       "\n",
       "    .dataframe thead th {\n",
       "        text-align: right;\n",
       "    }\n",
       "</style>\n",
       "<table border=\"1\" class=\"dataframe\">\n",
       "  <thead>\n",
       "    <tr style=\"text-align: right;\">\n",
       "      <th></th>\n",
       "      <th>фрукт</th>\n",
       "      <th>сорт</th>\n",
       "      <th>цена</th>\n",
       "      <th>валюта</th>\n",
       "    </tr>\n",
       "  </thead>\n",
       "  <tbody>\n",
       "    <tr>\n",
       "      <td>0</td>\n",
       "      <td>яблоко</td>\n",
       "      <td>голден</td>\n",
       "      <td>3</td>\n",
       "      <td>евро</td>\n",
       "    </tr>\n",
       "    <tr>\n",
       "      <td>1</td>\n",
       "      <td>яблоко</td>\n",
       "      <td>зеленое</td>\n",
       "      <td>200</td>\n",
       "      <td>руб</td>\n",
       "    </tr>\n",
       "    <tr>\n",
       "      <td>2</td>\n",
       "      <td>яблоко</td>\n",
       "      <td>раннее</td>\n",
       "      <td>230</td>\n",
       "      <td>руб</td>\n",
       "    </tr>\n",
       "    <tr>\n",
       "      <td>3</td>\n",
       "      <td>виноград</td>\n",
       "      <td>белый</td>\n",
       "      <td>5</td>\n",
       "      <td>евро</td>\n",
       "    </tr>\n",
       "    <tr>\n",
       "      <td>4</td>\n",
       "      <td>виноград</td>\n",
       "      <td>киш-миш</td>\n",
       "      <td>350</td>\n",
       "      <td>руб</td>\n",
       "    </tr>\n",
       "  </tbody>\n",
       "</table>\n",
       "</div>"
      ],
      "text/plain": [
       "      фрукт     сорт  цена валюта\n",
       "0    яблоко   голден     3   евро\n",
       "1    яблоко  зеленое   200    руб\n",
       "2    яблоко   раннее   230    руб\n",
       "3  виноград    белый     5   евро\n",
       "4  виноград  киш-миш   350    руб"
      ]
     },
     "execution_count": 2,
     "metadata": {},
     "output_type": "execute_result"
    }
   ],
   "source": [
    "df = pd.DataFrame(\n",
    "    {\"фрукт\": [\"яблоко\" , \"яблоко\", \"яблоко\", \"виноград\", \"виноград\"],\n",
    "    \"сорт\": [\"голден\", \"зеленое\", \"раннее\", \"белый\", \"киш-миш\"],\n",
    "    \"цена\": [3, 200, 230, 5, 350],\n",
    "    \"валюта\": [\"евро\", \"руб\", \"руб\", \"евро\", \"руб\"]})\n",
    "df"
   ]
  },
  {
   "cell_type": "markdown",
   "metadata": {},
   "source": [
    "Парсим текущий курс евро."
   ]
  },
  {
   "cell_type": "code",
   "execution_count": 5,
   "metadata": {},
   "outputs": [
    {
     "data": {
      "text/plain": [
       "86.2195"
      ]
     },
     "execution_count": 5,
     "metadata": {},
     "output_type": "execute_result"
    }
   ],
   "source": [
    "url = 'https://www.banki.ru/products/currency/'\n",
    "html = urlopen(url)\n",
    "soup = BeautifulSoup(html)\n",
    "text = soup.find_all(\"tbody\")[0].text\n",
    "eur = float(re.findall(r\".+\", text)[4].replace(\",\",\".\"))\n",
    "eur"
   ]
  },
  {
   "cell_type": "markdown",
   "metadata": {},
   "source": [
    "Создаем столбец сопоставимых цен и заносим в него значения."
   ]
  },
  {
   "cell_type": "code",
   "execution_count": 61,
   "metadata": {},
   "outputs": [
    {
     "data": {
      "text/html": [
       "<div>\n",
       "<style scoped>\n",
       "    .dataframe tbody tr th:only-of-type {\n",
       "        vertical-align: middle;\n",
       "    }\n",
       "\n",
       "    .dataframe tbody tr th {\n",
       "        vertical-align: top;\n",
       "    }\n",
       "\n",
       "    .dataframe thead th {\n",
       "        text-align: right;\n",
       "    }\n",
       "</style>\n",
       "<table border=\"1\" class=\"dataframe\">\n",
       "  <thead>\n",
       "    <tr style=\"text-align: right;\">\n",
       "      <th></th>\n",
       "      <th>фрукт</th>\n",
       "      <th>сорт</th>\n",
       "      <th>цена</th>\n",
       "      <th>валюта</th>\n",
       "      <th>цена_конвертированная</th>\n",
       "    </tr>\n",
       "  </thead>\n",
       "  <tbody>\n",
       "    <tr>\n",
       "      <td>0</td>\n",
       "      <td>яблоко</td>\n",
       "      <td>голден</td>\n",
       "      <td>3</td>\n",
       "      <td>евро</td>\n",
       "      <td>265.299</td>\n",
       "    </tr>\n",
       "    <tr>\n",
       "      <td>1</td>\n",
       "      <td>яблоко</td>\n",
       "      <td>зеленое</td>\n",
       "      <td>200</td>\n",
       "      <td>руб</td>\n",
       "      <td>200.000</td>\n",
       "    </tr>\n",
       "    <tr>\n",
       "      <td>2</td>\n",
       "      <td>яблоко</td>\n",
       "      <td>раннее</td>\n",
       "      <td>230</td>\n",
       "      <td>руб</td>\n",
       "      <td>230.000</td>\n",
       "    </tr>\n",
       "    <tr>\n",
       "      <td>3</td>\n",
       "      <td>виноград</td>\n",
       "      <td>белый</td>\n",
       "      <td>5</td>\n",
       "      <td>евро</td>\n",
       "      <td>442.165</td>\n",
       "    </tr>\n",
       "    <tr>\n",
       "      <td>4</td>\n",
       "      <td>виноград</td>\n",
       "      <td>киш-миш</td>\n",
       "      <td>350</td>\n",
       "      <td>руб</td>\n",
       "      <td>350.000</td>\n",
       "    </tr>\n",
       "  </tbody>\n",
       "</table>\n",
       "</div>"
      ],
      "text/plain": [
       "      фрукт     сорт  цена валюта  цена_конвертированная\n",
       "0    яблоко   голден     3   евро                265.299\n",
       "1    яблоко  зеленое   200    руб                200.000\n",
       "2    яблоко   раннее   230    руб                230.000\n",
       "3  виноград    белый     5   евро                442.165\n",
       "4  виноград  киш-миш   350    руб                350.000"
      ]
     },
     "execution_count": 61,
     "metadata": {},
     "output_type": "execute_result"
    }
   ],
   "source": [
    "df.loc[df.валюта == \"евро\", \"цена_конвертированная\"] = df[df.валюта == \"евро\"][\"цена\"] * eur\n",
    "df.loc[df.валюта != \"евро\", \"цена_конвертированная\"] = df[df.валюта != \"евро\"][\"цена\"]\n",
    "df"
   ]
  },
  {
   "cell_type": "markdown",
   "metadata": {},
   "source": [
    "Выведем самый дорогой фрукт и его цену."
   ]
  },
  {
   "cell_type": "code",
   "execution_count": 71,
   "metadata": {},
   "outputs": [
    {
     "data": {
      "text/html": [
       "<div>\n",
       "<style scoped>\n",
       "    .dataframe tbody tr th:only-of-type {\n",
       "        vertical-align: middle;\n",
       "    }\n",
       "\n",
       "    .dataframe tbody tr th {\n",
       "        vertical-align: top;\n",
       "    }\n",
       "\n",
       "    .dataframe thead th {\n",
       "        text-align: right;\n",
       "    }\n",
       "</style>\n",
       "<table border=\"1\" class=\"dataframe\">\n",
       "  <thead>\n",
       "    <tr style=\"text-align: right;\">\n",
       "      <th></th>\n",
       "      <th>фрукт</th>\n",
       "      <th>сорт</th>\n",
       "      <th>цена</th>\n",
       "      <th>валюта</th>\n",
       "      <th>цена_конвертированная</th>\n",
       "    </tr>\n",
       "  </thead>\n",
       "  <tbody>\n",
       "    <tr>\n",
       "      <td>3</td>\n",
       "      <td>виноград</td>\n",
       "      <td>белый</td>\n",
       "      <td>5</td>\n",
       "      <td>евро</td>\n",
       "      <td>442.165</td>\n",
       "    </tr>\n",
       "  </tbody>\n",
       "</table>\n",
       "</div>"
      ],
      "text/plain": [
       "      фрукт   сорт  цена валюта  цена_конвертированная\n",
       "3  виноград  белый     5   евро                442.165"
      ]
     },
     "execution_count": 71,
     "metadata": {},
     "output_type": "execute_result"
    }
   ],
   "source": [
    "expensive = df[df.цена_конвертированная == np.max(df.цена_конвертированная)]\n",
    "expensive"
   ]
  },
  {
   "cell_type": "code",
   "execution_count": 92,
   "metadata": {},
   "outputs": [
    {
     "name": "stdout",
     "output_type": "stream",
     "text": [
      "Самый дорогой фрукт - виноград, его цена составляет 442.16 рублей.\n"
     ]
    }
   ],
   "source": [
    "print(f\"Самый дорогой фрукт - {expensive.фрукт.iloc[0]}, его цена \"\n",
    "      f\"составляет {np.round(expensive.цена_конвертированная.iloc[0], 2)} рублей.\")"
   ]
  }
 ],
 "metadata": {
  "kernelspec": {
   "display_name": "Python 3",
   "language": "python",
   "name": "python3"
  },
  "language_info": {
   "codemirror_mode": {
    "name": "ipython",
    "version": 3
   },
   "file_extension": ".py",
   "mimetype": "text/x-python",
   "name": "python",
   "nbconvert_exporter": "python",
   "pygments_lexer": "ipython3",
   "version": "3.7.4"
  }
 },
 "nbformat": 4,
 "nbformat_minor": 2
}
