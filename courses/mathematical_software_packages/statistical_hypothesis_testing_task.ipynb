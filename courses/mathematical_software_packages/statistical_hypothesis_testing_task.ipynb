{
 "cells": [
  {
   "cell_type": "markdown",
   "metadata": {},
   "source": [
    "# Задание гипотезы.\n",
    "## Булыгин Максим, Э-1813"
   ]
  },
  {
   "cell_type": "code",
   "execution_count": null,
   "metadata": {},
   "outputs": [],
   "source": [
    "import pandas as pd\n",
    "import numpy as np\n",
    "import scipy.stats as sps\n",
    "import matplotlib.pyplot as plt\n",
    "%matplotlib inline\n",
    "\n",
    "import seaborn as sns\n",
    "from statsmodels.graphics.gofplots import qqplot"
   ]
  },
  {
   "cell_type": "markdown",
   "metadata": {},
   "source": [
    "Импортируем данные, проверяем их: смотрим описательные статистики."
   ]
  },
  {
   "cell_type": "code",
   "execution_count": 191,
   "metadata": {},
   "outputs": [
    {
     "data": {
      "text/html": [
       "<div>\n",
       "<style scoped>\n",
       "    .dataframe tbody tr th:only-of-type {\n",
       "        vertical-align: middle;\n",
       "    }\n",
       "\n",
       "    .dataframe tbody tr th {\n",
       "        vertical-align: top;\n",
       "    }\n",
       "\n",
       "    .dataframe thead th {\n",
       "        text-align: right;\n",
       "    }\n",
       "</style>\n",
       "<table border=\"1\" class=\"dataframe\">\n",
       "  <thead>\n",
       "    <tr style=\"text-align: right;\">\n",
       "      <th></th>\n",
       "      <th>N</th>\n",
       "      <th>M</th>\n",
       "      <th>So</th>\n",
       "      <th>Ed</th>\n",
       "      <th>Po1</th>\n",
       "      <th>Po2</th>\n",
       "      <th>LF</th>\n",
       "      <th>M.F</th>\n",
       "      <th>Pop</th>\n",
       "      <th>NW</th>\n",
       "      <th>U1</th>\n",
       "      <th>U2</th>\n",
       "      <th>GDP</th>\n",
       "      <th>Ineq</th>\n",
       "      <th>Prob</th>\n",
       "      <th>Time</th>\n",
       "      <th>y</th>\n",
       "    </tr>\n",
       "  </thead>\n",
       "  <tbody>\n",
       "    <tr>\n",
       "      <td>0</td>\n",
       "      <td>1</td>\n",
       "      <td>151</td>\n",
       "      <td>1</td>\n",
       "      <td>91</td>\n",
       "      <td>58</td>\n",
       "      <td>56</td>\n",
       "      <td>510</td>\n",
       "      <td>950</td>\n",
       "      <td>33</td>\n",
       "      <td>301</td>\n",
       "      <td>108</td>\n",
       "      <td>41</td>\n",
       "      <td>394</td>\n",
       "      <td>261</td>\n",
       "      <td>0.084602</td>\n",
       "      <td>26.2011</td>\n",
       "      <td>791</td>\n",
       "    </tr>\n",
       "    <tr>\n",
       "      <td>1</td>\n",
       "      <td>2</td>\n",
       "      <td>143</td>\n",
       "      <td>0</td>\n",
       "      <td>113</td>\n",
       "      <td>103</td>\n",
       "      <td>95</td>\n",
       "      <td>583</td>\n",
       "      <td>1012</td>\n",
       "      <td>13</td>\n",
       "      <td>102</td>\n",
       "      <td>96</td>\n",
       "      <td>36</td>\n",
       "      <td>557</td>\n",
       "      <td>194</td>\n",
       "      <td>0.029599</td>\n",
       "      <td>25.2999</td>\n",
       "      <td>1635</td>\n",
       "    </tr>\n",
       "    <tr>\n",
       "      <td>2</td>\n",
       "      <td>3</td>\n",
       "      <td>142</td>\n",
       "      <td>1</td>\n",
       "      <td>89</td>\n",
       "      <td>45</td>\n",
       "      <td>44</td>\n",
       "      <td>533</td>\n",
       "      <td>969</td>\n",
       "      <td>18</td>\n",
       "      <td>219</td>\n",
       "      <td>94</td>\n",
       "      <td>33</td>\n",
       "      <td>318</td>\n",
       "      <td>250</td>\n",
       "      <td>0.083401</td>\n",
       "      <td>24.3006</td>\n",
       "      <td>578</td>\n",
       "    </tr>\n",
       "    <tr>\n",
       "      <td>3</td>\n",
       "      <td>4</td>\n",
       "      <td>136</td>\n",
       "      <td>0</td>\n",
       "      <td>121</td>\n",
       "      <td>149</td>\n",
       "      <td>141</td>\n",
       "      <td>577</td>\n",
       "      <td>994</td>\n",
       "      <td>157</td>\n",
       "      <td>80</td>\n",
       "      <td>102</td>\n",
       "      <td>39</td>\n",
       "      <td>673</td>\n",
       "      <td>167</td>\n",
       "      <td>0.015801</td>\n",
       "      <td>29.9012</td>\n",
       "      <td>1969</td>\n",
       "    </tr>\n",
       "    <tr>\n",
       "      <td>4</td>\n",
       "      <td>5</td>\n",
       "      <td>141</td>\n",
       "      <td>0</td>\n",
       "      <td>121</td>\n",
       "      <td>109</td>\n",
       "      <td>101</td>\n",
       "      <td>591</td>\n",
       "      <td>985</td>\n",
       "      <td>18</td>\n",
       "      <td>30</td>\n",
       "      <td>91</td>\n",
       "      <td>20</td>\n",
       "      <td>578</td>\n",
       "      <td>174</td>\n",
       "      <td>0.041399</td>\n",
       "      <td>21.2998</td>\n",
       "      <td>1234</td>\n",
       "    </tr>\n",
       "  </tbody>\n",
       "</table>\n",
       "</div>"
      ],
      "text/plain": [
       "   N    M  So   Ed  Po1  Po2   LF   M.F  Pop   NW   U1  U2  GDP  Ineq  \\\n",
       "0  1  151   1   91   58   56  510   950   33  301  108  41  394   261   \n",
       "1  2  143   0  113  103   95  583  1012   13  102   96  36  557   194   \n",
       "2  3  142   1   89   45   44  533   969   18  219   94  33  318   250   \n",
       "3  4  136   0  121  149  141  577   994  157   80  102  39  673   167   \n",
       "4  5  141   0  121  109  101  591   985   18   30   91  20  578   174   \n",
       "\n",
       "       Prob     Time     y  \n",
       "0  0.084602  26.2011   791  \n",
       "1  0.029599  25.2999  1635  \n",
       "2  0.083401  24.3006   578  \n",
       "3  0.015801  29.9012  1969  \n",
       "4  0.041399  21.2998  1234  "
      ]
     },
     "execution_count": 191,
     "metadata": {},
     "output_type": "execute_result"
    }
   ],
   "source": [
    "df = pd.read_excel('UScrime.xlsx')\n",
    "df.head()"
   ]
  },
  {
   "cell_type": "code",
   "execution_count": 3,
   "metadata": {},
   "outputs": [
    {
     "data": {
      "text/html": [
       "<div>\n",
       "<style scoped>\n",
       "    .dataframe tbody tr th:only-of-type {\n",
       "        vertical-align: middle;\n",
       "    }\n",
       "\n",
       "    .dataframe tbody tr th {\n",
       "        vertical-align: top;\n",
       "    }\n",
       "\n",
       "    .dataframe thead th {\n",
       "        text-align: right;\n",
       "    }\n",
       "</style>\n",
       "<table border=\"1\" class=\"dataframe\">\n",
       "  <thead>\n",
       "    <tr style=\"text-align: right;\">\n",
       "      <th></th>\n",
       "      <th>N</th>\n",
       "      <th>M</th>\n",
       "      <th>So</th>\n",
       "      <th>Ed</th>\n",
       "      <th>Po1</th>\n",
       "      <th>Po2</th>\n",
       "      <th>LF</th>\n",
       "      <th>M.F</th>\n",
       "      <th>Pop</th>\n",
       "      <th>NW</th>\n",
       "      <th>U1</th>\n",
       "      <th>U2</th>\n",
       "      <th>GDP</th>\n",
       "      <th>Ineq</th>\n",
       "      <th>Prob</th>\n",
       "      <th>Time</th>\n",
       "      <th>y</th>\n",
       "    </tr>\n",
       "  </thead>\n",
       "  <tbody>\n",
       "    <tr>\n",
       "      <td>count</td>\n",
       "      <td>47.000000</td>\n",
       "      <td>47.000000</td>\n",
       "      <td>47.000000</td>\n",
       "      <td>47.000000</td>\n",
       "      <td>47.000000</td>\n",
       "      <td>47.000000</td>\n",
       "      <td>47.000000</td>\n",
       "      <td>47.000000</td>\n",
       "      <td>47.000000</td>\n",
       "      <td>47.000000</td>\n",
       "      <td>47.000000</td>\n",
       "      <td>47.000000</td>\n",
       "      <td>47.000000</td>\n",
       "      <td>47.000000</td>\n",
       "      <td>47.000000</td>\n",
       "      <td>47.000000</td>\n",
       "      <td>47.000000</td>\n",
       "    </tr>\n",
       "    <tr>\n",
       "      <td>mean</td>\n",
       "      <td>24.000000</td>\n",
       "      <td>138.574468</td>\n",
       "      <td>0.340426</td>\n",
       "      <td>105.638298</td>\n",
       "      <td>85.000000</td>\n",
       "      <td>80.234043</td>\n",
       "      <td>561.191489</td>\n",
       "      <td>983.021277</td>\n",
       "      <td>36.617021</td>\n",
       "      <td>101.127660</td>\n",
       "      <td>95.468085</td>\n",
       "      <td>33.978723</td>\n",
       "      <td>525.382979</td>\n",
       "      <td>194.000000</td>\n",
       "      <td>0.047091</td>\n",
       "      <td>26.597921</td>\n",
       "      <td>905.085106</td>\n",
       "    </tr>\n",
       "    <tr>\n",
       "      <td>std</td>\n",
       "      <td>13.711309</td>\n",
       "      <td>12.567634</td>\n",
       "      <td>0.478975</td>\n",
       "      <td>11.186999</td>\n",
       "      <td>29.718974</td>\n",
       "      <td>27.961319</td>\n",
       "      <td>40.411814</td>\n",
       "      <td>29.467365</td>\n",
       "      <td>38.071188</td>\n",
       "      <td>102.828819</td>\n",
       "      <td>18.028783</td>\n",
       "      <td>8.445450</td>\n",
       "      <td>96.490944</td>\n",
       "      <td>39.896061</td>\n",
       "      <td>0.022737</td>\n",
       "      <td>7.086895</td>\n",
       "      <td>386.762697</td>\n",
       "    </tr>\n",
       "    <tr>\n",
       "      <td>min</td>\n",
       "      <td>1.000000</td>\n",
       "      <td>119.000000</td>\n",
       "      <td>0.000000</td>\n",
       "      <td>87.000000</td>\n",
       "      <td>45.000000</td>\n",
       "      <td>41.000000</td>\n",
       "      <td>480.000000</td>\n",
       "      <td>934.000000</td>\n",
       "      <td>3.000000</td>\n",
       "      <td>2.000000</td>\n",
       "      <td>70.000000</td>\n",
       "      <td>20.000000</td>\n",
       "      <td>288.000000</td>\n",
       "      <td>126.000000</td>\n",
       "      <td>0.006900</td>\n",
       "      <td>12.199600</td>\n",
       "      <td>342.000000</td>\n",
       "    </tr>\n",
       "    <tr>\n",
       "      <td>25%</td>\n",
       "      <td>12.500000</td>\n",
       "      <td>130.000000</td>\n",
       "      <td>0.000000</td>\n",
       "      <td>97.500000</td>\n",
       "      <td>62.500000</td>\n",
       "      <td>58.500000</td>\n",
       "      <td>530.500000</td>\n",
       "      <td>964.500000</td>\n",
       "      <td>10.000000</td>\n",
       "      <td>24.000000</td>\n",
       "      <td>80.500000</td>\n",
       "      <td>27.500000</td>\n",
       "      <td>459.500000</td>\n",
       "      <td>165.500000</td>\n",
       "      <td>0.032701</td>\n",
       "      <td>21.600350</td>\n",
       "      <td>658.500000</td>\n",
       "    </tr>\n",
       "    <tr>\n",
       "      <td>50%</td>\n",
       "      <td>24.000000</td>\n",
       "      <td>136.000000</td>\n",
       "      <td>0.000000</td>\n",
       "      <td>108.000000</td>\n",
       "      <td>78.000000</td>\n",
       "      <td>73.000000</td>\n",
       "      <td>560.000000</td>\n",
       "      <td>977.000000</td>\n",
       "      <td>25.000000</td>\n",
       "      <td>76.000000</td>\n",
       "      <td>92.000000</td>\n",
       "      <td>34.000000</td>\n",
       "      <td>537.000000</td>\n",
       "      <td>176.000000</td>\n",
       "      <td>0.042100</td>\n",
       "      <td>25.800600</td>\n",
       "      <td>831.000000</td>\n",
       "    </tr>\n",
       "    <tr>\n",
       "      <td>75%</td>\n",
       "      <td>35.500000</td>\n",
       "      <td>146.000000</td>\n",
       "      <td>1.000000</td>\n",
       "      <td>114.500000</td>\n",
       "      <td>104.500000</td>\n",
       "      <td>97.000000</td>\n",
       "      <td>593.000000</td>\n",
       "      <td>992.000000</td>\n",
       "      <td>41.500000</td>\n",
       "      <td>132.500000</td>\n",
       "      <td>104.000000</td>\n",
       "      <td>38.500000</td>\n",
       "      <td>591.500000</td>\n",
       "      <td>227.500000</td>\n",
       "      <td>0.054450</td>\n",
       "      <td>30.450750</td>\n",
       "      <td>1057.500000</td>\n",
       "    </tr>\n",
       "    <tr>\n",
       "      <td>max</td>\n",
       "      <td>47.000000</td>\n",
       "      <td>177.000000</td>\n",
       "      <td>1.000000</td>\n",
       "      <td>122.000000</td>\n",
       "      <td>166.000000</td>\n",
       "      <td>157.000000</td>\n",
       "      <td>641.000000</td>\n",
       "      <td>1071.000000</td>\n",
       "      <td>168.000000</td>\n",
       "      <td>423.000000</td>\n",
       "      <td>142.000000</td>\n",
       "      <td>58.000000</td>\n",
       "      <td>689.000000</td>\n",
       "      <td>276.000000</td>\n",
       "      <td>0.119804</td>\n",
       "      <td>44.000400</td>\n",
       "      <td>1993.000000</td>\n",
       "    </tr>\n",
       "  </tbody>\n",
       "</table>\n",
       "</div>"
      ],
      "text/plain": [
       "               N           M         So          Ed         Po1         Po2  \\\n",
       "count  47.000000   47.000000  47.000000   47.000000   47.000000   47.000000   \n",
       "mean   24.000000  138.574468   0.340426  105.638298   85.000000   80.234043   \n",
       "std    13.711309   12.567634   0.478975   11.186999   29.718974   27.961319   \n",
       "min     1.000000  119.000000   0.000000   87.000000   45.000000   41.000000   \n",
       "25%    12.500000  130.000000   0.000000   97.500000   62.500000   58.500000   \n",
       "50%    24.000000  136.000000   0.000000  108.000000   78.000000   73.000000   \n",
       "75%    35.500000  146.000000   1.000000  114.500000  104.500000   97.000000   \n",
       "max    47.000000  177.000000   1.000000  122.000000  166.000000  157.000000   \n",
       "\n",
       "               LF          M.F         Pop          NW          U1         U2  \\\n",
       "count   47.000000    47.000000   47.000000   47.000000   47.000000  47.000000   \n",
       "mean   561.191489   983.021277   36.617021  101.127660   95.468085  33.978723   \n",
       "std     40.411814    29.467365   38.071188  102.828819   18.028783   8.445450   \n",
       "min    480.000000   934.000000    3.000000    2.000000   70.000000  20.000000   \n",
       "25%    530.500000   964.500000   10.000000   24.000000   80.500000  27.500000   \n",
       "50%    560.000000   977.000000   25.000000   76.000000   92.000000  34.000000   \n",
       "75%    593.000000   992.000000   41.500000  132.500000  104.000000  38.500000   \n",
       "max    641.000000  1071.000000  168.000000  423.000000  142.000000  58.000000   \n",
       "\n",
       "              GDP        Ineq       Prob       Time            y  \n",
       "count   47.000000   47.000000  47.000000  47.000000    47.000000  \n",
       "mean   525.382979  194.000000   0.047091  26.597921   905.085106  \n",
       "std     96.490944   39.896061   0.022737   7.086895   386.762697  \n",
       "min    288.000000  126.000000   0.006900  12.199600   342.000000  \n",
       "25%    459.500000  165.500000   0.032701  21.600350   658.500000  \n",
       "50%    537.000000  176.000000   0.042100  25.800600   831.000000  \n",
       "75%    591.500000  227.500000   0.054450  30.450750  1057.500000  \n",
       "max    689.000000  276.000000   0.119804  44.000400  1993.000000  "
      ]
     },
     "execution_count": 3,
     "metadata": {},
     "output_type": "execute_result"
    }
   ],
   "source": [
    "df.describe()"
   ]
  },
  {
   "cell_type": "markdown",
   "metadata": {},
   "source": [
    "Убеждаемся, что категориальная переменная содержит только два значения."
   ]
  },
  {
   "cell_type": "code",
   "execution_count": 6,
   "metadata": {},
   "outputs": [
    {
     "data": {
      "text/plain": [
       "{0, 1}"
      ]
     },
     "execution_count": 6,
     "metadata": {},
     "output_type": "execute_result"
    }
   ],
   "source": [
    "set(df.So)"
   ]
  },
  {
   "cell_type": "markdown",
   "metadata": {},
   "source": [
    "## Задача 1.1."
   ]
  },
  {
   "cell_type": "markdown",
   "metadata": {},
   "source": [
    "Смотрим гистрограммы распределения вероятности попасть в тюрьму в южных штатах и вероятности попасть в тюрьму в остальных штатах."
   ]
  },
  {
   "cell_type": "code",
   "execution_count": 244,
   "metadata": {},
   "outputs": [
    {
     "data": {
      "image/png": "[encoded data removed]",
      "text/plain": [
       "<Figure size 432x288 with 1 Axes>"
      ]
     },
     "metadata": {
      "needs_background": "light"
     },
     "output_type": "display_data"
    }
   ],
   "source": [
    "fig = plt.figure()\n",
    "sns.distplot(df.Prob, bins=6)\n",
    "fig.suptitle('Распределение общей вероятности', fontsize=20)\n",
    "plt.xlabel('вероятность', fontsize=18)\n",
    "plt.ylabel('количество наблюдений', fontsize=16)\n",
    "plt.show();"
   ]
  },
  {
   "cell_type": "code",
   "execution_count": 253,
   "metadata": {},
   "outputs": [
    {
     "data": {
      "text/plain": [
       "<Figure size 432x288 with 0 Axes>"
      ]
     },
     "metadata": {},
     "output_type": "display_data"
    },
    {
     "data": {
      "image/png": "[encoded data removed]",
      "text/plain": [
       "<Figure size 432x288 with 1 Axes>"
      ]
     },
     "metadata": {
      "needs_background": "light"
     },
     "output_type": "display_data"
    }
   ],
   "source": [
    "fig = plt.figure()\n",
    "qqplot(df.Prob, line='s')\n",
    "plt.xlabel('Выборочные квантили', fontsize=18)\n",
    "plt.ylabel('Теоретические квантили', fontsize=16)\n",
    "plt.show();"
   ]
  },
  {
   "cell_type": "markdown",
   "metadata": {},
   "source": [
    "Графический анализ показывает, что распределения похожи на нормальное (и ядерные оценки плотности и сравнение выборочных и теоретических квантилей из нормального распределения) - но есть выбросы, поэтому, проверим распределения на нормальность."
   ]
  },
  {
   "cell_type": "code",
   "execution_count": 46,
   "metadata": {},
   "outputs": [
    {
     "data": {
      "text/plain": [
       "47"
      ]
     },
     "execution_count": 46,
     "metadata": {},
     "output_type": "execute_result"
    }
   ],
   "source": [
    "len(df)"
   ]
  },
  {
   "cell_type": "markdown",
   "metadata": {},
   "source": [
    "Число наблюдений 47, поэтому будем использовать для проверки нормальности распределения критерий Шапиро-Уилка."
   ]
  },
  {
   "cell_type": "code",
   "execution_count": 271,
   "metadata": {},
   "outputs": [
    {
     "name": "stdout",
     "output_type": "stream",
     "text": [
      "0.0179\n"
     ]
    }
   ],
   "source": [
    "print(np.round(sps.shapiro(df.Prob)[1], 4))"
   ]
  },
  {
   "cell_type": "markdown",
   "metadata": {},
   "source": [
    "Так как p-value $< \\alpha = 0.05$ для распределения общей вероятности, то отвергаем нулевую гипотезу о нормальности распределения общей вероятности попадания в тюрьму."
   ]
  },
  {
   "cell_type": "markdown",
   "metadata": {},
   "source": [
    "Мы имеем ненормальное распределение вероятности попадания в тюрьму, выборки являются независимыми, число выборок - две: южные штаты и остальные штаты.\n",
    "\n",
    "Выдвинем гипотезу в соответствии с условием задачи: $H_0$ - средняя вероятность оказаться в тюрьме после совершения преступления в южных штатах статистически не отличается от средней вероятности оказаться в тюрьме после совершения преступления от других штатов, $H_1$ - средняя вероятность оказаться в тюрьме после совершения преступления в южных штатах статистически отличается от средней вероятности оказаться в тюрьме после совершения преступления от других штатов.\n",
    "\n",
    "Распределение не подчиняется нормальному закону, поэтому используем непараметрический критерий. Таким критерием для нашего случая является критерий Манна-Уитни для проверки равенства средних."
   ]
  },
  {
   "cell_type": "code",
   "execution_count": 177,
   "metadata": {},
   "outputs": [
    {
     "data": {
      "text/plain": [
       "0.0001"
      ]
     },
     "execution_count": 177,
     "metadata": {},
     "output_type": "execute_result"
    }
   ],
   "source": [
    "from scipy.stats import mannwhitneyu\n",
    "np.round(mannwhitneyu(df[df.So == 1].Prob, df[df.So == 0].Prob)[1],4)"
   ]
  },
  {
   "cell_type": "markdown",
   "metadata": {},
   "source": [
    "Так как p-value $<\\alpha=0.05$, то отвергаем нулевую гипотезу о равенстве средних вероятностей попасть в тюрьму в южных и остальных штатах $\\Rightarrow$ шанс попасть в тюрьму зависит от штата.\n",
    "\n",
    "Вывод: средняя вероятность оказаться в тюрьме после совершения преступления в южных штатах статистически отличается от средней вероятности оказаться в тюрьме после совершения преступления от других штатов. Поэтому, мы можем сказать о том, что это не правда, что что вероятность оказаться в тюрьме после совершения преступления в южных штатах не отличается от вероятности оказаться в тюрьме после совершения преступления от других штатов."
   ]
  },
  {
   "cell_type": "markdown",
   "metadata": {},
   "source": [
    "## Задача 1.2."
   ]
  },
  {
   "cell_type": "code",
   "execution_count": 200,
   "metadata": {},
   "outputs": [],
   "source": [
    "df_u = pd.concat([df.U1, df.U2])"
   ]
  },
  {
   "cell_type": "markdown",
   "metadata": {},
   "source": [
    "Графический анализ нормальности распределения уровня дает отрицательный результат - судя по всему, распределение ненормальное."
   ]
  },
  {
   "cell_type": "code",
   "execution_count": 264,
   "metadata": {},
   "outputs": [
    {
     "data": {
      "image/png": "[encoded data removed]",
      "text/plain": [
       "<Figure size 432x288 with 1 Axes>"
      ]
     },
     "metadata": {
      "needs_background": "light"
     },
     "output_type": "display_data"
    }
   ],
   "source": [
    "fig = plt.figure()\n",
    "sns.distplot(df_u, bins=6)\n",
    "fig.suptitle('Распределение общего уровня безработицы', fontsize=20)\n",
    "plt.xlabel('уровень безработицы', fontsize=18)\n",
    "plt.show();"
   ]
  },
  {
   "cell_type": "code",
   "execution_count": 265,
   "metadata": {},
   "outputs": [
    {
     "data": {
      "text/plain": [
       "<Figure size 432x288 with 0 Axes>"
      ]
     },
     "metadata": {},
     "output_type": "display_data"
    },
    {
     "data": {
      "image/png": "[encoded data removed]",
      "text/plain": [
       "<Figure size 432x288 with 1 Axes>"
      ]
     },
     "metadata": {
      "needs_background": "light"
     },
     "output_type": "display_data"
    }
   ],
   "source": [
    "fig = plt.figure()\n",
    "qqplot(df_u, line='s')\n",
    "plt.xlabel('Выборочные квантили', fontsize=18)\n",
    "plt.ylabel('Теоретические квантили', fontsize=16)\n",
    "plt.show();"
   ]
  },
  {
   "cell_type": "markdown",
   "metadata": {},
   "source": [
    "Проверим на нормальность критерием Колмогорова (поскольку в конкатенированной таблице с данынми будет 47*2 = 94 наблюдения) распределения уровня безработицы у юношей и мужчин."
   ]
  },
  {
   "cell_type": "code",
   "execution_count": 221,
   "metadata": {},
   "outputs": [
    {
     "data": {
      "text/plain": [
       "0.0011"
      ]
     },
     "execution_count": 221,
     "metadata": {},
     "output_type": "execute_result"
    }
   ],
   "source": [
    "np.round(sps.kstest(df_u, cdf=sps.norm.cdf, args=(np.mean(df_u), np.std(df_u)))[1], 4)"
   ]
  },
  {
   "cell_type": "markdown",
   "metadata": {},
   "source": [
    "Так как p-value  $<\\alpha=0.05$  для распределения общего уровня безработицы, то отвергаем нулевую гипотезу о нормальности распределения."
   ]
  },
  {
   "cell_type": "markdown",
   "metadata": {},
   "source": [
    "Общее распределение ненормально, выборки зависимы, выборок две - поэтому выбираем критерий Вилкоксона для проверки равенства средних уровней безработицы."
   ]
  },
  {
   "cell_type": "code",
   "execution_count": 225,
   "metadata": {},
   "outputs": [
    {
     "data": {
      "text/plain": [
       "0.0"
      ]
     },
     "execution_count": 225,
     "metadata": {},
     "output_type": "execute_result"
    }
   ],
   "source": [
    "from scipy.stats import wilcoxon\n",
    "np.round(wilcoxon(df.U1,df.U2)[1], 6)"
   ]
  },
  {
   "cell_type": "markdown",
   "metadata": {},
   "source": [
    "Так как p-value  $<\\alpha=0.05$, то отвергаем нулевую гипотезу о равенстве среднего уровня безработицы у мужчин и юнош Севере и Юге  ⇒  уровень безработицы зависит от возраста.\n",
    "\n",
    "Вывод: средний уровень безработицы у  мужчин статистически отличается от среднего уровеня безработицы у юнош. Поэтому, мы можем сказать о том, что уровень безработицы у мужчин зависит от возраста мужчины."
   ]
  },
  {
   "cell_type": "markdown",
   "metadata": {},
   "source": [
    "## Задача 1.3."
   ]
  },
  {
   "cell_type": "markdown",
   "metadata": {},
   "source": [
    "Импортируем данные, смотрим описательные статистики."
   ]
  },
  {
   "cell_type": "code",
   "execution_count": 179,
   "metadata": {},
   "outputs": [
    {
     "data": {
      "text/html": [
       "<div>\n",
       "<style scoped>\n",
       "    .dataframe tbody tr th:only-of-type {\n",
       "        vertical-align: middle;\n",
       "    }\n",
       "\n",
       "    .dataframe tbody tr th {\n",
       "        vertical-align: top;\n",
       "    }\n",
       "\n",
       "    .dataframe thead th {\n",
       "        text-align: right;\n",
       "    }\n",
       "</style>\n",
       "<table border=\"1\" class=\"dataframe\">\n",
       "  <thead>\n",
       "    <tr style=\"text-align: right;\">\n",
       "      <th></th>\n",
       "      <th>Population</th>\n",
       "      <th>Income</th>\n",
       "      <th>Illiteracy</th>\n",
       "      <th>Life.Exp</th>\n",
       "      <th>Murder</th>\n",
       "      <th>HS.Grand</th>\n",
       "      <th>Frost</th>\n",
       "      <th>Area</th>\n",
       "      <th>state.division</th>\n",
       "      <th>state.name</th>\n",
       "      <th>state.region</th>\n",
       "    </tr>\n",
       "  </thead>\n",
       "  <tbody>\n",
       "    <tr>\n",
       "      <td>0</td>\n",
       "      <td>3615</td>\n",
       "      <td>3624</td>\n",
       "      <td>2.1</td>\n",
       "      <td>69.05</td>\n",
       "      <td>15.1</td>\n",
       "      <td>41.3</td>\n",
       "      <td>20</td>\n",
       "      <td>50708</td>\n",
       "      <td>East South Central</td>\n",
       "      <td>Alabama</td>\n",
       "      <td>South</td>\n",
       "    </tr>\n",
       "    <tr>\n",
       "      <td>1</td>\n",
       "      <td>365</td>\n",
       "      <td>6315</td>\n",
       "      <td>1.5</td>\n",
       "      <td>69.31</td>\n",
       "      <td>11.3</td>\n",
       "      <td>66.7</td>\n",
       "      <td>152</td>\n",
       "      <td>566432</td>\n",
       "      <td>Pacific</td>\n",
       "      <td>Alaska</td>\n",
       "      <td>West</td>\n",
       "    </tr>\n",
       "    <tr>\n",
       "      <td>2</td>\n",
       "      <td>2212</td>\n",
       "      <td>4530</td>\n",
       "      <td>1.8</td>\n",
       "      <td>70.55</td>\n",
       "      <td>7.8</td>\n",
       "      <td>58.1</td>\n",
       "      <td>15</td>\n",
       "      <td>113417</td>\n",
       "      <td>Mountain</td>\n",
       "      <td>Arizona</td>\n",
       "      <td>West</td>\n",
       "    </tr>\n",
       "    <tr>\n",
       "      <td>3</td>\n",
       "      <td>2110</td>\n",
       "      <td>3378</td>\n",
       "      <td>1.9</td>\n",
       "      <td>70.66</td>\n",
       "      <td>10.1</td>\n",
       "      <td>39.9</td>\n",
       "      <td>65</td>\n",
       "      <td>51945</td>\n",
       "      <td>West South Central</td>\n",
       "      <td>Arkansas</td>\n",
       "      <td>South</td>\n",
       "    </tr>\n",
       "    <tr>\n",
       "      <td>4</td>\n",
       "      <td>21198</td>\n",
       "      <td>5114</td>\n",
       "      <td>1.1</td>\n",
       "      <td>71.71</td>\n",
       "      <td>10.3</td>\n",
       "      <td>62.6</td>\n",
       "      <td>20</td>\n",
       "      <td>156361</td>\n",
       "      <td>Pacific</td>\n",
       "      <td>California</td>\n",
       "      <td>West</td>\n",
       "    </tr>\n",
       "  </tbody>\n",
       "</table>\n",
       "</div>"
      ],
      "text/plain": [
       "   Population  Income  Illiteracy  Life.Exp  Murder  HS.Grand  Frost    Area  \\\n",
       "0        3615    3624         2.1     69.05    15.1      41.3     20   50708   \n",
       "1         365    6315         1.5     69.31    11.3      66.7    152  566432   \n",
       "2        2212    4530         1.8     70.55     7.8      58.1     15  113417   \n",
       "3        2110    3378         1.9     70.66    10.1      39.9     65   51945   \n",
       "4       21198    5114         1.1     71.71    10.3      62.6     20  156361   \n",
       "\n",
       "       state.division  state.name state.region  \n",
       "0  East South Central     Alabama        South  \n",
       "1             Pacific      Alaska         West  \n",
       "2            Mountain     Arizona         West  \n",
       "3  West South Central    Arkansas        South  \n",
       "4             Pacific  California         West  "
      ]
     },
     "execution_count": 179,
     "metadata": {},
     "output_type": "execute_result"
    }
   ],
   "source": [
    "df = pd.read_excel('state77.xlsx')\n",
    "df.head()"
   ]
  },
  {
   "cell_type": "code",
   "execution_count": 137,
   "metadata": {},
   "outputs": [
    {
     "data": {
      "text/html": [
       "<div>\n",
       "<style scoped>\n",
       "    .dataframe tbody tr th:only-of-type {\n",
       "        vertical-align: middle;\n",
       "    }\n",
       "\n",
       "    .dataframe tbody tr th {\n",
       "        vertical-align: top;\n",
       "    }\n",
       "\n",
       "    .dataframe thead th {\n",
       "        text-align: right;\n",
       "    }\n",
       "</style>\n",
       "<table border=\"1\" class=\"dataframe\">\n",
       "  <thead>\n",
       "    <tr style=\"text-align: right;\">\n",
       "      <th></th>\n",
       "      <th>Population</th>\n",
       "      <th>Income</th>\n",
       "      <th>Illiteracy</th>\n",
       "      <th>Life.Exp</th>\n",
       "      <th>Murder</th>\n",
       "      <th>HS.Grand</th>\n",
       "      <th>Frost</th>\n",
       "      <th>Area</th>\n",
       "    </tr>\n",
       "  </thead>\n",
       "  <tbody>\n",
       "    <tr>\n",
       "      <td>count</td>\n",
       "      <td>50.000000</td>\n",
       "      <td>50.000000</td>\n",
       "      <td>50.000000</td>\n",
       "      <td>50.000000</td>\n",
       "      <td>50.00000</td>\n",
       "      <td>50.000000</td>\n",
       "      <td>50.000000</td>\n",
       "      <td>50.000000</td>\n",
       "    </tr>\n",
       "    <tr>\n",
       "      <td>mean</td>\n",
       "      <td>4246.420000</td>\n",
       "      <td>4435.800000</td>\n",
       "      <td>1.170000</td>\n",
       "      <td>70.878600</td>\n",
       "      <td>7.37800</td>\n",
       "      <td>53.108000</td>\n",
       "      <td>104.460000</td>\n",
       "      <td>70735.880000</td>\n",
       "    </tr>\n",
       "    <tr>\n",
       "      <td>std</td>\n",
       "      <td>4464.491433</td>\n",
       "      <td>614.469939</td>\n",
       "      <td>0.609533</td>\n",
       "      <td>1.342394</td>\n",
       "      <td>3.69154</td>\n",
       "      <td>8.076998</td>\n",
       "      <td>51.980848</td>\n",
       "      <td>85327.299622</td>\n",
       "    </tr>\n",
       "    <tr>\n",
       "      <td>min</td>\n",
       "      <td>365.000000</td>\n",
       "      <td>3098.000000</td>\n",
       "      <td>0.500000</td>\n",
       "      <td>67.960000</td>\n",
       "      <td>1.40000</td>\n",
       "      <td>37.800000</td>\n",
       "      <td>0.000000</td>\n",
       "      <td>1049.000000</td>\n",
       "    </tr>\n",
       "    <tr>\n",
       "      <td>25%</td>\n",
       "      <td>1079.500000</td>\n",
       "      <td>3992.750000</td>\n",
       "      <td>0.625000</td>\n",
       "      <td>70.117500</td>\n",
       "      <td>4.35000</td>\n",
       "      <td>48.050000</td>\n",
       "      <td>66.250000</td>\n",
       "      <td>36985.250000</td>\n",
       "    </tr>\n",
       "    <tr>\n",
       "      <td>50%</td>\n",
       "      <td>2838.500000</td>\n",
       "      <td>4519.000000</td>\n",
       "      <td>0.950000</td>\n",
       "      <td>70.675000</td>\n",
       "      <td>6.85000</td>\n",
       "      <td>53.250000</td>\n",
       "      <td>114.500000</td>\n",
       "      <td>54277.000000</td>\n",
       "    </tr>\n",
       "    <tr>\n",
       "      <td>75%</td>\n",
       "      <td>4968.500000</td>\n",
       "      <td>4813.500000</td>\n",
       "      <td>1.575000</td>\n",
       "      <td>71.892500</td>\n",
       "      <td>10.67500</td>\n",
       "      <td>59.150000</td>\n",
       "      <td>139.750000</td>\n",
       "      <td>81162.500000</td>\n",
       "    </tr>\n",
       "    <tr>\n",
       "      <td>max</td>\n",
       "      <td>21198.000000</td>\n",
       "      <td>6315.000000</td>\n",
       "      <td>2.800000</td>\n",
       "      <td>73.600000</td>\n",
       "      <td>15.10000</td>\n",
       "      <td>67.300000</td>\n",
       "      <td>188.000000</td>\n",
       "      <td>566432.000000</td>\n",
       "    </tr>\n",
       "  </tbody>\n",
       "</table>\n",
       "</div>"
      ],
      "text/plain": [
       "         Population       Income  Illiteracy   Life.Exp    Murder   HS.Grand  \\\n",
       "count     50.000000    50.000000   50.000000  50.000000  50.00000  50.000000   \n",
       "mean    4246.420000  4435.800000    1.170000  70.878600   7.37800  53.108000   \n",
       "std     4464.491433   614.469939    0.609533   1.342394   3.69154   8.076998   \n",
       "min      365.000000  3098.000000    0.500000  67.960000   1.40000  37.800000   \n",
       "25%     1079.500000  3992.750000    0.625000  70.117500   4.35000  48.050000   \n",
       "50%     2838.500000  4519.000000    0.950000  70.675000   6.85000  53.250000   \n",
       "75%     4968.500000  4813.500000    1.575000  71.892500  10.67500  59.150000   \n",
       "max    21198.000000  6315.000000    2.800000  73.600000  15.10000  67.300000   \n",
       "\n",
       "            Frost           Area  \n",
       "count   50.000000      50.000000  \n",
       "mean   104.460000   70735.880000  \n",
       "std     51.980848   85327.299622  \n",
       "min      0.000000    1049.000000  \n",
       "25%     66.250000   36985.250000  \n",
       "50%    114.500000   54277.000000  \n",
       "75%    139.750000   81162.500000  \n",
       "max    188.000000  566432.000000  "
      ]
     },
     "execution_count": 137,
     "metadata": {},
     "output_type": "execute_result"
    }
   ],
   "source": [
    "df.describe()"
   ]
  },
  {
   "cell_type": "markdown",
   "metadata": {},
   "source": [
    "Количество наблюдений равно 50."
   ]
  },
  {
   "cell_type": "code",
   "execution_count": 138,
   "metadata": {},
   "outputs": [
    {
     "data": {
      "text/plain": [
       "50"
      ]
     },
     "execution_count": 138,
     "metadata": {},
     "output_type": "execute_result"
    }
   ],
   "source": [
    "len(df)"
   ]
  },
  {
   "cell_type": "markdown",
   "metadata": {},
   "source": [
    "Какие вообще регионы есть в данном наборе данных?"
   ]
  },
  {
   "cell_type": "code",
   "execution_count": 139,
   "metadata": {},
   "outputs": [
    {
     "data": {
      "text/plain": [
       "{'North Central', 'Northeast', 'South', 'West'}"
      ]
     },
     "execution_count": 139,
     "metadata": {},
     "output_type": "execute_result"
    }
   ],
   "source": [
    "set(df['state.region'])"
   ]
  },
  {
   "cell_type": "markdown",
   "metadata": {},
   "source": [
    "Судя по всему, west - запад, south - юг, northeast - северо-восток, north central - север."
   ]
  },
  {
   "cell_type": "markdown",
   "metadata": {},
   "source": [
    "Сравним уровень неграмотности на Севере Америки и Юге."
   ]
  },
  {
   "cell_type": "code",
   "execution_count": 180,
   "metadata": {},
   "outputs": [],
   "source": [
    "df_North = df[df['state.region'] == 'North Central']\n",
    "df_South = df[df['state.region'] == 'South']\n",
    "df_common = df[(df['state.region'] == 'South') | (df['state.region'] == 'North Central')]"
   ]
  },
  {
   "cell_type": "markdown",
   "metadata": {},
   "source": [
    "Смотрим на общее распределение неграммотности на Севере и Юге."
   ]
  },
  {
   "cell_type": "code",
   "execution_count": 269,
   "metadata": {},
   "outputs": [
    {
     "data": {
      "image/png": "[encoded data removed]",
      "text/plain": [
       "<Figure size 432x288 with 1 Axes>"
      ]
     },
     "metadata": {
      "needs_background": "light"
     },
     "output_type": "display_data"
    }
   ],
   "source": [
    "fig = plt.figure()\n",
    "sns.distplot(df_common.Illiteracy, bins=6)\n",
    "fig.suptitle('Распределение неграмотности общее', fontsize=20)\n",
    "plt.xlabel('уровень неграмотности', fontsize=18)\n",
    "plt.show();"
   ]
  },
  {
   "cell_type": "code",
   "execution_count": 270,
   "metadata": {},
   "outputs": [
    {
     "data": {
      "text/plain": [
       "<Figure size 432x288 with 0 Axes>"
      ]
     },
     "metadata": {},
     "output_type": "display_data"
    },
    {
     "data": {
      "image/png": "[encoded data removed]",
      "text/plain": [
       "<Figure size 432x288 with 1 Axes>"
      ]
     },
     "metadata": {
      "needs_background": "light"
     },
     "output_type": "display_data"
    }
   ],
   "source": [
    "fig = plt.figure()\n",
    "qqplot(df_common.Illiteracy, line='s')\n",
    "plt.xlabel('Выборочные квантили', fontsize=18)\n",
    "plt.ylabel('Теоретические квантили', fontsize=16)\n",
    "plt.show();"
   ]
  },
  {
   "cell_type": "markdown",
   "metadata": {},
   "source": [
    "Судя по графику, распределение не является нормальным - оно, очевидно, ассиметрично. Проверим нормальность по критерию Шапиро-Уилка, так как число наблюдений равно 50."
   ]
  },
  {
   "cell_type": "code",
   "execution_count": 181,
   "metadata": {},
   "outputs": [
    {
     "name": "stdout",
     "output_type": "stream",
     "text": [
      "0.0146\n"
     ]
    }
   ],
   "source": [
    "print(np.round(sps.shapiro(df_common.Illiteracy)[1], 4))"
   ]
  },
  {
   "cell_type": "markdown",
   "metadata": {},
   "source": [
    "Так как p-value  $<\\alpha=0.05$ для распределения общего уровня неграмотности, то отвергаем нулевую гипотезу о нормальности распределения.\n",
    "\n",
    "Распределение ненормально, выборок две, выборки независимые, поэтому воспользуемся критерием Манна-Уитни для проверки статистической незначимости различий средних уровней неграмотности на Севере и Юге."
   ]
  },
  {
   "cell_type": "code",
   "execution_count": 187,
   "metadata": {},
   "outputs": [
    {
     "data": {
      "text/plain": [
       "0.0"
      ]
     },
     "execution_count": 187,
     "metadata": {},
     "output_type": "execute_result"
    }
   ],
   "source": [
    "np.round(mannwhitneyu(df_South.Illiteracy, df_North.Illiteracy)[1],4)"
   ]
  },
  {
   "cell_type": "markdown",
   "metadata": {},
   "source": [
    "Так как p-value $<\\alpha=0.05$, то отвергаем нулевую гипотезу о равенстве среднего уровня неграмотности на Севере и Юге $\\Rightarrow$ уровень неграмотности зависит от региона сттраны.\n",
    "\n",
    "Вывод: средний уровень неграмотности на Юге статистически отличается от среднего уровеня неграмотности на Севере, поэтому, говорим о том, что уровни неграмотности на Севере и Юге не равны."
   ]
  },
  {
   "cell_type": "code",
   "execution_count": null,
   "metadata": {},
   "outputs": [],
   "source": []
  }
 ],
 "metadata": {
  "kernelspec": {
   "display_name": "Python 3",
   "language": "python",
   "name": "python3"
  },
  "language_info": {
   "codemirror_mode": {
    "name": "ipython",
    "version": 3
   },
   "file_extension": ".py",
   "mimetype": "text/x-python",
   "name": "python",
   "nbconvert_exporter": "python",
   "pygments_lexer": "ipython3",
   "version": "3.7.4"
  }
 },
 "nbformat": 4,
 "nbformat_minor": 2
}
