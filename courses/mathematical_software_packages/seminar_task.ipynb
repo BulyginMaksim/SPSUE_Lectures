{
 "cells": [
  {
   "cell_type": "code",
   "execution_count": 1,
   "metadata": {},
   "outputs": [],
   "source": [
    "import numpy as np\n",
    "import pandas as pd"
   ]
  },
  {
   "cell_type": "markdown",
   "metadata": {},
   "source": [
    "1. Есть список a = [1, 1, 2, 3, 5, 8, 13, 21, 34, 55, 89]. Выведите все элементы, которые меньше 5."
   ]
  },
  {
   "cell_type": "code",
   "execution_count": 8,
   "metadata": {},
   "outputs": [
    {
     "name": "stdout",
     "output_type": "stream",
     "text": [
      "Все элементы, которые меньше 5: [1 1 2 3]\n"
     ]
    }
   ],
   "source": [
    "a = np.array([1, 1, 2, 3, 5, 8, 13, 21, 34, 55, 89])\n",
    "print(f\"Все элементы, которые меньше 5: {a[a < 5]}\")"
   ]
  },
  {
   "cell_type": "markdown",
   "metadata": {},
   "source": [
    "2. Даны списки:\n",
    "\n",
    "a = [1, 1, 2, 3, 5, 8, 13, 21, 34, 55, 89];\n",
    "\n",
    "b = [1, 2, 3, 4, 5, 6, 7, 8, 9, 10, 11, 12, 13].\n",
    "\n",
    "Нужно вернуть список, который состоит из элементов, общих для этих двух списков."
   ]
  },
  {
   "cell_type": "code",
   "execution_count": 9,
   "metadata": {},
   "outputs": [
    {
     "data": {
      "text/plain": [
       "array([ 1,  2,  3,  5,  8, 13])"
      ]
     },
     "execution_count": 9,
     "metadata": {},
     "output_type": "execute_result"
    }
   ],
   "source": [
    "a = [1, 1, 2, 3, 5, 8, 13, 21, 34, 55, 89]\n",
    "b = [1, 2, 3, 4, 5, 6, 7, 8, 9, 10, 11, 12, 13]\n",
    "np.intersect1d(a, b)"
   ]
  },
  {
   "cell_type": "markdown",
   "metadata": {},
   "source": [
    "3. Сделайте так, чтобы число секунд = 1234565    отображалось в виде дни: часы: минуты: секунды. "
   ]
  },
  {
   "cell_type": "code",
   "execution_count": 61,
   "metadata": {},
   "outputs": [
    {
     "name": "stdout",
     "output_type": "stream",
     "text": [
      "Число секунд 1234565 при переводе в дни/часы/минуты/секунды равно 14 дней 6 часов 56 минут 05 секунд\n"
     ]
    }
   ],
   "source": [
    "from datetime import timedelta\n",
    "sec = 1234565\n",
    "date = str(timedelta(seconds=sec)).replace(\":\", \" \").replace(\",\", \"\").split()\n",
    "print(f\"Число секунд {sec} при переводе в дни/часы/минуты/секунды равно\\\n",
    " {date[0]} дней {date[2]} часов {date[3]} минут {date[4]} секунд\")"
   ]
  },
  {
   "cell_type": "markdown",
   "metadata": {},
   "source": [
    "4. Вы принимаете от пользователя последовательность чисел, разделённых запятой. Составьте список и кортеж с этими числами."
   ]
  },
  {
   "cell_type": "code",
   "execution_count": 78,
   "metadata": {},
   "outputs": [
    {
     "name": "stdout",
     "output_type": "stream",
     "text": [
      "Введите последовательность чисел, разделённых запятой: 213, 123, 12334\n",
      "Список с данными числами: [213, 123, 12334]\n",
      "Кортеж с данными числами: (213, 123, 12334)\n"
     ]
    }
   ],
   "source": [
    "a = input(\"Введите последовательность чисел, разделённых запятой: \").replace(\",\", \" \").split()\n",
    "print(f\"Список с данными числами: {list(map(int, a))}\")\n",
    "print(f\"Кортеж с данными числами: {tuple(map(int, a))}\")"
   ]
  },
  {
   "cell_type": "markdown",
   "metadata": {},
   "source": [
    "5. Выведите первый и последний элемент списка."
   ]
  },
  {
   "cell_type": "code",
   "execution_count": 89,
   "metadata": {},
   "outputs": [
    {
     "name": "stdout",
     "output_type": "stream",
     "text": [
      "Первый элемент списка: 1, последний элемент списка: 19\n"
     ]
    }
   ],
   "source": [
    "a = list(range(1, 20, 3)) #задан какой-то список\n",
    "print(f\"Первый элемент списка: {a.pop(0)}, последний элемент списка: {a.pop()}\")"
   ]
  },
  {
   "cell_type": "markdown",
   "metadata": {},
   "source": [
    "6. Сложите цифры целого числа."
   ]
  },
  {
   "cell_type": "code",
   "execution_count": 106,
   "metadata": {},
   "outputs": [
    {
     "name": "stdout",
     "output_type": "stream",
     "text": [
      "Сумма цифр целого числа: 9\n"
     ]
    }
   ],
   "source": [
    "number = \"21123\" #задано целое число\n",
    "s = sum(map(int, list(number.replace(\"-\",\"\")))) #учитываем, что целое число может быть отрицтальным, избавляемся от \"-\"\n",
    "print(f\"Сумма цифр целого числа: {s}\")"
   ]
  },
  {
   "cell_type": "markdown",
   "metadata": {},
   "source": [
    "7. Напишите программу, которая принимает текст и выводит два слова: наиболее часто встречающееся и самое длинное."
   ]
  },
  {
   "cell_type": "code",
   "execution_count": 377,
   "metadata": {},
   "outputs": [],
   "source": [
    "from collections import Counter\n",
    "\n",
    "def my_func(a):\n",
    "    print(f\"На вход было получено следующее предложение: \\n'{a}'\")\n",
    "    signs = [\":\", \",\", \";\", \".\", \"?\", \"...\", \"!\"] #уберем мешающие нам знаки разделения в предложении\n",
    "    for char in signs:\n",
    "        a = a.replace(char, \" \")\n",
    "    a = a.lower().split() #приведем всю строку к нижнему регистру, так как слова могут начинать с большой буквы\n",
    "    longest = max(list(map(lambda x: (len(x), x), a))) # находим самое длинное слово\n",
    "    common = max(Counter(a).items(), key = lambda x: x[1]) # находим наиболее часто встречающееся слово\n",
    "    print(f\"Наиболее часто встречающееся слово - '{common[0]}', оно встретилось {common[1]} раз(а).\")\n",
    "    print(f\"Самое длинное слово - '{longest[1]}', его длина - {longest[0]} букв.\")"
   ]
  },
  {
   "cell_type": "code",
   "execution_count": 378,
   "metadata": {},
   "outputs": [
    {
     "name": "stdout",
     "output_type": "stream",
     "text": [
      "На вход было получено следующее предложение: \n",
      "'Напишите программу, которая принимает текст и выводит два слова: наиболее часто встречающееся и самое длинное.'\n",
      "Наиболее часто встречающееся слово - 'и', оно встретилось 2 раз(а).\n",
      "Самое длинное слово - 'встречающееся', его длина - 13 букв.\n"
     ]
    }
   ],
   "source": [
    "a = \"Напишите программу, которая принимает текст и выводит два слова: наиболее часто встречающееся и самое длинное.\"\n",
    "my_func(a)"
   ]
  },
  {
   "cell_type": "code",
   "execution_count": 379,
   "metadata": {},
   "outputs": [
    {
     "name": "stdout",
     "output_type": "stream",
     "text": [
      "Введите предложение: И день добрый, и погода хорошая!\n",
      "На вход было получено следующее предложение: \n",
      "'И день добрый, и погода хорошая!'\n",
      "Наиболее часто встречающееся слово - 'и', оно встретилось 2 раз(а).\n",
      "Самое длинное слово - 'хорошая', его длина - 7 букв.\n"
     ]
    }
   ],
   "source": [
    "my_func(input(\"Введите предложение: \"))"
   ]
  },
  {
   "cell_type": "markdown",
   "metadata": {},
   "source": [
    "8. Переименовать 1-ый столбец - price, добавить новый столбец (без $)"
   ]
  },
  {
   "cell_type": "code",
   "execution_count": 250,
   "metadata": {},
   "outputs": [
    {
     "data": {
      "text/html": [
       "<div>\n",
       "<style scoped>\n",
       "    .dataframe tbody tr th:only-of-type {\n",
       "        vertical-align: middle;\n",
       "    }\n",
       "\n",
       "    .dataframe tbody tr th {\n",
       "        vertical-align: top;\n",
       "    }\n",
       "\n",
       "    .dataframe thead th {\n",
       "        text-align: right;\n",
       "    }\n",
       "</style>\n",
       "<table border=\"1\" class=\"dataframe\">\n",
       "  <thead>\n",
       "    <tr style=\"text-align: right;\">\n",
       "      <th></th>\n",
       "      <th>X5XX</th>\n",
       "    </tr>\n",
       "  </thead>\n",
       "  <tbody>\n",
       "    <tr>\n",
       "      <td>0</td>\n",
       "      <td>200$</td>\n",
       "    </tr>\n",
       "    <tr>\n",
       "      <td>1</td>\n",
       "      <td>150$</td>\n",
       "    </tr>\n",
       "    <tr>\n",
       "      <td>2</td>\n",
       "      <td>7000$</td>\n",
       "    </tr>\n",
       "    <tr>\n",
       "      <td>3</td>\n",
       "      <td>110$</td>\n",
       "    </tr>\n",
       "  </tbody>\n",
       "</table>\n",
       "</div>"
      ],
      "text/plain": [
       "    X5XX\n",
       "0   200$\n",
       "1   150$\n",
       "2  7000$\n",
       "3   110$"
      ]
     },
     "execution_count": 250,
     "metadata": {},
     "output_type": "execute_result"
    }
   ],
   "source": [
    "df = pd.DataFrame({'X5XX' : [\"200$\", \"150$\", \"7000$\", \"110$\"]})\n",
    "df"
   ]
  },
  {
   "cell_type": "code",
   "execution_count": 267,
   "metadata": {},
   "outputs": [
    {
     "data": {
      "text/html": [
       "<div>\n",
       "<style scoped>\n",
       "    .dataframe tbody tr th:only-of-type {\n",
       "        vertical-align: middle;\n",
       "    }\n",
       "\n",
       "    .dataframe tbody tr th {\n",
       "        vertical-align: top;\n",
       "    }\n",
       "\n",
       "    .dataframe thead th {\n",
       "        text-align: right;\n",
       "    }\n",
       "</style>\n",
       "<table border=\"1\" class=\"dataframe\">\n",
       "  <thead>\n",
       "    <tr style=\"text-align: right;\">\n",
       "      <th></th>\n",
       "      <th>price</th>\n",
       "      <th>price($)</th>\n",
       "    </tr>\n",
       "  </thead>\n",
       "  <tbody>\n",
       "    <tr>\n",
       "      <td>0</td>\n",
       "      <td>200$</td>\n",
       "      <td>200</td>\n",
       "    </tr>\n",
       "    <tr>\n",
       "      <td>1</td>\n",
       "      <td>150$</td>\n",
       "      <td>150</td>\n",
       "    </tr>\n",
       "    <tr>\n",
       "      <td>2</td>\n",
       "      <td>7000$</td>\n",
       "      <td>7000</td>\n",
       "    </tr>\n",
       "    <tr>\n",
       "      <td>3</td>\n",
       "      <td>110$</td>\n",
       "      <td>110</td>\n",
       "    </tr>\n",
       "  </tbody>\n",
       "</table>\n",
       "</div>"
      ],
      "text/plain": [
       "   price price($)\n",
       "0   200$      200\n",
       "1   150$      150\n",
       "2  7000$     7000\n",
       "3   110$      110"
      ]
     },
     "execution_count": 267,
     "metadata": {},
     "output_type": "execute_result"
    }
   ],
   "source": [
    "df.columns = [\"price\"]\n",
    "df[\"price($)\"] = df[\"price\"].str.replace(\"$\", \"\")\n",
    "df"
   ]
  },
  {
   "attachments": {},
   "cell_type": "markdown",
   "metadata": {},
   "source": [
    "9. Строковый признак type превратить в его бинарный признак, результат – в новый столбец type_v1."
   ]
  },
  {
   "cell_type": "code",
   "execution_count": 274,
   "metadata": {},
   "outputs": [
    {
     "data": {
      "text/html": [
       "<div>\n",
       "<style scoped>\n",
       "    .dataframe tbody tr th:only-of-type {\n",
       "        vertical-align: middle;\n",
       "    }\n",
       "\n",
       "    .dataframe tbody tr th {\n",
       "        vertical-align: top;\n",
       "    }\n",
       "\n",
       "    .dataframe thead th {\n",
       "        text-align: right;\n",
       "    }\n",
       "</style>\n",
       "<table border=\"1\" class=\"dataframe\">\n",
       "  <thead>\n",
       "    <tr style=\"text-align: right;\">\n",
       "      <th></th>\n",
       "      <th>type</th>\n",
       "      <th>type_v1</th>\n",
       "    </tr>\n",
       "  </thead>\n",
       "  <tbody>\n",
       "    <tr>\n",
       "      <td>0</td>\n",
       "      <td>A</td>\n",
       "      <td>1</td>\n",
       "    </tr>\n",
       "    <tr>\n",
       "      <td>1</td>\n",
       "      <td>B</td>\n",
       "      <td>0</td>\n",
       "    </tr>\n",
       "    <tr>\n",
       "      <td>2</td>\n",
       "      <td>A</td>\n",
       "      <td>1</td>\n",
       "    </tr>\n",
       "    <tr>\n",
       "      <td>3</td>\n",
       "      <td>A</td>\n",
       "      <td>1</td>\n",
       "    </tr>\n",
       "    <tr>\n",
       "      <td>4</td>\n",
       "      <td>A</td>\n",
       "      <td>1</td>\n",
       "    </tr>\n",
       "  </tbody>\n",
       "</table>\n",
       "</div>"
      ],
      "text/plain": [
       "  type  type_v1\n",
       "0    A        1\n",
       "1    B        0\n",
       "2    A        1\n",
       "3    A        1\n",
       "4    A        1"
      ]
     },
     "execution_count": 274,
     "metadata": {},
     "output_type": "execute_result"
    }
   ],
   "source": [
    "df = pd.DataFrame({\"type\": [\"A\", \"B\", \"A\", \"A\", \"A\"]})\n",
    "df[\"type_v1\"] = (df.type == \"A\") * 1\n",
    "df"
   ]
  },
  {
   "cell_type": "markdown",
   "metadata": {},
   "source": [
    "10. Надо расщепить столбец А/В на два."
   ]
  },
  {
   "cell_type": "code",
   "execution_count": 271,
   "metadata": {},
   "outputs": [
    {
     "data": {
      "text/html": [
       "<div>\n",
       "<style scoped>\n",
       "    .dataframe tbody tr th:only-of-type {\n",
       "        vertical-align: middle;\n",
       "    }\n",
       "\n",
       "    .dataframe tbody tr th {\n",
       "        vertical-align: top;\n",
       "    }\n",
       "\n",
       "    .dataframe thead th {\n",
       "        text-align: right;\n",
       "    }\n",
       "</style>\n",
       "<table border=\"1\" class=\"dataframe\">\n",
       "  <thead>\n",
       "    <tr style=\"text-align: right;\">\n",
       "      <th></th>\n",
       "      <th>feature</th>\n",
       "      <th>A/B</th>\n",
       "      <th>A_v1</th>\n",
       "      <th>B_v1</th>\n",
       "    </tr>\n",
       "  </thead>\n",
       "  <tbody>\n",
       "    <tr>\n",
       "      <td>0</td>\n",
       "      <td>0.0</td>\n",
       "      <td>23/60</td>\n",
       "      <td>23</td>\n",
       "      <td>60</td>\n",
       "    </tr>\n",
       "    <tr>\n",
       "      <td>1</td>\n",
       "      <td>0.0</td>\n",
       "      <td>65/76</td>\n",
       "      <td>65</td>\n",
       "      <td>76</td>\n",
       "    </tr>\n",
       "    <tr>\n",
       "      <td>2</td>\n",
       "      <td>0.0</td>\n",
       "      <td>66/53</td>\n",
       "      <td>66</td>\n",
       "      <td>53</td>\n",
       "    </tr>\n",
       "    <tr>\n",
       "      <td>3</td>\n",
       "      <td>0.0</td>\n",
       "      <td>57/53</td>\n",
       "      <td>57</td>\n",
       "      <td>53</td>\n",
       "    </tr>\n",
       "    <tr>\n",
       "      <td>4</td>\n",
       "      <td>0.0</td>\n",
       "      <td>85/18</td>\n",
       "      <td>85</td>\n",
       "      <td>18</td>\n",
       "    </tr>\n",
       "  </tbody>\n",
       "</table>\n",
       "</div>"
      ],
      "text/plain": [
       "   feature    A/B A_v1 B_v1\n",
       "0      0.0  23/60   23   60\n",
       "1      0.0  65/76   65   76\n",
       "2      0.0  66/53   66   53\n",
       "3      0.0  57/53   57   53\n",
       "4      0.0  85/18   85   18"
      ]
     },
     "execution_count": 271,
     "metadata": {},
     "output_type": "execute_result"
    }
   ],
   "source": [
    "df = pd.DataFrame({\"feature\": [0.0] * 5, \"A/B\": [\"23/60\", \"65/76\", \"66/53\", \"57/53\", \"85/18\"]})\n",
    "df[[\"A_v1\", \"B_v1\"]] = df[\"A/B\"].str.split(\"/\", expand = True)\n",
    "df"
   ]
  },
  {
   "cell_type": "markdown",
   "metadata": {},
   "source": [
    "11. Заполните один кортеж десятью случайными целыми числами от 0 до 5 включительно.\n",
    "Также заполните второй кортеж числами от -5  до 0. Объедините два кортежа с помощью оператора +, создав тем самым третий кортеж. С помощью метода кортежа count()  определите в нем количество\n",
    "нулей. Выведите на экран третий кортеж и количество нулей в нем.\n"
   ]
  },
  {
   "cell_type": "code",
   "execution_count": 339,
   "metadata": {},
   "outputs": [
    {
     "name": "stdout",
     "output_type": "stream",
     "text": [
      "Третий кортеж (объединение первого и второго): (2, 0, 3, 3, 3, 4, 2, 1, 5, 0, -4, -5, -4, -4, -1, 0, -5, -2, -4, -1)\n",
      "В третьем кортеже всего 3 нуля(ей).\n"
     ]
    }
   ],
   "source": [
    "a = tuple(np.random.randint(0,6,10))\n",
    "b = tuple(np.random.randint(-5, 1, 10))\n",
    "print(f\"Третий кортеж (объединение первого и второго): {a + b}\")\n",
    "print(f\"В третьем кортеже всего {(a + b).count(0)} нуля(ей).\")"
   ]
  },
  {
   "cell_type": "markdown",
   "metadata": {},
   "source": [
    "12. Создайте словарь, связав его с переменной school, и наполните данными, которые бы отражали количество учащихся в разных классах (1а, 1б, 2б, 6а, 7в, и т.п.). Внесите изменения в словарь согласно следующему:\n",
    "\n",
    "а) в одном из классов изменилось количество учащихся\n",
    "\n",
    "б) в школе появился новый класс\n",
    "\n",
    "в) в школе был расформирован (удален) другой класс\n",
    "\n",
    "Вычислите общее количество учащихся в новой школе."
   ]
  },
  {
   "cell_type": "code",
   "execution_count": 358,
   "metadata": {},
   "outputs": [
    {
     "data": {
      "text/plain": [
       "{'1a': 30, '1b': 28, '2b': 21, '6a': 54, '7b': 34}"
      ]
     },
     "execution_count": 358,
     "metadata": {},
     "output_type": "execute_result"
    }
   ],
   "source": [
    "school = {\"1a\": 30, \"1b\": 28, \"2b\": 21, \"6a\": 54, \"7b\": 34} # заносим данные\n",
    "school"
   ]
  },
  {
   "cell_type": "code",
   "execution_count": 359,
   "metadata": {},
   "outputs": [
    {
     "data": {
      "text/plain": [
       "{'1a': 30, '1b': 28, '2b': 21, '6a': 35, '7b': 34}"
      ]
     },
     "execution_count": 359,
     "metadata": {},
     "output_type": "execute_result"
    }
   ],
   "source": [
    "# пусть в классе 6a изменилось количество учащихся (отчислили 19 человек)\n",
    "school[\"6a\"] -= 19\n",
    "school"
   ]
  },
  {
   "cell_type": "code",
   "execution_count": 360,
   "metadata": {},
   "outputs": [
    {
     "data": {
      "text/plain": [
       "{'1a': 30, '1b': 28, '2b': 21, '6a': 35, '7b': 34, '11a': 32}"
      ]
     },
     "execution_count": 360,
     "metadata": {},
     "output_type": "execute_result"
    }
   ],
   "source": [
    "# пусть в школе появился новый 11a класс, численностью 32 человека\n",
    "school[\"11a\"] = 32\n",
    "school"
   ]
  },
  {
   "cell_type": "code",
   "execution_count": 361,
   "metadata": {},
   "outputs": [
    {
     "data": {
      "text/plain": [
       "{'1a': 30, '1b': 28, '6a': 35, '7b': 34, '11a': 32}"
      ]
     },
     "execution_count": 361,
     "metadata": {},
     "output_type": "execute_result"
    }
   ],
   "source": [
    "# пусть в школе был расформирован 2b класс\n",
    "school.pop(\"2b\")\n",
    "school"
   ]
  },
  {
   "cell_type": "code",
   "execution_count": null,
   "metadata": {},
   "outputs": [],
   "source": []
  }
 ],
 "metadata": {
  "kernelspec": {
   "display_name": "Python 3",
   "language": "python",
   "name": "python3"
  },
  "language_info": {
   "codemirror_mode": {
    "name": "ipython",
    "version": 3
   },
   "file_extension": ".py",
   "mimetype": "text/x-python",
   "name": "python",
   "nbconvert_exporter": "python",
   "pygments_lexer": "ipython3",
   "version": "3.7.4"
  }
 },
 "nbformat": 4,
 "nbformat_minor": 2
}
