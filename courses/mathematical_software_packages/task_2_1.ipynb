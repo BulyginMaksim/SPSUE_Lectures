{
 "cells": [
  {
   "cell_type": "code",
   "execution_count": 14,
   "metadata": {},
   "outputs": [],
   "source": [
    "import pandas as pd\n",
    "import numpy as np"
   ]
  },
  {
   "cell_type": "markdown",
   "metadata": {},
   "source": [
    "# Задание 1."
   ]
  },
  {
   "cell_type": "markdown",
   "metadata": {},
   "source": [
    "## 1.1."
   ]
  },
  {
   "cell_type": "code",
   "execution_count": 23,
   "metadata": {},
   "outputs": [],
   "source": [
    "# 1) Создайте объекты Series, используя различные способы \n",
    "# питоновские списки\n",
    "s1 = pd.Series([\"M\", \"F\", \"F\", \"M\", \"F\"])\n",
    "# словарь\n",
    "s2 = pd.Series({0: 32, 1: 45, 2: 25, 3: 39, 4: 59})\n",
    "# ndarray\n",
    "s3 = pd.Series(np.array([5, 3, 3, 3, 2]))\n",
    "s4 = pd.Series(np.array([4, 5, 5, 3, 2]))\n",
    "s5 = pd.Series(np.array([5, 2, 5, 4, 1]))\n",
    "s6 = pd.Series(np.array([5, 5, 5, 3, 2]))\n",
    "s7 = pd.Series(np.array([5, 5, 2, 4, 1]))"
   ]
  },
  {
   "cell_type": "code",
   "execution_count": 25,
   "metadata": {},
   "outputs": [
    {
     "data": {
      "text/html": [
       "<div>\n",
       "<style scoped>\n",
       "    .dataframe tbody tr th:only-of-type {\n",
       "        vertical-align: middle;\n",
       "    }\n",
       "\n",
       "    .dataframe tbody tr th {\n",
       "        vertical-align: top;\n",
       "    }\n",
       "\n",
       "    .dataframe thead th {\n",
       "        text-align: right;\n",
       "    }\n",
       "</style>\n",
       "<table border=\"1\" class=\"dataframe\">\n",
       "  <thead>\n",
       "    <tr style=\"text-align: right;\">\n",
       "      <th></th>\n",
       "      <th>Gender</th>\n",
       "    </tr>\n",
       "  </thead>\n",
       "  <tbody>\n",
       "    <tr>\n",
       "      <td>0</td>\n",
       "      <td>5</td>\n",
       "    </tr>\n",
       "    <tr>\n",
       "      <td>1</td>\n",
       "      <td>3</td>\n",
       "    </tr>\n",
       "    <tr>\n",
       "      <td>2</td>\n",
       "      <td>3</td>\n",
       "    </tr>\n",
       "    <tr>\n",
       "      <td>3</td>\n",
       "      <td>3</td>\n",
       "    </tr>\n",
       "    <tr>\n",
       "      <td>4</td>\n",
       "      <td>2</td>\n",
       "    </tr>\n",
       "  </tbody>\n",
       "</table>\n",
       "</div>"
      ],
      "text/plain": [
       "   Gender\n",
       "0       5\n",
       "1       3\n",
       "2       3\n",
       "3       3\n",
       "4       2"
      ]
     },
     "execution_count": 25,
     "metadata": {},
     "output_type": "execute_result"
    }
   ],
   "source": [
    "s = np.array([5, 3, 3, 3, 2])\n",
    "d = {\"Gender\":s}\n",
    "df = pd.DataFrame(d)\n",
    "df"
   ]
  },
  {
   "cell_type": "code",
   "execution_count": 16,
   "metadata": {},
   "outputs": [
    {
     "name": "stdout",
     "output_type": "stream",
     "text": [
      "Среднее значение Возраста равно 40.0\n"
     ]
    }
   ],
   "source": [
    "# 2) Вычислить среднее значение Возраста\n",
    "print(f\"Среднее значение Возраста равно {np.mean(s2)}\")"
   ]
  },
  {
   "cell_type": "code",
   "execution_count": 17,
   "metadata": {},
   "outputs": [
    {
     "name": "stdout",
     "output_type": "stream",
     "text": [
      "Женщин всего 3, а мужчин 2, поэтому женщин больше.\n"
     ]
    }
   ],
   "source": [
    "# 3) Кого больше, мужчин или женщин?\n",
    "print(f\"Женщин всего {len(s1[s1 == 'F'])}, а мужчин {len(s1[s1 == 'M'])}, поэтому женщин больше.\")"
   ]
  },
  {
   "cell_type": "markdown",
   "metadata": {},
   "source": [
    "## 1.2."
   ]
  },
  {
   "cell_type": "code",
   "execution_count": 18,
   "metadata": {},
   "outputs": [
    {
     "data": {
      "text/plain": [
       "array([4.8, 4. , 4. , 3.4, 1.6])"
      ]
     },
     "execution_count": 18,
     "metadata": {},
     "output_type": "execute_result"
    }
   ],
   "source": [
    "# единый усредненный показатель лояльности к начальству\n",
    "means = np.mean(np.array([s3,s4,s5,s6,s7]).T, axis = 1)\n",
    "means"
   ]
  },
  {
   "cell_type": "code",
   "execution_count": 19,
   "metadata": {},
   "outputs": [
    {
     "data": {
      "text/plain": [
       "M    4.8\n",
       "F    4.0\n",
       "F    4.0\n",
       "M    3.4\n",
       "F    1.6\n",
       "dtype: float64"
      ]
     },
     "execution_count": 19,
     "metadata": {},
     "output_type": "execute_result"
    }
   ],
   "source": [
    "p = pd.Series(means, s1)\n",
    "p"
   ]
  },
  {
   "cell_type": "code",
   "execution_count": 20,
   "metadata": {},
   "outputs": [
    {
     "name": "stdout",
     "output_type": "stream",
     "text": [
      "У женщин средняя степень лояльности 3.2, а у мужчин 4.1,поэтому мужчины более лояльны к вышестоящему начальству.\n"
     ]
    }
   ],
   "source": [
    "print(f\"У женщин средняя степень лояльности {np.round(np.mean(p.loc['F']), 2)}, а у мужчин {np.mean(p.loc['M'])},\"\n",
    "     \"поэтому мужчины более лояльны к вышестоящему начальству.\")"
   ]
  },
  {
   "cell_type": "code",
   "execution_count": 21,
   "metadata": {},
   "outputs": [
    {
     "data": {
      "text/plain": [
       "Молодой возраст    4.8\n",
       "Средний возраст    4.0\n",
       "Молодой возраст    4.0\n",
       "Молодой возраст    3.4\n",
       "Пожилой возраст    1.6\n",
       "dtype: float64"
      ]
     },
     "execution_count": 21,
     "metadata": {},
     "output_type": "execute_result"
    }
   ],
   "source": [
    "q = s2.copy()\n",
    "for i in range(len(q)):\n",
    "    if q[i] < 40:\n",
    "        q[i] = \"Молодой возраст\"\n",
    "    elif 40 <= q[i] < 50:\n",
    "        q[i] = \"Средний возраст\"\n",
    "    else:\n",
    "        q[i] = \"Пожилой возраст\"\n",
    "p = pd.Series(means, q)\n",
    "p"
   ]
  },
  {
   "cell_type": "code",
   "execution_count": 22,
   "metadata": {},
   "outputs": [
    {
     "name": "stdout",
     "output_type": "stream",
     "text": [
      "Средняя степень лояльности у Молодой возраст составляет 4.07\n",
      "Средняя степень лояльности у Средний возраст составляет 4.0\n",
      "Средняя степень лояльности у Пожилой возраст составляет 1.6\n"
     ]
    }
   ],
   "source": [
    "ages = [\"Молодой возраст\", \"Средний возраст\", \"Пожилой возраст\"]\n",
    "for i in ages:\n",
    "    print(f\"Средняя степень лояльности у {i} составляет {np.round(np.mean(p.loc[i]), 2)}\")"
   ]
  },
  {
   "cell_type": "markdown",
   "metadata": {},
   "source": [
    "Таким образом, молодые люди более лояльны к начальству, чем средние и пожилые, а люди среднего возраста более лояльны, чем пожилого возраста. То есть, наблюдается тенденция: с увеличением возраста лояльность к вышествоящему начальству уменьшается."
   ]
  },
  {
   "cell_type": "markdown",
   "metadata": {},
   "source": [
    "## 1.3."
   ]
  },
  {
   "cell_type": "code",
   "execution_count": 263,
   "metadata": {},
   "outputs": [
    {
     "data": {
      "text/html": [
       "<div>\n",
       "<style scoped>\n",
       "    .dataframe tbody tr th:only-of-type {\n",
       "        vertical-align: middle;\n",
       "    }\n",
       "\n",
       "    .dataframe tbody tr th {\n",
       "        vertical-align: top;\n",
       "    }\n",
       "\n",
       "    .dataframe thead th {\n",
       "        text-align: right;\n",
       "    }\n",
       "</style>\n",
       "<table border=\"1\" class=\"dataframe\">\n",
       "  <thead>\n",
       "    <tr style=\"text-align: right;\">\n",
       "      <th></th>\n",
       "      <th>Gender</th>\n",
       "      <th>Age</th>\n",
       "      <th>q1</th>\n",
       "      <th>q2</th>\n",
       "      <th>q3</th>\n",
       "      <th>q4</th>\n",
       "      <th>q5</th>\n",
       "    </tr>\n",
       "  </thead>\n",
       "  <tbody>\n",
       "    <tr>\n",
       "      <td>0</td>\n",
       "      <td>M</td>\n",
       "      <td>32</td>\n",
       "      <td>5</td>\n",
       "      <td>4</td>\n",
       "      <td>5</td>\n",
       "      <td>5</td>\n",
       "      <td>5</td>\n",
       "    </tr>\n",
       "    <tr>\n",
       "      <td>1</td>\n",
       "      <td>F</td>\n",
       "      <td>45</td>\n",
       "      <td>3</td>\n",
       "      <td>5</td>\n",
       "      <td>2</td>\n",
       "      <td>5</td>\n",
       "      <td>5</td>\n",
       "    </tr>\n",
       "    <tr>\n",
       "      <td>2</td>\n",
       "      <td>F</td>\n",
       "      <td>25</td>\n",
       "      <td>3</td>\n",
       "      <td>5</td>\n",
       "      <td>5</td>\n",
       "      <td>5</td>\n",
       "      <td>2</td>\n",
       "    </tr>\n",
       "    <tr>\n",
       "      <td>3</td>\n",
       "      <td>M</td>\n",
       "      <td>39</td>\n",
       "      <td>3</td>\n",
       "      <td>3</td>\n",
       "      <td>4</td>\n",
       "      <td>3</td>\n",
       "      <td>4</td>\n",
       "    </tr>\n",
       "    <tr>\n",
       "      <td>4</td>\n",
       "      <td>F</td>\n",
       "      <td>59</td>\n",
       "      <td>2</td>\n",
       "      <td>2</td>\n",
       "      <td>1</td>\n",
       "      <td>2</td>\n",
       "      <td>1</td>\n",
       "    </tr>\n",
       "  </tbody>\n",
       "</table>\n",
       "</div>"
      ],
      "text/plain": [
       "  Gender  Age  q1  q2  q3  q4  q5\n",
       "0      M   32   5   4   5   5   5\n",
       "1      F   45   3   5   2   5   5\n",
       "2      F   25   3   5   5   5   2\n",
       "3      M   39   3   3   4   3   4\n",
       "4      F   59   2   2   1   2   1"
      ]
     },
     "execution_count": 263,
     "metadata": {},
     "output_type": "execute_result"
    }
   ],
   "source": [
    "# 1) Создать DataFrame  \n",
    "d = {\"Gender\":s1, \"Age\": s2, \"q1\": s3, \"q2\": s4, \"q3\": s5,\"q4\": s6,\"q5\": s7}\n",
    "df = pd.DataFrame(d)\n",
    "df"
   ]
  },
  {
   "cell_type": "code",
   "execution_count": 264,
   "metadata": {},
   "outputs": [
    {
     "name": "stdout",
     "output_type": "stream",
     "text": [
      "  Gender  Age  q1  q2  q3  q4  q5\n",
      "0      M   32   5   4   5   5   5\n",
      "Полностью согласен по вопросу q1 мужчина\n"
     ]
    }
   ],
   "source": [
    "# 2)Кто « полностью согласен» по вопросу q1?  Это мужчина или женщина?\n",
    "print(df[df.q1 == 5])\n",
    "print(\"Полностью согласен по вопросу q1 мужчина\")"
   ]
  },
  {
   "cell_type": "code",
   "execution_count": 287,
   "metadata": {},
   "outputs": [
    {
     "name": "stdout",
     "output_type": "stream",
     "text": [
      "0\n",
      "Полностью несогласных по вопросу q1 нет\n"
     ]
    }
   ],
   "source": [
    "# 3)Есть ли  «не согласные» по вопросу q1?\n",
    "print(len(df[df.q1 == 1]))\n",
    "print(\"Полностью несогласных по вопросу q1 нет\")"
   ]
  },
  {
   "cell_type": "code",
   "execution_count": 284,
   "metadata": {},
   "outputs": [
    {
     "name": "stdout",
     "output_type": "stream",
     "text": [
      "По вопросу q4 было больше всего 'полностью несогласных'.\n"
     ]
    }
   ],
   "source": [
    "# 4)По какому вопросу было больше всего «полностью согласных»?\n",
    "q = [\"q1\", \"q2\", \"q3\", \"q4\", \"q5\"]\n",
    "qmax = 0\n",
    "m = 0 \n",
    "for i in q:\n",
    "    if m < len(df[df[i] == 5]):\n",
    "        m = len(df[df[i] == 5])\n",
    "        qmax = i\n",
    "print(f\"По вопросу {qmax} было больше всего 'полностью несогласных'.\")"
   ]
  },
  {
   "cell_type": "markdown",
   "metadata": {},
   "source": [
    "# Задание 2."
   ]
  },
  {
   "cell_type": "markdown",
   "metadata": {},
   "source": [
    "## 1. Сгенерировать массив из положительных чисел произвольной длины. Вывести элементы, которые больше среднего арифметического."
   ]
  },
  {
   "cell_type": "code",
   "execution_count": 34,
   "metadata": {},
   "outputs": [
    {
     "data": {
      "text/plain": [
       "array([2857,   54, 7234, 3635,  787,  267, 9405,   93, 4188,  705])"
      ]
     },
     "execution_count": 34,
     "metadata": {},
     "output_type": "execute_result"
    }
   ],
   "source": [
    "s = np.random.randint(1, 10000, size=10)\n",
    "s"
   ]
  },
  {
   "cell_type": "code",
   "execution_count": 35,
   "metadata": {},
   "outputs": [
    {
     "data": {
      "text/plain": [
       "array([7234, 3635, 9405, 4188])"
      ]
     },
     "execution_count": 35,
     "metadata": {},
     "output_type": "execute_result"
    }
   ],
   "source": [
    "s[s > np.mean(s)]"
   ]
  },
  {
   "cell_type": "markdown",
   "metadata": {},
   "source": [
    "## 2.\tСгенерировать массив из 20 элементов, элементы которого лежат в интервале [0, 10]. Определить количество элементов, отличающихся от минимального на 5. Найти среднее арифметическое всех четных элементов массива, стоящих на нечетных местах."
   ]
  },
  {
   "cell_type": "code",
   "execution_count": 73,
   "metadata": {},
   "outputs": [
    {
     "data": {
      "text/plain": [
       "array([8, 2, 5, 7, 6, 8, 9, 1, 4, 3, 5, 5, 6, 4, 0, 1, 0, 0, 2, 5])"
      ]
     },
     "execution_count": 73,
     "metadata": {},
     "output_type": "execute_result"
    }
   ],
   "source": [
    "# генерируем массив из 20 элементов из отрезка [0,10]\n",
    "s = np.random.randint(0, 11, size=20)\n",
    "s"
   ]
  },
  {
   "cell_type": "code",
   "execution_count": 74,
   "metadata": {},
   "outputs": [
    {
     "name": "stdout",
     "output_type": "stream",
     "text": [
      "Минимальное число в массиве: 0\n",
      "Элементы, отличающиеся от минимального (равного 0) на 5: [5 5 5 5]\n",
      "Количество элементов, отличающихся от минимального (равного 0) на 5: 4\n"
     ]
    }
   ],
   "source": [
    "print(f\"Минимальное число в массиве: {np.min(s)}\")\n",
    "print(f\"Элементы, отличающиеся от минимального (равного {np.min(s)}) на 5: {s[s - np.min(s) == 5]}\")\n",
    "print(f\"Количество элементов, отличающихся от минимального (равного {np.min(s)}) на 5: {len(s[s - np.min(s) == 5])}\")"
   ]
  },
  {
   "cell_type": "code",
   "execution_count": 75,
   "metadata": {},
   "outputs": [
    {
     "data": {
      "text/plain": [
       "array([8, 5, 6, 9, 4, 5, 6, 0, 0, 2])"
      ]
     },
     "execution_count": 75,
     "metadata": {},
     "output_type": "execute_result"
    }
   ],
   "source": [
    "# Элементы массива, стоящие на нечетных местах\n",
    "s[::2]"
   ]
  },
  {
   "cell_type": "code",
   "execution_count": 76,
   "metadata": {},
   "outputs": [
    {
     "data": {
      "text/plain": [
       "array([8, 6, 4, 6, 0, 0, 2])"
      ]
     },
     "execution_count": 76,
     "metadata": {},
     "output_type": "execute_result"
    }
   ],
   "source": [
    "# Элементы массива, стоящие на нечетных местах, которые являются четными\n",
    "s[::2][s[::2] % 2 == 0]"
   ]
  },
  {
   "cell_type": "code",
   "execution_count": 77,
   "metadata": {},
   "outputs": [
    {
     "name": "stdout",
     "output_type": "stream",
     "text": [
      "Среднее арифметическое всех четных элементов массива, стоящих на нечетных местахравно 3.71\n"
     ]
    }
   ],
   "source": [
    "print(\"Среднее арифметическое всех четных элементов массива, стоящих на нечетных местах\"\n",
    "      f\"равно {np.round(np.mean(s[::2][s[::2] % 2 == 0]), 2)}\")"
   ]
  }
 ],
 "metadata": {
  "kernelspec": {
   "display_name": "Python 3",
   "language": "python",
   "name": "python3"
  },
  "language_info": {
   "codemirror_mode": {
    "name": "ipython",
    "version": 3
   },
   "file_extension": ".py",
   "mimetype": "text/x-python",
   "name": "python",
   "nbconvert_exporter": "python",
   "pygments_lexer": "ipython3",
   "version": "3.7.4"
  }
 },
 "nbformat": 4,
 "nbformat_minor": 2
}
