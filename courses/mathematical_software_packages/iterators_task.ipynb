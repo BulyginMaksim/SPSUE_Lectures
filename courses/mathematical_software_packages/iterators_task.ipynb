{
 "cells": [
  {
   "cell_type": "markdown",
   "metadata": {},
   "source": [
    "# Упражнения.\n",
    "## Э-1813 Булыгин Максим"
   ]
  },
  {
   "cell_type": "markdown",
   "metadata": {},
   "source": [
    "### Упражнение 1. \n",
    "Дан список, который содержит положительные и отрицательные числа.\n",
    "Создайте два новых списка, один из которых содержит только положительые,\n",
    "а другой - отрицательные. Используя List Comprehensions и другие способы."
   ]
  },
  {
   "cell_type": "code",
   "execution_count": 44,
   "metadata": {},
   "outputs": [],
   "source": [
    "a = [1, 2, -1, 3, -4, -5, -6, -1, 1, 4, 10, 100];"
   ]
  },
  {
   "cell_type": "code",
   "execution_count": 45,
   "metadata": {},
   "outputs": [
    {
     "name": "stdout",
     "output_type": "stream",
     "text": [
      "[1, 2, 3, 1, 4, 10, 100]\n",
      "[-1, -4, -5, -6, -1]\n"
     ]
    }
   ],
   "source": [
    "# list comprehensions\n",
    "print([element for element in a if element > 0])\n",
    "print([element for element in a if element < 0])"
   ]
  },
  {
   "cell_type": "code",
   "execution_count": 46,
   "metadata": {},
   "outputs": [
    {
     "name": "stdout",
     "output_type": "stream",
     "text": [
      "[1, 2, 3, 1, 4, 10, 100]\n",
      "[-1, -4, -5, -6, -1]\n"
     ]
    }
   ],
   "source": [
    "# filter\n",
    "print(list(filter(lambda x: x > 0, a)))\n",
    "print(list(filter(lambda x: x < 0, a)))"
   ]
  },
  {
   "cell_type": "code",
   "execution_count": 47,
   "metadata": {},
   "outputs": [
    {
     "name": "stdout",
     "output_type": "stream",
     "text": [
      "[1, 2, 3, 1, 4, 10, 100]\n",
      "[-1, -4, -5, -6, -1]\n"
     ]
    }
   ],
   "source": [
    "# usual for\n",
    "a_1 = []\n",
    "a_2 = []\n",
    "for element in a:\n",
    "    if element > 0:\n",
    "        a_1.append(element)\n",
    "    else:\n",
    "        a_2.append(element)\n",
    "print(a_1)\n",
    "print(a_2)"
   ]
  },
  {
   "cell_type": "markdown",
   "metadata": {},
   "source": [
    "### Упражнение 2. \n",
    "Используя List Comprehensions, \n",
    "создайте список двузначных чисел, делящихся на 5"
   ]
  },
  {
   "cell_type": "code",
   "execution_count": 48,
   "metadata": {},
   "outputs": [
    {
     "data": {
      "text/plain": [
       "[10, 15, 20, 25, 30, 35, 40, 45, 50, 55, 60, 65, 70, 75, 80, 85, 90, 95]"
      ]
     },
     "execution_count": 48,
     "metadata": {},
     "output_type": "execute_result"
    }
   ],
   "source": [
    "[i for i in range(10, 100) if not i % 5 ]"
   ]
  },
  {
   "cell_type": "markdown",
   "metadata": {},
   "source": [
    "### Упражнение 3. \n",
    "Дан список [-2.5. 10.2,9.15,-3.3, 1.2]\n",
    "Создать список, заменив отрицательные числа на 0.\n",
    "Используя List Comprehensions."
   ]
  },
  {
   "cell_type": "code",
   "execution_count": 49,
   "metadata": {},
   "outputs": [
    {
     "data": {
      "text/plain": [
       "[0, 10.2, 9.15, 0, 1.2]"
      ]
     },
     "execution_count": 49,
     "metadata": {},
     "output_type": "execute_result"
    }
   ],
   "source": [
    "a = [-2.5, 10.2, 9.15, -3.3, 1.2]\n",
    "[element if element > 0 else 0 for element in a]"
   ]
  },
  {
   "cell_type": "markdown",
   "metadata": {},
   "source": [
    "### Упражнение 4.\n",
    "Создать словарь, i от 0 до n\n",
    "Ключ: значение (i: i*i).  Используя Dictionary Comprehensions"
   ]
  },
  {
   "cell_type": "code",
   "execution_count": 50,
   "metadata": {},
   "outputs": [],
   "source": [
    "def gen_dict(n):\n",
    "    return {i: i ** 2 for i in range(n + 1)}"
   ]
  },
  {
   "cell_type": "code",
   "execution_count": 51,
   "metadata": {},
   "outputs": [
    {
     "data": {
      "text/plain": [
       "{0: 0, 1: 1, 2: 4, 3: 9, 4: 16}"
      ]
     },
     "execution_count": 51,
     "metadata": {},
     "output_type": "execute_result"
    }
   ],
   "source": [
    "gen_dict(4)"
   ]
  },
  {
   "cell_type": "markdown",
   "metadata": {},
   "source": [
    "### Упражнение 5.\n",
    "Дано слово, например,  s='color'.  \n",
    "Создайте два списка, гласные и согласные буквы."
   ]
  },
  {
   "cell_type": "code",
   "execution_count": 59,
   "metadata": {},
   "outputs": [],
   "source": [
    "vowels = 'aeiou'\n",
    "s = \"color is aboba\""
   ]
  },
  {
   "cell_type": "code",
   "execution_count": null,
   "metadata": {},
   "outputs": [],
   "source": [
    "# list comprehensions\n",
    "print([char for char in s if char in vowels])\n",
    "print([char for char in s if char not in vowels and char != \" \"])"
   ]
  },
  {
   "cell_type": "code",
   "execution_count": 61,
   "metadata": {},
   "outputs": [
    {
     "name": "stdout",
     "output_type": "stream",
     "text": [
      "['o', 'o', 'i', 'a', 'o', 'a']\n",
      "['c', 'l', 'r', 's', 'b', 'b']\n"
     ]
    }
   ],
   "source": [
    "# filter\n",
    "print(list(filter(lambda x: x in 'aeiouy', s)))\n",
    "print(list(filter(lambda x: x not in 'aeiouy' and x != \" \", s)))"
   ]
  },
  {
   "cell_type": "markdown",
   "metadata": {},
   "source": [
    "### Упражнение 6.\n",
    "Создать генератор арифметической прогрессии."
   ]
  },
  {
   "cell_type": "code",
   "execution_count": 52,
   "metadata": {},
   "outputs": [],
   "source": [
    "def arithmetic_progression_generator(a_1, n, d):\n",
    "    return [a_1 + d * (m - 1) for m in range(1, n + 1)]"
   ]
  },
  {
   "cell_type": "code",
   "execution_count": 53,
   "metadata": {},
   "outputs": [
    {
     "data": {
      "text/plain": [
       "[10, 15, 20, 25, 30]"
      ]
     },
     "execution_count": 53,
     "metadata": {},
     "output_type": "execute_result"
    }
   ],
   "source": [
    "arithmetic_progression_generator(10, 5, 5)"
   ]
  }
 ],
 "metadata": {
  "kernelspec": {
   "display_name": "Python 3",
   "language": "python",
   "name": "python3"
  },
  "language_info": {
   "codemirror_mode": {
    "name": "ipython",
    "version": 3
   },
   "file_extension": ".py",
   "mimetype": "text/x-python",
   "name": "python",
   "nbconvert_exporter": "python",
   "pygments_lexer": "ipython3",
   "version": "3.7.4"
  }
 },
 "nbformat": 4,
 "nbformat_minor": 2
}
